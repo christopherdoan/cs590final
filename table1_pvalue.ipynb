{
 "cells": [
  {
   "cell_type": "code",
   "execution_count": 15,
   "id": "e9fdf157",
   "metadata": {},
   "outputs": [],
   "source": [
    "import numpy as np\n",
    "import pandas as pd\n",
    "from sklearn.linear_model import LogisticRegression"
   ]
  },
  {
   "cell_type": "code",
   "execution_count": 16,
   "id": "5eef2787",
   "metadata": {},
   "outputs": [
    {
     "name": "stdout",
     "output_type": "stream",
     "text": [
      "Index(['angina', 'DPQ020', 'OHQ850', 'SMQ020', 'WHD020', 'PAQ650', 'BPQ020',\n",
      "       'RIAGENDR', 'RIDAGEYR', 'DBQ700'],\n",
      "      dtype='object')\n"
     ]
    }
   ],
   "source": [
    "df = pd.read_csv('dataset_grade_2.csv').drop(columns= ['Unnamed: 0', 'SEQN', 'DPQ090', 'OHQ620', 'OHQ835'])\n",
    "print(df.columns)"
   ]
  },
  {
   "cell_type": "markdown",
   "id": "b2726e64",
   "metadata": {},
   "source": [
    "# Preprocessing\n"
   ]
  },
  {
   "cell_type": "code",
   "execution_count": 17,
   "id": "75b18c2b",
   "metadata": {},
   "outputs": [],
   "source": [
    "\"\"\"\n",
    "\n",
    "Put everything into X and y. Then convert everything to binary\n",
    "\n",
    "\"\"\"\n",
    "\n",
    "X = df.drop(columns= ['angina'])\n",
    "y = df['angina']\n",
    "\n",
    "gen_map ={1:1, 2:0}\n",
    "\n",
    "X['DPQ020'] = X['DPQ020'].astype(int)\n",
    "# print(X['DPQ020'].value_counts())\n",
    "X['DPQ020'] = X['DPQ020'].map({0:0, 1:1, 2:1, 3:1 })\n",
    "# print(X['DPQ020'].value_counts())\n",
    "\n",
    "X['OHQ850'] = X['OHQ850'].astype(int)\n",
    "X['OHQ850'] = X['OHQ850'].map(gen_map)\n",
    "# print(X['OHQ850'].unique())\n",
    "\n",
    "X['SMQ020'] = X['SMQ020'].astype(int)\n",
    "X['SMQ020'] = X['SMQ020'].map(gen_map)\n",
    "# print(X['SMQ020'].unique()) \n",
    "\n",
    "# print(X['WHD020'].median())\n",
    "X['WHD020_2'] = np.where(X['WHD020'] >= X['WHD020'].mean()+(X['WHD020'].std()/2), 1, 0)\n",
    "X['WHD020'] = X['WHD020_2'] \n",
    "X = X.drop(columns = ['WHD020_2'])\n",
    "# print(X['WHD020'].value_counts())\n",
    "\n",
    "X['BPQ020'] = X['BPQ020'].astype(int)\n",
    "X['BPQ020'] = X['BPQ020'].map(gen_map)\n",
    "# print(X['BPQ020'].value_counts() )\n",
    "\n",
    "\n",
    "X['PAQ650'] = X['PAQ650'].astype(int)\n",
    "X['PAQ650'] = X['PAQ650'].map(gen_map)\n",
    "# print(X['PAQ650'].value_counts() )\n",
    "\n",
    "X['RIAGENDR'] = X['RIAGENDR'].astype(int)\n",
    "X['RIAGENDR'] = X['RIAGENDR'].map(gen_map)\n",
    "# print(X['RIAGENDR'].value_counts() )\n",
    "\n",
    "X['DBQ700'] = X['DBQ700'].astype(int)\n",
    "X['DBQ700'] = X['DBQ700'].map({1:1, 2:1, 3:1, 4:0, 5:0})\n",
    "# print(X['DBQ700'].value_counts() )\n",
    "\n",
    "X['RIDAGEYR'] = X['RIDAGEYR'].astype(int)\n",
    "X['RIDAGEYR2'] = np.where(X['RIDAGEYR'] > 65, 1,0)\n",
    "X['RIDAGEYR'] =  X['RIDAGEYR2']\n",
    "X = X.drop(columns = ['RIDAGEYR2'])\n",
    "# print(X['RIDAGEYR'].value_counts())\n",
    "\n",
    "y =y.astype(int)\n"
   ]
  },
  {
   "cell_type": "code",
   "execution_count": 18,
   "id": "ca12d157",
   "metadata": {},
   "outputs": [
    {
     "name": "stdout",
     "output_type": "stream",
     "text": [
      "Index(['OHQ850', 'DPQ020', 'SMQ020', 'WHD020', 'PAQ650', 'BPQ020', 'RIAGENDR',\n",
      "       'RIDAGEYR', 'DBQ700'],\n",
      "      dtype='object')\n",
      "(560, 10)\n"
     ]
    }
   ],
   "source": [
    "\"\"\"\n",
    "\n",
    "Rearrange columns so gum disease is first\n",
    "\n",
    "\"\"\"\n",
    "\n",
    "# print(X.columns)\n",
    "X = X[['OHQ850', 'DPQ020', 'SMQ020', 'WHD020', 'PAQ650', 'BPQ020', 'RIAGENDR',\n",
    "       'RIDAGEYR', 'DBQ700']]\n",
    "print(X.columns)\n",
    "\n",
    "df = X\n",
    "df['angina'] = y\n",
    "print(df.shape)"
   ]
  },
  {
   "cell_type": "markdown",
   "id": "e5beacff",
   "metadata": {},
   "source": [
    "## Chris p-value tests"
   ]
  },
  {
   "cell_type": "code",
   "execution_count": 19,
   "id": "1307835e",
   "metadata": {},
   "outputs": [
    {
     "name": "stdout",
     "output_type": "stream",
     "text": [
      "Ttest_indResult(statistic=0.3952532624430975, pvalue=0.6930598640542266)\n",
      "Ttest_indResult(statistic=2.236531435295843, pvalue=0.026296704712637817)\n",
      "Ttest_indResult(statistic=-2.912362888678166, pvalue=0.003811846064491071)\n",
      "Ttest_indResult(statistic=1.248543265140927, pvalue=0.2131438595311664)\n",
      "Ttest_indResult(statistic=1.8346980270666844, pvalue=0.06797488978248499)\n"
     ]
    }
   ],
   "source": [
    "from scipy.stats import ttest_ind\n",
    "\n",
    "no_angina = df[df['angina'] == 0]\n",
    "angina = df[df['angina'] ==1]\n",
    "\n",
    "print(ttest_ind(angina['OHQ850'], no_angina['OHQ850'], equal_var = False))\n",
    "# print(ttest_ind(angina['DPQ020'], no_angina[''], equal_var = False))\n",
    "print(ttest_ind(angina['SMQ020'], no_angina['SMQ020'], equal_var = False))\n",
    "# print(ttest_ind(angina['WHD020'], no_angina['WHD020'], equal_var = False))\n",
    "print(ttest_ind(angina['PAQ650'], no_angina['PAQ650'], equal_var = False))\n",
    "print(ttest_ind(angina['BPQ020'], no_angina['BPQ020'], equal_var = False))\n",
    "print(ttest_ind(angina['RIAGENDR'], no_angina['RIAGENDR'], equal_var = False))\n",
    "# print(ttest_ind(angina[''], no_angina[''], equal_var = False))\n",
    "\n",
    "# oral = df[df['OHQ850'] == 1]\n",
    "# no_oral = df[df['OHQ850'] == 0]\n",
    "# print(ttest_ind(oral['angina'], no_oral['angina'], equal_var= False))"
   ]
  },
  {
   "cell_type": "code",
   "execution_count": 20,
   "id": "01e6a6ab",
   "metadata": {},
   "outputs": [
    {
     "name": "stdout",
     "output_type": "stream",
     "text": [
      "Ttest_indResult(statistic=0.39532863328730194, pvalue=0.692965993205505)\n",
      "Ttest_indResult(statistic=-2.199675340692986, pvalue=0.028837657459294987)\n",
      "Ttest_indResult(statistic=0.4686483906989167, pvalue=0.6397814852482746)\n",
      "Ttest_indResult(statistic=1.174702829819148, pvalue=0.24125054872830443)\n",
      "Ttest_indResult(statistic=-0.11608544601462935, pvalue=0.9076836909005422)\n"
     ]
    }
   ],
   "source": [
    "no_angina = df[df['OHQ850'] == 0]\n",
    "angina = df[df['OHQ850'] ==1]\n",
    "\n",
    "print(ttest_ind(angina['angina'], no_angina['angina'], equal_var = False))\n",
    "# print(ttest_ind(angina['DPQ020'], no_angina[''], equal_var = False))\n",
    "print(ttest_ind(angina['SMQ020'], no_angina['SMQ020'], equal_var = False))\n",
    "# print(ttest_ind(angina['WHD020'], no_angina['WHD020'], equal_var = False))\n",
    "print(ttest_ind(angina['PAQ650'], no_angina['PAQ650'], equal_var = False))\n",
    "print(ttest_ind(angina['BPQ020'], no_angina['BPQ020'], equal_var = False))\n",
    "print(ttest_ind(angina['RIAGENDR'], no_angina['RIAGENDR'], equal_var = False))"
   ]
  },
  {
   "cell_type": "code",
   "execution_count": null,
   "id": "463f61d6",
   "metadata": {},
   "outputs": [],
   "source": []
  }
 ],
 "metadata": {
  "kernelspec": {
   "display_name": "cs590",
   "language": "python",
   "name": "cs590"
  },
  "language_info": {
   "codemirror_mode": {
    "name": "ipython",
    "version": 3
   },
   "file_extension": ".py",
   "mimetype": "text/x-python",
   "name": "python",
   "nbconvert_exporter": "python",
   "pygments_lexer": "ipython3",
   "version": "3.9.10"
  }
 },
 "nbformat": 4,
 "nbformat_minor": 5
}
