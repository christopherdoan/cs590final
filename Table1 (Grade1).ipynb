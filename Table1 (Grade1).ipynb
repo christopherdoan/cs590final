{
 "cells": [
  {
   "cell_type": "code",
   "execution_count": 1,
   "id": "dbb39ec5",
   "metadata": {},
   "outputs": [],
   "source": [
    "import numpy as np\n",
    "import pandas as pd\n",
    "from matplotlib import pyplot as plt"
   ]
  },
  {
   "cell_type": "code",
   "execution_count": 2,
   "id": "cfcbec35",
   "metadata": {},
   "outputs": [
    {
     "name": "stdout",
     "output_type": "stream",
     "text": [
      "Index(['angina', 'DPQ020', 'OHQ850', 'SMQ020', 'WHD020', 'PAQ650', 'BPQ020',\n",
      "       'RIAGENDR', 'RIDAGEYR', 'DBQ700'],\n",
      "      dtype='object')\n"
     ]
    }
   ],
   "source": [
    "df = pd.read_csv('dataset.csv').drop(columns= ['Unnamed: 0', 'SEQN', 'DPQ090', 'OHQ620', 'OHQ835'])\n",
    "print(df.columns)\n",
    "\n",
    "\"\"\"\n",
    "\n",
    "Put everything into X and y. Then convert everything to binary\n",
    "\n",
    "\"\"\"\n",
    "\n",
    "X = df.drop(columns= ['angina'])\n",
    "y = df['angina']\n",
    "\n",
    "gen_map ={1:1, 2:0}\n",
    "\n",
    "X['DPQ020'] = X['DPQ020'].astype(int)\n",
    "# print(X['DPQ020'].value_counts())\n",
    "# X['DPQ020'] = X['DPQ020'].map({0:0, 1:1, 2:1, 3:1 })\n",
    "# print(X['DPQ020'].value_counts())\n",
    "\n",
    "X['OHQ850'] = X['OHQ850'].astype(int)\n",
    "X['OHQ850'] = X['OHQ850'].map(gen_map)\n",
    "# print(X['OHQ850'].unique())\n",
    "\n",
    "X['SMQ020'] = X['SMQ020'].astype(int)\n",
    "X['SMQ020'] = X['SMQ020'].map(gen_map)\n",
    "# print(X['SMQ020'].unique()) \n",
    "\n",
    "# print(X['WHD020'].median())\n",
    "# X['WHD020_2'] = np.where(X['WHD020'] >= X['WHD020'].mean()+(X['WHD020'].std()/2), 1, 0)\n",
    "# X['WHD020'] = X['WHD020_2'] \n",
    "# X = X.drop(columns = ['WHD020_2'])\n",
    "# print(X['WHD020'].value_counts() )\n",
    "\n",
    "X['BPQ020'] = X['BPQ020'].astype(int)\n",
    "X['BPQ020'] = X['BPQ020'].map(gen_map)\n",
    "# print(X['BPQ020'].value_counts() )\n",
    "\n",
    "\n",
    "X['PAQ650'] = X['PAQ650'].astype(int)\n",
    "X['PAQ650'] = X['PAQ650'].map(gen_map)\n",
    "# print(X['PAQ650'].value_counts() )\n",
    "\n",
    "X['RIAGENDR'] = X['RIAGENDR'].astype(int)\n",
    "X['RIAGENDR'] = X['RIAGENDR'].map(gen_map)\n",
    "# print(X['RIAGENDR'].value_counts() )\n",
    "\n",
    "X['DBQ700'] = X['DBQ700'].astype(int)\n",
    "X['DBQ700'] = X['DBQ700'] - 1\n",
    "# X['DBQ700'] = X['DBQ700'].map({1:1, 2:1, 3:1, 4:0, 5:0})\n",
    "# print(X['DBQ700'].value_counts() )\n",
    "\n",
    "# X['RIDAGEYR'] = X['RIDAGEYR'].astype(int)\n",
    "# X['RIDAGEYR2'] = np.where(X['RIDAGEYR'] > 65, 1,0)\n",
    "# X['RIDAGEYR'] =  X['RIDAGEYR2']\n",
    "# X = X.drop(columns = ['RIDAGEYR2'])\n",
    "# print(X['RIDAGEYR'].value_counts())\n",
    "\n",
    "y =y.astype(int)\n"
   ]
  },
  {
   "cell_type": "code",
   "execution_count": 3,
   "id": "cb1dff24",
   "metadata": {},
   "outputs": [],
   "source": [
    "data_df = X\n",
    "data_df['angina'] =  y\n"
   ]
  },
  {
   "cell_type": "code",
   "execution_count": 4,
   "id": "61da6a43",
   "metadata": {},
   "outputs": [
    {
     "name": "stdout",
     "output_type": "stream",
     "text": [
      "[55. 54. 41. 70. 64. 62. 66. 75. 44. 60. 80. 56. 65. 52. 50. 71. 45. 61.\n",
      " 51. 46. 43. 63. 58. 76. 73. 47. 79. 42. 77. 74. 69. 67. 49. 53. 78. 59.\n",
      " 68. 72. 57. 40. 48.]\n"
     ]
    }
   ],
   "source": [
    "print(data_df['RIDAGEYR'].unique())"
   ]
  },
  {
   "cell_type": "code",
   "execution_count": 5,
   "id": "6307ec21",
   "metadata": {},
   "outputs": [
    {
     "data": {
      "text/plain": [
       "{'whiskers': [<matplotlib.lines.Line2D at 0x129d2c1b7c0>,\n",
       "  <matplotlib.lines.Line2D at 0x129d2c1ba90>],\n",
       " 'caps': [<matplotlib.lines.Line2D at 0x129d2c1be20>,\n",
       "  <matplotlib.lines.Line2D at 0x129d2c39070>],\n",
       " 'boxes': [<matplotlib.lines.Line2D at 0x129d2c1b4f0>],\n",
       " 'medians': [<matplotlib.lines.Line2D at 0x129d2c39340>],\n",
       " 'fliers': [<matplotlib.lines.Line2D at 0x129d2c39610>],\n",
       " 'means': []}"
      ]
     },
     "execution_count": 5,
     "metadata": {},
     "output_type": "execute_result"
    },
    {
     "data": {
      "image/png": "[encoded data removed]",
      "text/plain": [
       "<Figure size 432x288 with 1 Axes>"
      ]
     },
     "metadata": {
      "needs_background": "light"
     },
     "output_type": "display_data"
    }
   ],
   "source": [
    "fig ,ax = plt.subplots()\n",
    "ax.boxplot(data_df['RIDAGEYR'])"
   ]
  },
  {
   "cell_type": "code",
   "execution_count": 6,
   "id": "98a69797",
   "metadata": {},
   "outputs": [
    {
     "name": "stdout",
     "output_type": "stream",
     "text": [
      "(119, 10)\n",
      "(165, 10)\n",
      "(150, 10)\n",
      "(126, 10)\n",
      "(52, 10)\n",
      "(81, 10)\n",
      "(79, 10)\n",
      "(62, 10)\n",
      "(67, 10)\n",
      "(84, 10)\n",
      "(71, 10)\n",
      "(64, 10)\n"
     ]
    },
    {
     "name": "stderr",
     "output_type": "stream",
     "text": [
      "C:\\Users\\chris\\AppData\\Local\\Temp\\ipykernel_18992\\3283560485.py:2: UserWarning: Boolean Series key will be reindexed to match DataFrame index.\n",
      "  print(data_df[data_df['RIDAGEYR'] > 50][data_df['RIDAGEYR']<=60].shape)\n",
      "C:\\Users\\chris\\AppData\\Local\\Temp\\ipykernel_18992\\3283560485.py:3: UserWarning: Boolean Series key will be reindexed to match DataFrame index.\n",
      "  print(data_df[data_df['RIDAGEYR'] >60][data_df['RIDAGEYR'] <=70].shape)\n",
      "C:\\Users\\chris\\AppData\\Local\\Temp\\ipykernel_18992\\3283560485.py:7: UserWarning: Boolean Series key will be reindexed to match DataFrame index.\n",
      "  print(data_df[data_df['RIDAGEYR'] <= 50][data_df['angina'] == 1].shape)\n",
      "C:\\Users\\chris\\AppData\\Local\\Temp\\ipykernel_18992\\3283560485.py:8: UserWarning: Boolean Series key will be reindexed to match DataFrame index.\n",
      "  print(data_df[data_df['RIDAGEYR'] > 50][data_df['RIDAGEYR']<=60][data_df['angina'] == 1].shape)\n",
      "C:\\Users\\chris\\AppData\\Local\\Temp\\ipykernel_18992\\3283560485.py:9: UserWarning: Boolean Series key will be reindexed to match DataFrame index.\n",
      "  print(data_df[data_df['RIDAGEYR'] >60][data_df['RIDAGEYR'] <=70][data_df['angina'] == 1].shape)\n",
      "C:\\Users\\chris\\AppData\\Local\\Temp\\ipykernel_18992\\3283560485.py:10: UserWarning: Boolean Series key will be reindexed to match DataFrame index.\n",
      "  print(data_df[data_df['RIDAGEYR'] > 70][data_df['angina'] == 1].shape)\n",
      "C:\\Users\\chris\\AppData\\Local\\Temp\\ipykernel_18992\\3283560485.py:12: UserWarning: Boolean Series key will be reindexed to match DataFrame index.\n",
      "  print(data_df[data_df['RIDAGEYR'] <= 50][data_df['angina'] == 0].shape)\n",
      "C:\\Users\\chris\\AppData\\Local\\Temp\\ipykernel_18992\\3283560485.py:13: UserWarning: Boolean Series key will be reindexed to match DataFrame index.\n",
      "  print(data_df[data_df['RIDAGEYR'] > 50][data_df['RIDAGEYR']<=60][data_df['angina'] == 0].shape)\n",
      "C:\\Users\\chris\\AppData\\Local\\Temp\\ipykernel_18992\\3283560485.py:14: UserWarning: Boolean Series key will be reindexed to match DataFrame index.\n",
      "  print(data_df[data_df['RIDAGEYR'] >60][data_df['RIDAGEYR'] <=70][data_df['angina'] == 0].shape)\n",
      "C:\\Users\\chris\\AppData\\Local\\Temp\\ipykernel_18992\\3283560485.py:15: UserWarning: Boolean Series key will be reindexed to match DataFrame index.\n",
      "  print(data_df[data_df['RIDAGEYR'] > 70][data_df['angina'] == 0].shape)\n"
     ]
    }
   ],
   "source": [
    "print(data_df[data_df['RIDAGEYR'] <= 50].shape)\n",
    "print(data_df[data_df['RIDAGEYR'] > 50][data_df['RIDAGEYR']<=60].shape)\n",
    "print(data_df[data_df['RIDAGEYR'] >60][data_df['RIDAGEYR'] <=70].shape)\n",
    "print(data_df[data_df['RIDAGEYR'] > 70].shape)\n",
    "\n",
    "# print(data_df.shape)\n",
    "print(data_df[data_df['RIDAGEYR'] <= 50][data_df['angina'] == 1].shape)\n",
    "print(data_df[data_df['RIDAGEYR'] > 50][data_df['RIDAGEYR']<=60][data_df['angina'] == 1].shape)\n",
    "print(data_df[data_df['RIDAGEYR'] >60][data_df['RIDAGEYR'] <=70][data_df['angina'] == 1].shape)\n",
    "print(data_df[data_df['RIDAGEYR'] > 70][data_df['angina'] == 1].shape)\n",
    "\n",
    "print(data_df[data_df['RIDAGEYR'] <= 50][data_df['angina'] == 0].shape)\n",
    "print(data_df[data_df['RIDAGEYR'] > 50][data_df['RIDAGEYR']<=60][data_df['angina'] == 0].shape)\n",
    "print(data_df[data_df['RIDAGEYR'] >60][data_df['RIDAGEYR'] <=70][data_df['angina'] == 0].shape)\n",
    "print(data_df[data_df['RIDAGEYR'] > 70][data_df['angina'] == 0].shape)"
   ]
  },
  {
   "cell_type": "code",
   "execution_count": 7,
   "id": "adc160bc",
   "metadata": {},
   "outputs": [
    {
     "name": "stderr",
     "output_type": "stream",
     "text": [
      "C:\\Users\\chris\\AppData\\Local\\Temp\\ipykernel_18992\\2054612886.py:4: UserWarning: Boolean Series key will be reindexed to match DataFrame index.\n",
      "  print(data_df[data_df['RIAGENDR'] ==1][data_df['angina'] == 1].shape)\n"
     ]
    },
    {
     "name": "stdout",
     "output_type": "stream",
     "text": [
      "(232, 10)\n",
      "(328, 10)\n",
      "(106, 10)\n",
      "(168, 10)\n",
      "(126, 10)\n",
      "(160, 10)\n"
     ]
    },
    {
     "name": "stderr",
     "output_type": "stream",
     "text": [
      "C:\\Users\\chris\\AppData\\Local\\Temp\\ipykernel_18992\\2054612886.py:5: UserWarning: Boolean Series key will be reindexed to match DataFrame index.\n",
      "  print(data_df[data_df['RIAGENDR'] ==0][data_df['angina'] == 1].shape)\n",
      "C:\\Users\\chris\\AppData\\Local\\Temp\\ipykernel_18992\\2054612886.py:7: UserWarning: Boolean Series key will be reindexed to match DataFrame index.\n",
      "  print(data_df[data_df['RIAGENDR'] ==1][data_df['angina'] == 0].shape)\n",
      "C:\\Users\\chris\\AppData\\Local\\Temp\\ipykernel_18992\\2054612886.py:8: UserWarning: Boolean Series key will be reindexed to match DataFrame index.\n",
      "  print(data_df[data_df['RIAGENDR'] ==0][data_df['angina'] == 0].shape)\n"
     ]
    }
   ],
   "source": [
    "print(data_df[data_df['RIAGENDR'] ==1].shape)\n",
    "print(data_df[data_df['RIAGENDR'] ==0].shape)\n",
    "\n",
    "print(data_df[data_df['RIAGENDR'] ==1][data_df['angina'] == 1].shape)\n",
    "print(data_df[data_df['RIAGENDR'] ==0][data_df['angina'] == 1].shape)\n",
    "\n",
    "print(data_df[data_df['RIAGENDR'] ==1][data_df['angina'] == 0].shape)\n",
    "print(data_df[data_df['RIAGENDR'] ==0][data_df['angina'] == 0].shape)"
   ]
  },
  {
   "cell_type": "code",
   "execution_count": 8,
   "id": "4ad6505f",
   "metadata": {},
   "outputs": [
    {
     "name": "stdout",
     "output_type": "stream",
     "text": [
      "Index(['DPQ020', 'OHQ850', 'SMQ020', 'WHD020', 'PAQ650', 'BPQ020', 'RIAGENDR',\n",
      "       'RIDAGEYR', 'DBQ700', 'angina'],\n",
      "      dtype='object')\n"
     ]
    }
   ],
   "source": [
    "print(data_df.columns)"
   ]
  },
  {
   "cell_type": "code",
   "execution_count": 9,
   "id": "4449376a",
   "metadata": {},
   "outputs": [
    {
     "name": "stdout",
     "output_type": "stream",
     "text": [
      "(385, 10)\n",
      "(175, 10)\n",
      "(186, 10)\n",
      "(88, 10)\n",
      "(199, 10)\n",
      "(87, 10)\n"
     ]
    },
    {
     "name": "stderr",
     "output_type": "stream",
     "text": [
      "C:\\Users\\chris\\AppData\\Local\\Temp\\ipykernel_18992\\1153905330.py:4: UserWarning: Boolean Series key will be reindexed to match DataFrame index.\n",
      "  print(data_df[data_df['BPQ020'] == 1][data_df['angina'] == 1].shape)\n",
      "C:\\Users\\chris\\AppData\\Local\\Temp\\ipykernel_18992\\1153905330.py:5: UserWarning: Boolean Series key will be reindexed to match DataFrame index.\n",
      "  print(data_df[data_df['BPQ020'] == 0][data_df['angina'] == 1].shape)\n",
      "C:\\Users\\chris\\AppData\\Local\\Temp\\ipykernel_18992\\1153905330.py:7: UserWarning: Boolean Series key will be reindexed to match DataFrame index.\n",
      "  print(data_df[data_df['BPQ020'] == 1][data_df['angina'] == 0].shape)\n",
      "C:\\Users\\chris\\AppData\\Local\\Temp\\ipykernel_18992\\1153905330.py:8: UserWarning: Boolean Series key will be reindexed to match DataFrame index.\n",
      "  print(data_df[data_df['BPQ020'] == 0][data_df['angina'] == 0].shape)\n"
     ]
    }
   ],
   "source": [
    "print(data_df[data_df['BPQ020'] == 1].shape)\n",
    "print(data_df[data_df['BPQ020'] == 0].shape)\n",
    "\n",
    "print(data_df[data_df['BPQ020'] == 1][data_df['angina'] == 1].shape)\n",
    "print(data_df[data_df['BPQ020'] == 0][data_df['angina'] == 1].shape)\n",
    "\n",
    "print(data_df[data_df['BPQ020'] == 1][data_df['angina'] == 0].shape)\n",
    "print(data_df[data_df['BPQ020'] == 0][data_df['angina'] == 0].shape)"
   ]
  },
  {
   "cell_type": "code",
   "execution_count": 10,
   "id": "0e27a8ad",
   "metadata": {},
   "outputs": [
    {
     "name": "stdout",
     "output_type": "stream",
     "text": [
      "(347, 10)\n",
      "(213, 10)\n",
      "(158, 10)\n",
      "(116, 10)\n"
     ]
    },
    {
     "name": "stderr",
     "output_type": "stream",
     "text": [
      "C:\\Users\\chris\\AppData\\Local\\Temp\\ipykernel_18992\\3703628675.py:4: UserWarning: Boolean Series key will be reindexed to match DataFrame index.\n",
      "  print(data_df[data_df['SMQ020'] == 1][data_df['angina'] == 1].shape)\n",
      "C:\\Users\\chris\\AppData\\Local\\Temp\\ipykernel_18992\\3703628675.py:5: UserWarning: Boolean Series key will be reindexed to match DataFrame index.\n",
      "  print(data_df[data_df['SMQ020'] == 0][data_df['angina'] == 1].shape)\n",
      "C:\\Users\\chris\\AppData\\Local\\Temp\\ipykernel_18992\\3703628675.py:7: UserWarning: Boolean Series key will be reindexed to match DataFrame index.\n",
      "  print(data_df[data_df['SMQ020'] == 1][data_df['angina'] == 0].shape)\n"
     ]
    },
    {
     "name": "stdout",
     "output_type": "stream",
     "text": [
      "(189, 10)\n",
      "(97, 10)\n"
     ]
    },
    {
     "name": "stderr",
     "output_type": "stream",
     "text": [
      "C:\\Users\\chris\\AppData\\Local\\Temp\\ipykernel_18992\\3703628675.py:8: UserWarning: Boolean Series key will be reindexed to match DataFrame index.\n",
      "  print(data_df[data_df['SMQ020'] == 0][data_df['angina'] == 0].shape)\n"
     ]
    }
   ],
   "source": [
    "print(data_df[data_df['SMQ020'] == 1].shape)\n",
    "print(data_df[data_df['SMQ020'] == 0].shape)\n",
    "\n",
    "print(data_df[data_df['SMQ020'] == 1][data_df['angina'] == 1].shape)\n",
    "print(data_df[data_df['SMQ020'] == 0][data_df['angina'] == 1].shape)\n",
    "\n",
    "print(data_df[data_df['SMQ020'] == 1][data_df['angina'] == 0].shape)\n",
    "print(data_df[data_df['SMQ020'] == 0][data_df['angina'] == 0].shape)"
   ]
  },
  {
   "cell_type": "code",
   "execution_count": 11,
   "id": "48e409c6",
   "metadata": {},
   "outputs": [
    {
     "name": "stdout",
     "output_type": "stream",
     "text": [
      "(139, 10)\n",
      "(421, 10)\n",
      "(71, 10)\n"
     ]
    },
    {
     "name": "stderr",
     "output_type": "stream",
     "text": [
      "C:\\Users\\chris\\AppData\\Local\\Temp\\ipykernel_18992\\2072859354.py:4: UserWarning: Boolean Series key will be reindexed to match DataFrame index.\n",
      "  print(data_df[data_df['OHQ850'] == 1][data_df['angina'] == 1].shape)\n",
      "C:\\Users\\chris\\AppData\\Local\\Temp\\ipykernel_18992\\2072859354.py:5: UserWarning: Boolean Series key will be reindexed to match DataFrame index.\n",
      "  print(data_df[data_df['OHQ850'] == 0][data_df['angina'] == 1].shape)\n"
     ]
    },
    {
     "name": "stdout",
     "output_type": "stream",
     "text": [
      "(203, 10)\n",
      "(68, 10)\n",
      "(218, 10)\n"
     ]
    },
    {
     "name": "stderr",
     "output_type": "stream",
     "text": [
      "C:\\Users\\chris\\AppData\\Local\\Temp\\ipykernel_18992\\2072859354.py:7: UserWarning: Boolean Series key will be reindexed to match DataFrame index.\n",
      "  print(data_df[data_df['OHQ850'] == 1][data_df['angina'] == 0].shape)\n",
      "C:\\Users\\chris\\AppData\\Local\\Temp\\ipykernel_18992\\2072859354.py:8: UserWarning: Boolean Series key will be reindexed to match DataFrame index.\n",
      "  print(data_df[data_df['OHQ850'] == 0][data_df['angina'] == 0].shape)\n"
     ]
    }
   ],
   "source": [
    "print(data_df[data_df['OHQ850'] == 1].shape)\n",
    "print(data_df[data_df['OHQ850'] == 0].shape)\n",
    "\n",
    "print(data_df[data_df['OHQ850'] == 1][data_df['angina'] == 1].shape)\n",
    "print(data_df[data_df['OHQ850'] == 0][data_df['angina'] == 1].shape)\n",
    "\n",
    "print(data_df[data_df['OHQ850'] == 1][data_df['angina'] == 0].shape)\n",
    "print(data_df[data_df['OHQ850'] == 0][data_df['angina'] == 0].shape)"
   ]
  },
  {
   "cell_type": "code",
   "execution_count": 12,
   "id": "4f64e1f2",
   "metadata": {},
   "outputs": [
    {
     "name": "stdout",
     "output_type": "stream",
     "text": [
      "(43, 10)\n",
      "(517, 10)\n",
      "(27, 10)\n"
     ]
    },
    {
     "name": "stderr",
     "output_type": "stream",
     "text": [
      "C:\\Users\\chris\\AppData\\Local\\Temp\\ipykernel_18992\\2348550560.py:4: UserWarning: Boolean Series key will be reindexed to match DataFrame index.\n",
      "  print(data_df[data_df['PAQ650'] == 1][data_df['angina'] == 1].shape)\n",
      "C:\\Users\\chris\\AppData\\Local\\Temp\\ipykernel_18992\\2348550560.py:5: UserWarning: Boolean Series key will be reindexed to match DataFrame index.\n",
      "  print(data_df[data_df['PAQ650'] == 0][data_df['angina'] == 1].shape)\n",
      "C:\\Users\\chris\\AppData\\Local\\Temp\\ipykernel_18992\\2348550560.py:7: UserWarning: Boolean Series key will be reindexed to match DataFrame index.\n",
      "  print(data_df[data_df['PAQ650'] == 1][data_df['angina'] == 0].shape)\n"
     ]
    },
    {
     "name": "stdout",
     "output_type": "stream",
     "text": [
      "(247, 10)\n",
      "(16, 10)\n",
      "(270, 10)\n"
     ]
    },
    {
     "name": "stderr",
     "output_type": "stream",
     "text": [
      "C:\\Users\\chris\\AppData\\Local\\Temp\\ipykernel_18992\\2348550560.py:8: UserWarning: Boolean Series key will be reindexed to match DataFrame index.\n",
      "  print(data_df[data_df['PAQ650'] == 0][data_df['angina'] == 0].shape)\n"
     ]
    }
   ],
   "source": [
    "print(data_df[data_df['PAQ650'] == 1].shape)\n",
    "print(data_df[data_df['PAQ650'] == 0].shape)\n",
    "\n",
    "print(data_df[data_df['PAQ650'] == 1][data_df['angina'] == 1].shape)\n",
    "print(data_df[data_df['PAQ650'] == 0][data_df['angina'] == 1].shape)\n",
    "\n",
    "print(data_df[data_df['PAQ650'] == 1][data_df['angina'] == 0].shape)\n",
    "print(data_df[data_df['PAQ650'] == 0][data_df['angina'] == 0].shape)"
   ]
  },
  {
   "cell_type": "code",
   "execution_count": 13,
   "id": "96c66186",
   "metadata": {},
   "outputs": [
    {
     "name": "stdout",
     "output_type": "stream",
     "text": [
      "[1 3 0 2]\n",
      "(273, 10)\n",
      "(159, 10)\n",
      "(63, 10)\n",
      "(65, 10)\n"
     ]
    },
    {
     "name": "stderr",
     "output_type": "stream",
     "text": [
      "C:\\Users\\chris\\AppData\\Local\\Temp\\ipykernel_18992\\1332172514.py:8: UserWarning: Boolean Series key will be reindexed to match DataFrame index.\n",
      "  print(data_df[data_df['DPQ020'] == 0][data_df['angina'] == 1].shape)\n"
     ]
    },
    {
     "name": "stdout",
     "output_type": "stream",
     "text": [
      "(148, 10)\n",
      "(74, 10)\n",
      "(33, 10)\n",
      "(19, 10)\n"
     ]
    },
    {
     "name": "stderr",
     "output_type": "stream",
     "text": [
      "C:\\Users\\chris\\AppData\\Local\\Temp\\ipykernel_18992\\1332172514.py:9: UserWarning: Boolean Series key will be reindexed to match DataFrame index.\n",
      "  print(data_df[data_df['DPQ020'] == 1][data_df['angina'] == 1].shape)\n",
      "C:\\Users\\chris\\AppData\\Local\\Temp\\ipykernel_18992\\1332172514.py:10: UserWarning: Boolean Series key will be reindexed to match DataFrame index.\n",
      "  print(data_df[data_df['DPQ020'] == 2][data_df['angina'] == 1].shape)\n",
      "C:\\Users\\chris\\AppData\\Local\\Temp\\ipykernel_18992\\1332172514.py:11: UserWarning: Boolean Series key will be reindexed to match DataFrame index.\n",
      "  print(data_df[data_df['DPQ020'] == 3][data_df['angina'] == 1].shape)\n",
      "C:\\Users\\chris\\AppData\\Local\\Temp\\ipykernel_18992\\1332172514.py:13: UserWarning: Boolean Series key will be reindexed to match DataFrame index.\n",
      "  print(data_df[data_df['DPQ020'] == 0][data_df['angina'] == 0].shape)\n"
     ]
    },
    {
     "name": "stdout",
     "output_type": "stream",
     "text": [
      "(125, 10)\n",
      "(85, 10)\n",
      "(30, 10)\n",
      "(46, 10)\n"
     ]
    },
    {
     "name": "stderr",
     "output_type": "stream",
     "text": [
      "C:\\Users\\chris\\AppData\\Local\\Temp\\ipykernel_18992\\1332172514.py:14: UserWarning: Boolean Series key will be reindexed to match DataFrame index.\n",
      "  print(data_df[data_df['DPQ020'] == 1][data_df['angina'] == 0].shape)\n",
      "C:\\Users\\chris\\AppData\\Local\\Temp\\ipykernel_18992\\1332172514.py:15: UserWarning: Boolean Series key will be reindexed to match DataFrame index.\n",
      "  print(data_df[data_df['DPQ020'] == 2][data_df['angina'] == 0].shape)\n",
      "C:\\Users\\chris\\AppData\\Local\\Temp\\ipykernel_18992\\1332172514.py:16: UserWarning: Boolean Series key will be reindexed to match DataFrame index.\n",
      "  print(data_df[data_df['DPQ020'] == 3][data_df['angina'] == 0].shape)\n"
     ]
    }
   ],
   "source": [
    "print(data_df['DPQ020'].unique())\n",
    "\n",
    "print(data_df[data_df['DPQ020'] == 0].shape)\n",
    "print(data_df[data_df['DPQ020'] == 1].shape)\n",
    "print(data_df[data_df['DPQ020'] == 2].shape)\n",
    "print(data_df[data_df['DPQ020'] == 3].shape)\n",
    "\n",
    "print(data_df[data_df['DPQ020'] == 0][data_df['angina'] == 1].shape)\n",
    "print(data_df[data_df['DPQ020'] == 1][data_df['angina'] == 1].shape)\n",
    "print(data_df[data_df['DPQ020'] == 2][data_df['angina'] == 1].shape)\n",
    "print(data_df[data_df['DPQ020'] == 3][data_df['angina'] == 1].shape)\n",
    "\n",
    "print(data_df[data_df['DPQ020'] == 0][data_df['angina'] == 0].shape)\n",
    "print(data_df[data_df['DPQ020'] == 1][data_df['angina'] == 0].shape)\n",
    "print(data_df[data_df['DPQ020'] == 2][data_df['angina'] == 0].shape)\n",
    "print(data_df[data_df['DPQ020'] == 3][data_df['angina'] == 0].shape)"
   ]
  },
  {
   "cell_type": "code",
   "execution_count": 14,
   "id": "32619b1b",
   "metadata": {},
   "outputs": [
    {
     "name": "stdout",
     "output_type": "stream",
     "text": [
      "[3 2 1 4 0]\n",
      "(20, 10)\n",
      "(82, 10)\n",
      "(197, 10)\n",
      "(180, 10)\n",
      "(81, 10)\n"
     ]
    },
    {
     "name": "stderr",
     "output_type": "stream",
     "text": [
      "C:\\Users\\chris\\AppData\\Local\\Temp\\ipykernel_18992\\4239613606.py:9: UserWarning: Boolean Series key will be reindexed to match DataFrame index.\n",
      "  print(data_df[data_df['DBQ700'] == 0][data_df['angina'] == 1].shape)\n",
      "C:\\Users\\chris\\AppData\\Local\\Temp\\ipykernel_18992\\4239613606.py:10: UserWarning: Boolean Series key will be reindexed to match DataFrame index.\n",
      "  print(data_df[data_df['DBQ700'] == 1][data_df['angina'] == 1].shape)\n"
     ]
    },
    {
     "name": "stdout",
     "output_type": "stream",
     "text": [
      "(11, 10)\n",
      "(44, 10)\n"
     ]
    },
    {
     "name": "stderr",
     "output_type": "stream",
     "text": [
      "C:\\Users\\chris\\AppData\\Local\\Temp\\ipykernel_18992\\4239613606.py:11: UserWarning: Boolean Series key will be reindexed to match DataFrame index.\n",
      "  print(data_df[data_df['DBQ700'] == 2][data_df['angina'] == 1].shape)\n"
     ]
    },
    {
     "name": "stdout",
     "output_type": "stream",
     "text": [
      "(101, 10)\n",
      "(80, 10)\n",
      "(38, 10)\n",
      "(9, 10)\n"
     ]
    },
    {
     "name": "stderr",
     "output_type": "stream",
     "text": [
      "C:\\Users\\chris\\AppData\\Local\\Temp\\ipykernel_18992\\4239613606.py:12: UserWarning: Boolean Series key will be reindexed to match DataFrame index.\n",
      "  print(data_df[data_df['DBQ700'] == 3][data_df['angina'] == 1].shape)\n",
      "C:\\Users\\chris\\AppData\\Local\\Temp\\ipykernel_18992\\4239613606.py:13: UserWarning: Boolean Series key will be reindexed to match DataFrame index.\n",
      "  print(data_df[data_df['DBQ700'] == 4][data_df['angina'] == 1].shape)\n",
      "C:\\Users\\chris\\AppData\\Local\\Temp\\ipykernel_18992\\4239613606.py:15: UserWarning: Boolean Series key will be reindexed to match DataFrame index.\n",
      "  print(data_df[data_df['DBQ700'] == 0][data_df['angina'] == 0].shape)\n",
      "C:\\Users\\chris\\AppData\\Local\\Temp\\ipykernel_18992\\4239613606.py:16: UserWarning: Boolean Series key will be reindexed to match DataFrame index.\n",
      "  print(data_df[data_df['DBQ700'] == 1][data_df['angina'] == 0].shape)\n"
     ]
    },
    {
     "name": "stdout",
     "output_type": "stream",
     "text": [
      "(38, 10)\n",
      "(96, 10)\n",
      "(100, 10)\n",
      "(43, 10)\n"
     ]
    },
    {
     "name": "stderr",
     "output_type": "stream",
     "text": [
      "C:\\Users\\chris\\AppData\\Local\\Temp\\ipykernel_18992\\4239613606.py:17: UserWarning: Boolean Series key will be reindexed to match DataFrame index.\n",
      "  print(data_df[data_df['DBQ700'] == 2][data_df['angina'] == 0].shape)\n",
      "C:\\Users\\chris\\AppData\\Local\\Temp\\ipykernel_18992\\4239613606.py:18: UserWarning: Boolean Series key will be reindexed to match DataFrame index.\n",
      "  print(data_df[data_df['DBQ700'] == 3][data_df['angina'] == 0].shape)\n",
      "C:\\Users\\chris\\AppData\\Local\\Temp\\ipykernel_18992\\4239613606.py:19: UserWarning: Boolean Series key will be reindexed to match DataFrame index.\n",
      "  print(data_df[data_df['DBQ700'] == 4][data_df['angina'] == 0].shape)\n"
     ]
    }
   ],
   "source": [
    "print(data_df['DBQ700'].unique())\n",
    "\n",
    "print(data_df[data_df['DBQ700'] == 0].shape)\n",
    "print(data_df[data_df['DBQ700'] == 1].shape)\n",
    "print(data_df[data_df['DBQ700'] == 2].shape)\n",
    "print(data_df[data_df['DBQ700'] == 3].shape)\n",
    "print(data_df[data_df['DBQ700'] == 4].shape)\n",
    "\n",
    "print(data_df[data_df['DBQ700'] == 0][data_df['angina'] == 1].shape)\n",
    "print(data_df[data_df['DBQ700'] == 1][data_df['angina'] == 1].shape)\n",
    "print(data_df[data_df['DBQ700'] == 2][data_df['angina'] == 1].shape)\n",
    "print(data_df[data_df['DBQ700'] == 3][data_df['angina'] == 1].shape)\n",
    "print(data_df[data_df['DBQ700'] == 4][data_df['angina'] == 1].shape)\n",
    "\n",
    "print(data_df[data_df['DBQ700'] == 0][data_df['angina'] == 0].shape)\n",
    "print(data_df[data_df['DBQ700'] == 1][data_df['angina'] == 0].shape)\n",
    "print(data_df[data_df['DBQ700'] == 2][data_df['angina'] == 0].shape)\n",
    "print(data_df[data_df['DBQ700'] == 3][data_df['angina'] == 0].shape)\n",
    "print(data_df[data_df['DBQ700'] == 4][data_df['angina'] == 0].shape)"
   ]
  },
  {
   "cell_type": "markdown",
   "id": "809323c7",
   "metadata": {},
   "source": [
    "## Testing"
   ]
  },
  {
   "cell_type": "code",
   "execution_count": 15,
   "id": "ca0caa10",
   "metadata": {},
   "outputs": [
    {
     "name": "stdout",
     "output_type": "stream",
     "text": [
      "286\n",
      "286.0\n",
      "Power_divergenceResult(statistic=6.24302814170113, pvalue=0.1817190470660374)\n"
     ]
    }
   ],
   "source": [
    "import scipy.stats as stats\n",
    "\n",
    "\n",
    "\"\"\"\n",
    "\n",
    "Chi-square testing for diet categorical variables\n",
    "\n",
    "\"\"\"\n",
    "expectation = [43, 100, 96, 38, 9]\n",
    "observed = [38, 80, 101, 44, 11]\n",
    "multiplier = np.sum(expectation)/np.sum(observed)\n",
    "observed = np.array(observed)*multiplier\n",
    "print(np.sum(expectation))\n",
    "print(np.sum(observed.sum()))\n",
    "\n",
    "print(stats.chisquare(observed, f_exp= expectation))"
   ]
  },
  {
   "cell_type": "code",
   "execution_count": 16,
   "id": "9fd96338",
   "metadata": {},
   "outputs": [
    {
     "name": "stdout",
     "output_type": "stream",
     "text": [
      "286\n",
      "286.0\n",
      "Power_divergenceResult(statistic=23.206394405314633, pvalue=3.6573903415021133e-05)\n"
     ]
    }
   ],
   "source": [
    "\n",
    "\"\"\"\n",
    "\n",
    "Chi-square testing for depression categorical variables\n",
    "\n",
    "\"\"\"\n",
    "expectation = [125, 85, 30, 46]\n",
    "observed = [148, 74, 33, 19]\n",
    "multiplier = np.sum(expectation)/np.sum(observed)\n",
    "observed = np.array(observed)*multiplier\n",
    "print(np.sum(expectation))\n",
    "print(np.sum(observed.sum()))\n",
    "\n",
    "print(stats.chisquare(observed, f_exp= expectation))"
   ]
  },
  {
   "cell_type": "code",
   "execution_count": 17,
   "id": "d03dddef",
   "metadata": {},
   "outputs": [
    {
     "name": "stdout",
     "output_type": "stream",
     "text": [
      "286\n",
      "286.0\n",
      "Power_divergenceResult(statistic=4.277156114845656, pvalue=0.2330497288102945)\n"
     ]
    }
   ],
   "source": [
    "\"\"\"\n",
    "\n",
    "Chi-square testing for age categorical variables\n",
    "\n",
    "\"\"\"\n",
    "expectation = [67, 84, 71, 64]\n",
    "observed = [52, 81, 79, 62]\n",
    "multiplier = np.sum(expectation)/np.sum(observed)\n",
    "observed = np.array(observed)*multiplier\n",
    "print(np.sum(expectation))\n",
    "print(np.sum(observed.sum()))\n",
    "\n",
    "print(stats.chisquare(observed, f_exp= expectation))"
   ]
  },
  {
   "cell_type": "code",
   "execution_count": null,
   "id": "ec190369",
   "metadata": {},
   "outputs": [],
   "source": []
  }
 ],
 "metadata": {
  "kernelspec": {
   "display_name": "cs590",
   "language": "python",
   "name": "cs590"
  },
  "language_info": {
   "codemirror_mode": {
    "name": "ipython",
    "version": 3
   },
   "file_extension": ".py",
   "mimetype": "text/x-python",
   "name": "python",
   "nbconvert_exporter": "python",
   "pygments_lexer": "ipython3",
   "version": "3.9.10"
  }
 },
 "nbformat": 4,
 "nbformat_minor": 5
}
