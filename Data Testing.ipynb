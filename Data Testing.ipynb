{
 "cells": [
  {
   "cell_type": "code",
   "execution_count": 1,
   "metadata": {},
   "outputs": [
    {
     "ename": "ImportError",
     "evalue": "cannot import name 'tukey_hsd' from 'scipy.stats' (C:\\Users\\enoch\\anaconda3\\lib\\site-packages\\scipy\\stats\\__init__.py)",
     "output_type": "error",
     "traceback": [
      "\u001b[1;31m---------------------------------------------------------------------------\u001b[0m",
      "\u001b[1;31mImportError\u001b[0m                               Traceback (most recent call last)",
      "\u001b[1;32m~\\AppData\\Local\\Temp/ipykernel_10168/3646346795.py\u001b[0m in \u001b[0;36m<module>\u001b[1;34m\u001b[0m\n\u001b[0;32m      2\u001b[0m \u001b[1;32mimport\u001b[0m \u001b[0mpandas\u001b[0m \u001b[1;32mas\u001b[0m \u001b[0mpd\u001b[0m\u001b[1;33m\u001b[0m\u001b[1;33m\u001b[0m\u001b[0m\n\u001b[0;32m      3\u001b[0m \u001b[1;32mimport\u001b[0m \u001b[0mscipy\u001b[0m\u001b[1;33m.\u001b[0m\u001b[0mstats\u001b[0m \u001b[1;32mas\u001b[0m \u001b[0mstats\u001b[0m\u001b[1;33m\u001b[0m\u001b[1;33m\u001b[0m\u001b[0m\n\u001b[1;32m----> 4\u001b[1;33m \u001b[1;32mfrom\u001b[0m \u001b[0mscipy\u001b[0m\u001b[1;33m.\u001b[0m\u001b[0mstats\u001b[0m \u001b[1;32mimport\u001b[0m \u001b[0mtukey_hsd\u001b[0m\u001b[1;33m\u001b[0m\u001b[1;33m\u001b[0m\u001b[0m\n\u001b[0m",
      "\u001b[1;31mImportError\u001b[0m: cannot import name 'tukey_hsd' from 'scipy.stats' (C:\\Users\\enoch\\anaconda3\\lib\\site-packages\\scipy\\stats\\__init__.py)"
     ]
    }
   ],
   "source": [
    "import numpy as np\n",
    "import pandas as pd\n",
    "import scipy.stats as stats\n",
    "# from scipy.stats import tukey_hsd"
   ]
  },
  {
   "cell_type": "code",
   "execution_count": 3,
   "metadata": {},
   "outputs": [
    {
     "name": "stdout",
     "output_type": "stream",
     "text": [
      "(560, 13)\n",
      "Index(['angina', 'DPQ020', 'DPQ090', 'OHQ850', 'OHQ835', 'OHQ620', 'SMQ020',\n",
      "       'WHD020', 'PAQ650', 'BPQ020', 'RIAGENDR', 'RIDAGEYR', 'DBQ700'],\n",
      "      dtype='object')\n"
     ]
    }
   ],
   "source": [
    "df = pd.read_csv('dataset.csv').drop(columns= ['Unnamed: 0', 'SEQN'])\n",
    "print(df.shape)\n",
    "print(df.columns)"
   ]
  },
  {
   "cell_type": "code",
   "execution_count": 5,
   "metadata": {},
   "outputs": [],
   "source": [
    "variable_values_dict = {}\n",
    "\"\"\"\n",
    "DPQ020 - Feeling down, depressed, or hopeless\n",
    "Categorical (0: Not at all, 1: Several days, 2: More than half the days, 3: Nearly every day)\n",
    "\"\"\"\n",
    "variable_values_dict['DPQ020'] = ('C', [0,1,2,3])\n",
    "\"\"\"\n",
    "DPQ090 - Thought you would be better off dead\n",
    "Categorical (0: Not at all, 1: Several days, 2: More than half the days, 3: Nearly every day)\n",
    "\"\"\"\n",
    "variable_values_dict['DPQ090'] = ('C', [0,1,2,3])\n",
    "\"\"\"\n",
    "OHQ850 - Ever had treatment for gum disease?\n",
    "Binary (Yes = 1/No = 2)\n",
    "\"\"\"\n",
    "variable_values_dict['OHQ850'] = ('B', [1,2])\n",
    "\"\"\"\n",
    "OHQ835 - Do you think you might have gum disease?\n",
    "Binary (Yes = 1/No = 2)\n",
    "\"\"\"\n",
    "variable_values_dict['OHQ835'] = ('B', [1,2])\n",
    "\"\"\"\n",
    "OHQ620 - How often last yr had aching in mouth?\n",
    "Categorical (1: Very often, 2:\tFairly often, 3:\tOccasionally, 4:\tHardly ever, 5:\tNever)\n",
    "\"\"\"\n",
    "variable_values_dict['OHQ620'] = ('C', [1,2,3,4,5])\n",
    "\"\"\"\n",
    "SMQ020 - Smoked at least 100 cigarettes in life\n",
    "Binary (Yes = 1/No = 2)\n",
    "\"\"\"\n",
    "variable_values_dict['SMQ020'] = ('B', [1,2])\n",
    "\"\"\"\n",
    "WHD020 - Current self-reported weight (pounds)\n",
    "Numerical (75-493)\n",
    "\"\"\"\n",
    "variable_values_dict['WHD020'] = ('N', [75, 493])\n",
    "\"\"\"\n",
    "PAQ650 - Vigorous recreational activities\n",
    "Binary (Yes = 1/No = 2)\n",
    "\"\"\"\n",
    "variable_values_dict['PAQ650'] = ('B', [1,2])\n",
    "\"\"\"\n",
    "BPQ020 - Ever told you had high blood pressure\n",
    "Binary (Yes = 1/No = 2)\n",
    "\"\"\"\n",
    "variable_values_dict['BPQ020'] = ('B', [1,2])\n",
    "\"\"\"\n",
    "RIAGENDR - Gender\n",
    "Binary (Male = 1/Female = 2)\n",
    "\"\"\"\n",
    "variable_values_dict['RIAGENDR'] = ('B', [1,2])\n",
    "\"\"\"\n",
    "RIDAGEYR - Age in years at screening\n",
    "Numerical (0-80)\n",
    "\"\"\"\n",
    "variable_values_dict['RIDAGEYR'] = ('N', [0, 80])\n",
    "\"\"\"\n",
    "DBQ700 - Age in years at screening\n",
    "Categorical (1: Excellent, 2: Very good, 3: Good, 4: Fair, 5: Poor)\n",
    "\"\"\"\n",
    "variable_values_dict['DBQ700'] = ('C', [1,2,3,4,5])"
   ]
  },
  {
   "cell_type": "markdown",
   "metadata": {},
   "source": [
    "# Statistical Testing (Stratify Features -> Compare Angina)"
   ]
  },
  {
   "cell_type": "code",
   "execution_count": 6,
   "metadata": {},
   "outputs": [
    {
     "name": "stdout",
     "output_type": "stream",
     "text": [
      "Feature: DPQ020\n",
      "Alexander Govern Test: A statistic = 8.469024676734184  pvalue = 0.014486873167674675\n",
      "Kruskal Test: H statistic = 7.9417100246351975  pvalue = 0.018857303014054323\n",
      "Feature: DPQ090\n",
      "Alexander Govern Test: A statistic = 1.2784146804350067  pvalue = 0.5277105532364073\n",
      "Kruskal Test: H statistic = 1.14874057731202  pvalue = 0.5630593220360587\n",
      "Feature: OHQ850\n",
      "Welsh's T-Test: T statistic = 0.5832839127995396 pvalue = 0.5602611572120308\n",
      "Feature: OHQ835\n",
      "Welsh's T-Test: T statistic = 0.3511181727065299 pvalue = 0.7257068996817411\n",
      "Feature: OHQ620\n",
      "Alexander Govern Test: A statistic = 4.072734104170561  pvalue = 0.3962518440833522\n",
      "Kruskal Test: H statistic = 4.072925318967743  pvalue = 0.3962264370461578\n",
      "Feature: SMQ020\n",
      "Welsh's T-Test: T statistic = -2.055222585722739 pvalue = 0.0404363762311808\n",
      "Feature: WHD020\n",
      "Feature: PAQ650\n",
      "Welsh's T-Test: T statistic = 1.9309866199321557 pvalue = 0.05921166216499908\n",
      "Feature: BPQ020\n",
      "Welsh's T-Test: T statistic = -0.43210380775388624 pvalue = 0.6659431577421024\n",
      "Feature: RIAGENDR\n",
      "Welsh's T-Test: T statistic = -1.2897577443723989 pvalue = 0.19773297117003383\n",
      "Feature: RIDAGEYR\n",
      "Feature: DBQ700\n",
      "Alexander Govern Test: A statistic = 2.999887721927085  pvalue = 0.5578441900151683\n",
      "Kruskal Test: H statistic = 3.0356152437405517  pvalue = 0.5518830669778434\n"
     ]
    }
   ],
   "source": [
    "for feature in df.columns[1:]:\n",
    "  type, variable_values = variable_values_dict[feature]\n",
    "  print(\"Feature: {}\".format(feature))\n",
    "  if type == 'B':\n",
    "    group_A = df[df[feature] == variable_values[0]]['angina']\n",
    "    group_B = df[df[feature] == variable_values[1]]['angina']\n",
    "    t_statistic, pvalue = stats.ttest_ind(group_A, group_B, equal_var=False, alternative='two-sided')\n",
    "    print(\"Welsh's T-Test: T statistic = {} pvalue = {}\".format(t_statistic, pvalue))\n",
    "  elif type == 'C':\n",
    "    groups = []\n",
    "    for variable_value in variable_values:\n",
    "      group = df[df[feature] == variable_value]['angina']\n",
    "      groups.append(df[df[feature] == variable_value]['angina']) if len(group) > 0 else None\n",
    "    result = stats.alexandergovern(*groups)\n",
    "    print('Alexander Govern Test: A statistic = {}  pvalue = {}'.format(result.statistic, result.pvalue))\n",
    "    h_statistic, pvalue = stats.kruskal(*groups)\n",
    "    print(('Kruskal Test: H statistic = {}  pvalue = {}'.format(h_statistic, pvalue)))\n",
    "    # result = tukey_hsd(*groups)\n",
    "  elif type == 'N':\n",
    "    continue    \n",
    "  "
   ]
  },
  {
   "cell_type": "markdown",
   "metadata": {},
   "source": [
    "# Statistical Testing (Stratify Angina -> Compare Features)"
   ]
  },
  {
   "cell_type": "code",
   "execution_count": null,
   "metadata": {},
   "outputs": [],
   "source": []
  }
 ],
 "metadata": {
  "interpreter": {
   "hash": "570adee5d64055f685eb7b7fc41e20c01ba970e1c794f715e5f0b3f0eede175c"
  },
  "kernelspec": {
   "display_name": "Python 3.9.7 ('base')",
   "language": "python",
   "name": "python3"
  },
  "language_info": {
   "codemirror_mode": {
    "name": "ipython",
    "version": 3
   },
   "file_extension": ".py",
   "mimetype": "text/x-python",
   "name": "python",
   "nbconvert_exporter": "python",
   "pygments_lexer": "ipython3",
   "version": "3.9.7"
  },
  "orig_nbformat": 4
 },
 "nbformat": 4,
 "nbformat_minor": 2
}
