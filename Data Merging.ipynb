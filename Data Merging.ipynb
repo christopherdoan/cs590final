{
 "cells": [
  {
   "cell_type": "code",
   "execution_count": 14,
   "id": "b6d4ac17",
   "metadata": {},
   "outputs": [],
   "source": [
    "import numpy as np\n",
    "import pandas as pd"
   ]
  },
  {
   "cell_type": "code",
   "execution_count": 15,
   "id": "dea1bdf6",
   "metadata": {},
   "outputs": [
    {
     "name": "stdout",
     "output_type": "stream",
     "text": [
      "['Angina 2013-2014 (CDQ_H).XPT', 'Angina 2017-2018 (CDQ_J).XPT', 'Blood Pressure 2017.XPT', 'Demographics DEMO_J 2017.XPT', 'Diet DBQ_J 2017.XPT', 'Mental Health - Depression Screener 2017-2018 (DPQ_J).XPT', 'Oral Health (questionnaire) 2017-2018 (OHQ_J).XPT', 'Oral Health - Dentition 2017-2018 (OHXDEN_J).XPT', 'Oral Health - Recommendation of Care 2017-2018 (OHXREF_J).XPT', 'Physical Activity 2017-2018 (PAQ_J).XPT', 'Smoking - Cigarette Use 2017-2018 (SMQ_J).XPT', 'Weight History 2017-2018 (WHQ_J).XPT']\n",
      "['Angina 2015-2016 (CDQ_I).XPT', 'Blood Pressure 2015.XPT', 'Demographics DEMO_J 2015.XPT', 'Diet DBQ_J 2015.XPT', 'Mental Health - Depression Screener 2015-2016 (DPQ_I).XPT', 'Oral Health (questionnaire) 2015-2016 (OHQ_I).XPT', 'Oral Health - Dentition 2015-2016 (OHXDEN_I).XPT', 'Oral Health - Recommendation of Care 2015-2016 (OHXREF_I)XPT', 'Physical Activity 2015-2016 (PAQ_I).XPT', 'Smoking - Cigarette Use 2015-2016 (SMQ_I).XPT', 'Weight History 2015-2016 (WHQ_I).XPT']\n"
     ]
    },
    {
     "data": {
      "text/plain": [
       "['Angina 2013-2014 (CDQ_H).XPT',\n",
       " 'Angina 2017-2018 (CDQ_J).XPT',\n",
       " 'Blood Pressure 2017.XPT',\n",
       " 'Demographics DEMO_J 2017.XPT',\n",
       " 'Diet DBQ_J 2017.XPT',\n",
       " 'Mental Health - Depression Screener 2017-2018 (DPQ_J).XPT',\n",
       " 'Oral Health (questionnaire) 2017-2018 (OHQ_J).XPT',\n",
       " 'Oral Health - Dentition 2017-2018 (OHXDEN_J).XPT',\n",
       " 'Oral Health - Recommendation of Care 2017-2018 (OHXREF_J).XPT',\n",
       " 'Physical Activity 2017-2018 (PAQ_J).XPT',\n",
       " 'Smoking - Cigarette Use 2017-2018 (SMQ_J).XPT',\n",
       " 'Weight History 2017-2018 (WHQ_J).XPT']"
      ]
     },
     "execution_count": 15,
     "metadata": {},
     "output_type": "execute_result"
    }
   ],
   "source": [
    " import os\n",
    "\n",
    "arr2015= os.listdir('data/2015')\n",
    "arr2017 =  os.listdir('data/2017')\n",
    "arr2013 =  os.listdir('data/2013')\n",
    "print(arr2017)\n",
    "print(arr2015)\n",
    "arr2017"
   ]
  },
  {
   "cell_type": "markdown",
   "id": "671a6ec1",
   "metadata": {},
   "source": [
    "Grade 1 Angina is defined as CDQ001 = 1 and CDQ002 = 1 (but CDQ003 ≠ 1) and CDQ004 = 1 and CDQ005 = 1 and CDQ006 = 1, plus either (CDQ009D = 4 or CDQ009E = 5) or (CDQ009F = 6 and CDQ009G = 7)."
   ]
  },
  {
   "cell_type": "markdown",
   "id": "ce827a7e",
   "metadata": {},
   "source": [
    "## Imports data files into Dataframes"
   ]
  },
  {
   "cell_type": "code",
   "execution_count": 16,
   "id": "2b74717e",
   "metadata": {},
   "outputs": [],
   "source": [
    "files_dir = \"data/2017/\"\n",
    "ext = \".xpt\"\n",
    "arr2017 = ['Angina 2013-2014 (CDQ_H).XPT',\n",
    " 'Angina 2017-2018 (CDQ_J).XPT',\n",
    " 'Mental Health - Depression Screener 2017-2018 (DPQ_J).XPT',\n",
    " 'Oral Health (questionnaire) 2017-2018 (OHQ_J).XPT',\n",
    " 'Oral Health - Dentition 2017-2018 (OHXDEN_J).XPT',\n",
    " 'Oral Health - Recommendation of Care 2017-2018 (OHXREF_J).XPT',\n",
    " 'Physical Activity 2017-2018 (PAQ_J).XPT',\n",
    " 'Smoking - Cigarette Use 2017-2018 (SMQ_J).XPT',\n",
    " 'Weight History 2017-2018 (WHQ_J).XPT',\n",
    "          'Blood Pressure 2017.XPT']\n",
    "\n",
    "arr2015 =['Angina 2015-2016 (CDQ_I).XPT', \n",
    "          'Mental Health - Depression Screener 2015-2016 (DPQ_I).XPT', \n",
    "          'Oral Health (questionnaire) 2015-2016 (OHQ_I).XPT', \n",
    "          'Oral Health - Dentition 2015-2016 (OHXDEN_I).XPT', \n",
    "          'Oral Health - Recommendation of Care 2015-2016 (OHXREF_I)XPT', \n",
    "          'Physical Activity 2015-2016 (PAQ_I).XPT', \n",
    "          'Smoking - Cigarette Use 2015-2016 (SMQ_I).XPT', \n",
    "          'Weight History 2015-2016 (WHQ_I).XPT']\n",
    "\n",
    "arr2013 = ['Angina 2013-2014 (CDQ_H).XPT',\n",
    " 'Mental Health - Depression Screener 2013-2014 (DPQ_H).XPT',\n",
    " 'Oral Health (questionnaire) 2013-2014 (OHQ_H).XPT',\n",
    " 'Oral Health - Dentition 2013-2014 (OHXDEN_H).XPT',\n",
    " 'Oral Health - Recommendation of Care 2013-2014 (OHXREF_H).XPT',\n",
    " 'Physical Activity 2013-2014 (PAQ_H).XPT',\n",
    " 'Smoking - Cigarette Use 2013-2014 (SMQ_H).XPT',\n",
    " 'Weight History 2013-2014 (WHQ_H).XPT']\n",
    "\n",
    "angina_arr = {}\n",
    "depression_arr = {}\n",
    "drec_arr = {}\n",
    "smoking_arr = {}\n",
    "weight_arr = {}\n",
    "phys_arr = {}\n",
    "bp_arr = {}\n",
    "demo_arr = {}\n",
    "diet_arr = {}\n",
    "\n",
    "angina_arr[\"2017\"] = pd.read_sas(files_dir + arr2017[1])\n",
    "# angina2017_df\n",
    "depression_arr[\"2017\"] = pd.read_sas(files_dir + arr2017[2])\n",
    "drec_arr[\"2017\"] = pd.read_sas(files_dir+arr2017[3])\n",
    "smoking_arr[\"2017\"] = pd.read_sas(files_dir+arr2017[7])\n",
    "weight_arr[\"2017\"] = pd.read_sas(files_dir+arr2017[8])\n",
    "phys_arr[\"2017\"] = pd.read_sas(files_dir+arr2017[6])\n",
    "bp_arr[\"2017\"] = pd.read_sas(files_dir+arr2017[9])\n",
    "demo_arr[\"2017\"]= pd.read_sas(files_dir + \"Demographics DEMO_J 2017.XPT\")\n",
    "diet_arr['2017'] = pd.read_sas(files_dir + \"Diet DBQ_J 2017.XPT\")\n",
    "\n",
    "files_dir = \"data/2015/\"\n",
    "angina_arr[\"2015\"] = pd.read_sas(files_dir + arr2015[0])\n",
    "depression_arr[\"2015\"] = pd.read_sas(files_dir + arr2015[1])\n",
    "drec_arr[\"2015\"] = pd.read_sas(files_dir+arr2015[2])\n",
    "phys_arr[\"2015\"] = pd.read_sas(files_dir+arr2015[5])\n",
    "smoking_arr[\"2015\"] = pd.read_sas(files_dir+arr2015[6])\n",
    "weight_arr[\"2015\"] = pd.read_sas(files_dir+arr2015[7])\n",
    "bp_arr[\"2015\"] = pd.read_sas(files_dir+'Blood Pressure 2015.XPT')\n",
    "demo_arr[\"2015\"]= pd.read_sas(files_dir + \"Demographics DEMO_J 2015.XPT\")\n",
    "diet_arr['2015'] = pd.read_sas(files_dir + \"Diet DBQ_J 2015.XPT\")\n",
    "\n",
    "\n",
    "files_dir = \"data/2013/\"\n",
    "angina_arr[\"2013\"] = pd.read_sas(files_dir + arr2013[0])\n",
    "depression_arr[\"2013\"] = pd.read_sas(files_dir + arr2013[1])\n",
    "drec_arr[\"2013\"] = pd.read_sas(files_dir+arr2013[2])\n",
    "phys_arr[\"2013\"] = pd.read_sas(files_dir+arr2013[5])\n",
    "smoking_arr[\"2013\"] = pd.read_sas(files_dir+arr2013[6])\n",
    "weight_arr[\"2013\"] = pd.read_sas(files_dir+arr2013[7])\n",
    "bp_arr[\"2013\"] = pd.read_sas(files_dir+'Blood Pressure 2013.XPT')\n",
    "demo_arr[\"2013\"]= pd.read_sas(files_dir + \"Demographics DEMO_J 2013.XPT\")\n",
    "diet_arr['2013'] = pd.read_sas(files_dir + \"Diet DBQ_J 2013.XPT\")\n",
    "\n",
    "merged_df = {}"
   ]
  },
  {
   "cell_type": "markdown",
   "id": "82906e0d",
   "metadata": {},
   "source": [
    "Grade 1 Angina is defined as CDQ001 = 1 and CDQ002 = 1 (but CDQ003 ≠ 1) and CDQ004 = 1 and CDQ005 = 1 and CDQ006 = 1, plus either (CDQ009D = 4 or CDQ009E = 5) or (CDQ009F = 6 and CDQ009G = 7)."
   ]
  },
  {
   "cell_type": "markdown",
   "id": "53b86576",
   "metadata": {},
   "source": [
    "## Functions to create indicator for angina + merging data by year"
   ]
  },
  {
   "cell_type": "code",
   "execution_count": 34,
   "id": "e5c6fc50",
   "metadata": {},
   "outputs": [],
   "source": [
    "#create indicator\n",
    "def angina_diag(row):\n",
    "    if row['CDQ001'] == 1 and row['CDQ002'] == 1 and row['CDQ003'] != 1 and row['CDQ004'] == 1 and row['CDQ005'] == 1 and row['CDQ006'] == 1:\n",
    "        if row['CDQ009D'] == 4 or row['CDQ009E'] ==5:\n",
    "            return True\n",
    "        if row['CDQ009F'] == 6 or row['CDQ009G'] ==7:\n",
    "            return True\n",
    "        else:\n",
    "            return False\n",
    "    else:\n",
    "        return False\n",
    "\n",
    "def create_append_angina(df):\n",
    "    check = df.dropna(subset=['CDQ001', 'CDQ002', 'CDQ003','CDQ004', 'CDQ005', 'CDQ006'])\n",
    "    check[\"angina\"] = check.apply(lambda row: angina_diag(row) ,axis=1)\n",
    "    return check\n",
    "\n",
    "def merge_data(year, check, depression_arr, drec_arr, smoking_arr, weight_arr, phys_arr, bp_arr, demo_arr, diet_arr, merged_df):\n",
    "    merge_df = check[['SEQN', 'angina']]\n",
    "\n",
    "    depr_small = depression_arr[year].dropna(subset=['DPQ020'])[['SEQN','DPQ020']]\n",
    "    drec_small = drec_arr[year].dropna(subset=['OHQ850', 'OHQ835'])[['SEQN', 'OHQ850', 'OHQ835']]\n",
    "    smoking_small = smoking_arr[year].dropna(subset=['SMQ020'])[['SEQN', 'SMQ020']]\n",
    "    wt_small = weight_arr[year].dropna(subset=['WHD020'])[['SEQN', 'WHD020']]\n",
    "    phys_small = phys_arr[year].dropna(subset=['PAQ650'])[['SEQN', 'PAQ650']]\n",
    "    bp_small = bp_arr[year].dropna(subset=['BPQ020'])[['SEQN', 'BPQ020']]\n",
    "    demo_small = demo_arr[year].dropna(subset=['RIAGENDR', 'RIDAGEYR'])[['SEQN','RIAGENDR', 'RIDAGEYR']]\n",
    "    diet_small = diet_arr[year].dropna(subset=['DBD910'])[['SEQN','DBD910']]\n",
    "\n",
    "    merge_df = merge_df.merge(depr_small, left_on='SEQN', right_on='SEQN')\n",
    "    merge_df = merge_df.merge(drec_small, left_on = 'SEQN', right_on='SEQN')\n",
    "    merge_df = merge_df.merge(smoking_small, left_on = 'SEQN', right_on='SEQN')\n",
    "    merge_df = merge_df.merge(wt_small, left_on = 'SEQN', right_on='SEQN')\n",
    "    merge_df = merge_df.merge(phys_small, left_on = 'SEQN', right_on='SEQN')\n",
    "    merge_df = merge_df.merge(bp_small, left_on = 'SEQN', right_on='SEQN')\n",
    "    merge_df = merge_df.merge(demo_small, left_on = 'SEQN', right_on='SEQN')\n",
    "    merge_df = merge_df.merge(diet_small, left_on = 'SEQN', right_on='SEQN')\n",
    "    \n",
    "    \n",
    "    print(merge_df.shape)\n",
    "    merged_df[year] = merge_df    "
   ]
  },
  {
   "cell_type": "markdown",
   "id": "2e51a4a7",
   "metadata": {},
   "source": [
    "## Merge data for 2017-2018"
   ]
  },
  {
   "cell_type": "code",
   "execution_count": 35,
   "id": "629d88fc",
   "metadata": {},
   "outputs": [
    {
     "name": "stdout",
     "output_type": "stream",
     "text": [
      "True     138\n",
      "False    129\n",
      "Name: angina, dtype: int64\n",
      "(241, 12)\n"
     ]
    },
    {
     "name": "stderr",
     "output_type": "stream",
     "text": [
      "C:\\Users\\chris\\AppData\\Local\\Temp\\ipykernel_21948\\1551650815.py:15: SettingWithCopyWarning: \n",
      "A value is trying to be set on a copy of a slice from a DataFrame.\n",
      "Try using .loc[row_indexer,col_indexer] = value instead\n",
      "\n",
      "See the caveats in the documentation: https://pandas.pydata.org/pandas-docs/stable/user_guide/indexing.html#returning-a-view-versus-a-copy\n",
      "  check[\"angina\"] = check.apply(lambda row: angina_diag(row) ,axis=1)\n"
     ]
    }
   ],
   "source": [
    "check = create_append_angina(angina_arr[\"2017\"])\n",
    "print(check[\"angina\"].value_counts())\n",
    "merge_data(\"2017\", check, depression_arr, drec_arr, smoking_arr, weight_arr, phys_arr, bp_arr,demo_arr, diet_arr, merged_df)"
   ]
  },
  {
   "cell_type": "markdown",
   "id": "1796933d",
   "metadata": {},
   "source": [
    "## Merge data for 2015-2016"
   ]
  },
  {
   "cell_type": "code",
   "execution_count": 36,
   "id": "00f9c621",
   "metadata": {},
   "outputs": [
    {
     "name": "stdout",
     "output_type": "stream",
     "text": [
      "True     132\n",
      "False    122\n",
      "Name: angina, dtype: int64\n",
      "(228, 12)\n"
     ]
    },
    {
     "name": "stderr",
     "output_type": "stream",
     "text": [
      "C:\\Users\\chris\\AppData\\Local\\Temp\\ipykernel_21948\\1551650815.py:15: SettingWithCopyWarning: \n",
      "A value is trying to be set on a copy of a slice from a DataFrame.\n",
      "Try using .loc[row_indexer,col_indexer] = value instead\n",
      "\n",
      "See the caveats in the documentation: https://pandas.pydata.org/pandas-docs/stable/user_guide/indexing.html#returning-a-view-versus-a-copy\n",
      "  check[\"angina\"] = check.apply(lambda row: angina_diag(row) ,axis=1)\n"
     ]
    }
   ],
   "source": [
    "check = create_append_angina(angina_arr[\"2015\"])\n",
    "print(check[\"angina\"].value_counts())\n",
    "merge_data(\"2015\", check, depression_arr, drec_arr, smoking_arr, weight_arr, phys_arr, bp_arr, demo_arr, diet_arr,merged_df)"
   ]
  },
  {
   "cell_type": "markdown",
   "id": "f427fe3f",
   "metadata": {},
   "source": [
    "## Merge data for 2013-2014"
   ]
  },
  {
   "cell_type": "code",
   "execution_count": 37,
   "id": "5e88234a",
   "metadata": {},
   "outputs": [
    {
     "name": "stdout",
     "output_type": "stream",
     "text": [
      "(180, 12)\n"
     ]
    },
    {
     "name": "stderr",
     "output_type": "stream",
     "text": [
      "C:\\Users\\chris\\AppData\\Local\\Temp\\ipykernel_21948\\1551650815.py:15: SettingWithCopyWarning: \n",
      "A value is trying to be set on a copy of a slice from a DataFrame.\n",
      "Try using .loc[row_indexer,col_indexer] = value instead\n",
      "\n",
      "See the caveats in the documentation: https://pandas.pydata.org/pandas-docs/stable/user_guide/indexing.html#returning-a-view-versus-a-copy\n",
      "  check[\"angina\"] = check.apply(lambda row: angina_diag(row) ,axis=1)\n"
     ]
    }
   ],
   "source": [
    "check = create_append_angina(angina_arr[\"2013\"])\n",
    "check[\"angina\"].value_counts()\n",
    "merge_data(\"2013\", check, depression_arr, drec_arr, smoking_arr, weight_arr, phys_arr, bp_arr,demo_arr, diet_arr, merged_df)"
   ]
  },
  {
   "cell_type": "markdown",
   "id": "0d7be7bd",
   "metadata": {},
   "source": [
    "## Merge all of the data together from each year"
   ]
  },
  {
   "cell_type": "code",
   "execution_count": 55,
   "id": "2524e071",
   "metadata": {},
   "outputs": [
    {
     "name": "stdout",
     "output_type": "stream",
     "text": [
      "649\n",
      "(590, 12)\n",
      "93758.0     1\n",
      "92689.0     1\n",
      "91898.0     1\n",
      "91967.0     1\n",
      "91984.0     1\n",
      "           ..\n",
      "102256.0    1\n",
      "102313.0    1\n",
      "102317.0    1\n",
      "102353.0    1\n",
      "83623.0     1\n",
      "Name: SEQN, Length: 590, dtype: int64\n"
     ]
    }
   ],
   "source": [
    "print(merged_df[\"2017\"].shape[0]+merged_df[\"2015\"].shape[0]+merged_df[\"2013\"].shape[0])\n",
    "total_merge = pd.concat((merged_df[\"2017\"], merged_df[\"2015\"]))\n",
    "total_merge = pd.concat((total_merge,merged_df[\"2013\"]))\n",
    "total_merge.drop(total_merge[total_merge['OHQ850'] ==9.0].index, inplace = True)\n",
    "total_merge.drop(total_merge[total_merge['OHQ835'] ==9.0].index, inplace = True)\n",
    "print(total_merge.shape)\n",
    "print(total_merge['SEQN'].value_counts())\n",
    "total_merge.to_csv(\"dataset.csv\")"
   ]
  },
  {
   "cell_type": "code",
   "execution_count": 49,
   "id": "002ef582",
   "metadata": {},
   "outputs": [
    {
     "name": "stdout",
     "output_type": "stream",
     "text": [
      "(590, 12)\n"
     ]
    }
   ],
   "source": [
    "print(total_merge.dropna().shape)"
   ]
  },
  {
   "cell_type": "code",
   "execution_count": 50,
   "id": "548d59a7",
   "metadata": {},
   "outputs": [
    {
     "data": {
      "text/plain": [
       "False    303\n",
       "True     287\n",
       "Name: angina, dtype: int64"
      ]
     },
     "execution_count": 50,
     "metadata": {},
     "output_type": "execute_result"
    }
   ],
   "source": [
    "total_merge['angina'].value_counts()"
   ]
  },
  {
   "cell_type": "code",
   "execution_count": 51,
   "id": "cdde2758",
   "metadata": {},
   "outputs": [
    {
     "data": {
      "text/plain": [
       "0.4846153846153846"
      ]
     },
     "execution_count": 51,
     "metadata": {},
     "output_type": "execute_result"
    }
   ],
   "source": [
    "315/(335+315)"
   ]
  },
  {
   "cell_type": "code",
   "execution_count": 52,
   "id": "c042ac92",
   "metadata": {},
   "outputs": [
    {
     "data": {
      "text/plain": [
       "0.9402985074626866"
      ]
     },
     "execution_count": 52,
     "metadata": {},
     "output_type": "execute_result"
    }
   ],
   "source": [
    "315/335"
   ]
  },
  {
   "cell_type": "code",
   "execution_count": 53,
   "id": "42068c2b",
   "metadata": {},
   "outputs": [
    {
     "name": "stdout",
     "output_type": "stream",
     "text": [
      "[1.00000000e+00 3.00000000e+00 5.39760535e-79 2.00000000e+00]\n",
      "[2. 1.]\n",
      "[1. 2.]\n",
      "[1. 2.]\n",
      "[ 170.  198.  202.  240.  192.  142.  130.  180.  230. 9999.  188.  175.\n",
      "  280.  218.  219.  128.  140.  278.  158.  155.  148. 7777.  247.  351.\n",
      "  320.  295.  190.  172.  208.  160.  325.  165.  282.  171.  110.  176.\n",
      "  215.  199.  156.  221.  150.  228.  238.  210.  193.  144.  250.  184.\n",
      "  200.  300.  216.  168.  178.  174.  182.  245.  194.  134.  161.  118.\n",
      "  135.  195.  248.  124.  185.  112.  151.  253.  163.  196.  177.  290.\n",
      "  217.  265.  246.  207.  257.  120.  133.  121.  167.  145.  220.  212.\n",
      "  262.  137.  205.  225.  157.  152.  287.  204.  319.  350.  235.  173.\n",
      "  277.  105.  127.  226.  223.  284.  484.  206.  187.  122.  255.  213.\n",
      "  179.  227.  273.  153.  260.  275.  252.  189.  322.  143.   92.  162.\n",
      "  296.  164.  316.  115.  169.  321.  136.  229.  386.  251.  267.  340.\n",
      "  354.  154.  231.  272.  256.  285.  237.  211.  147.  242.  345.  183.\n",
      "  107.  236.  149.  119.  232.  254.  298.  258.  146.  323.  114.  391.\n",
      "  244.  141.  330.]\n",
      "[2. 1.]\n",
      "[1. 2.]\n",
      "[2. 1.]\n",
      "[55. 54. 41. 70. 64. 62. 66. 61. 75. 44. 60. 45. 80. 56. 65. 52. 50. 71.\n",
      " 51. 46. 43. 63. 58. 76. 73. 47. 79. 42. 77. 74. 69. 67. 49. 53. 78. 57.\n",
      " 59. 68. 72. 40. 48.]\n",
      "[5.39760535e-79 3.00000000e+00 2.00000000e+00 1.00000000e+00\n",
      " 2.10000000e+01 4.00000000e+00 8.00000000e+00 5.00000000e+00\n",
      " 3.00000000e+01 1.00000000e+01 1.50000000e+01 7.00000000e+00\n",
      " 6.00000000e+00 2.00000000e+01 1.20000000e+01 6.00000000e+01\n",
      " 1.60000000e+01 6.40000000e+01 1.70000000e+01 9.00000000e+01]\n"
     ]
    }
   ],
   "source": [
    "print(total_merge['DPQ020'].unique())\n",
    "print(total_merge['OHQ850'].unique())\n",
    "print(total_merge['OHQ835'].unique())\n",
    "print(total_merge['SMQ020'].unique())\n",
    "print(total_merge['WHD020'].unique())\n",
    "print(total_merge['PAQ650'].unique())\n",
    "print(total_merge['BPQ020'].unique())\n",
    "print(total_merge['RIAGENDR'].unique())\n",
    "print(total_merge['RIDAGEYR'].unique())\n",
    "print(total_merge['DBD910'].unique())"
   ]
  },
  {
   "cell_type": "code",
   "execution_count": 54,
   "id": "7cbae15a",
   "metadata": {},
   "outputs": [
    {
     "name": "stdout",
     "output_type": "stream",
     "text": [
      "(590, 12)\n"
     ]
    }
   ],
   "source": [
    "total_merge.drop(total_merge[total_merge['OHQ850'] ==9.0].index, inplace = True)\n",
    "total_merge.drop(total_merge[total_merge['OHQ835'] ==9.0].index, inplace = True)\n",
    "print(total_merge.shape)"
   ]
  },
  {
   "cell_type": "code",
   "execution_count": null,
   "id": "9ce79733",
   "metadata": {},
   "outputs": [],
   "source": []
  }
 ],
 "metadata": {
  "kernelspec": {
   "display_name": "cs590",
   "language": "python",
   "name": "cs590"
  },
  "language_info": {
   "codemirror_mode": {
    "name": "ipython",
    "version": 3
   },
   "file_extension": ".py",
   "mimetype": "text/x-python",
   "name": "python",
   "nbconvert_exporter": "python",
   "pygments_lexer": "ipython3",
   "version": "3.9.10"
  }
 },
 "nbformat": 4,
 "nbformat_minor": 5
}
