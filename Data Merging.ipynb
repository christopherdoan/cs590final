{
 "cells": [
  {
   "cell_type": "code",
   "execution_count": 70,
   "id": "a6d02ee6",
   "metadata": {},
   "outputs": [],
   "source": [
    "import numpy as np\n",
    "import pandas as pd\n"
   ]
  },
  {
   "cell_type": "code",
   "execution_count": 71,
   "id": "72702e53",
   "metadata": {},
   "outputs": [
    {
     "name": "stdout",
     "output_type": "stream",
     "text": [
      "['Angina 2013-2014 (CDQ_H).XPT', 'Angina 2017-2018 (CDQ_J).XPT', 'Mental Health - Depression Screener 2017-2018 (DPQ_J).XPT', 'Oral Health (questionnaire) 2017-2018 (OHQ_J).XPT', 'Oral Health - Dentition 2017-2018 (OHXDEN_J).XPT', 'Oral Health - Recommendation of Care 2017-2018 (OHXREF_J).XPT', 'Physical Activity 2017-2018 (PAQ_J).XPT', 'Smoking - Cigarette Use 2017-2018 (SMQ_J).XPT', 'Weight History 2017-2018 (WHQ_J).XPT']\n",
      "['Angina 2015-2016 (CDQ_I).XPT', 'Mental Health - Depression Screener 2015-2016 (DPQ_I).XPT', 'Oral Health (questionnaire) 2015-2016 (OHQ_I).XPT', 'Oral Health - Dentition 2015-2016 (OHXDEN_I).XPT', 'Oral Health - Recommendation of Care 2015-2016 (OHXREF_I)XPT', 'Physical Activity 2015-2016 (PAQ_I).XPT', 'Smoking - Cigarette Use 2015-2016 (SMQ_I).XPT', 'Weight History 2015-2016 (WHQ_I).XPT']\n"
     ]
    },
    {
     "data": {
      "text/plain": [
       "['Angina 2013-2014 (CDQ_H).XPT',\n",
       " 'Mental Health - Depression Screener 2013-2014 (DPQ_H).XPT',\n",
       " 'Oral Health (questionnaire) 2013-2014 (OHQ_H).XPT',\n",
       " 'Oral Health - Dentition 2013-2014 (OHXDEN_H).XPT',\n",
       " 'Oral Health - Recommendation of Care 2013-2014 (OHXREF_H).XPT',\n",
       " 'Physical Activity 2013-2014 (PAQ_H).XPT',\n",
       " 'Smoking - Cigarette Use 2013-2014 (SMQ_H).XPT',\n",
       " 'Weight History 2013-2014 (WHQ_H).XPT']"
      ]
     },
     "execution_count": 71,
     "metadata": {},
     "output_type": "execute_result"
    }
   ],
   "source": [
    " import os\n",
    "\n",
    "arr2015= os.listdir('data/2015')\n",
    "arr2017 =  os.listdir('data/2017')\n",
    "arr2013 =  os.listdir('data/2013')\n",
    "print(arr2017)\n",
    "print(arr2015)\n",
    "arr2013"
   ]
  },
  {
   "cell_type": "markdown",
   "id": "9346f78e",
   "metadata": {},
   "source": [
    "Grade 1 Angina is defined as CDQ001 = 1 and CDQ002 = 1 (but CDQ003 ≠ 1) and CDQ004 = 1 and CDQ005 = 1 and CDQ006 = 1, plus either (CDQ009D = 4 or CDQ009E = 5) or (CDQ009F = 6 and CDQ009G = 7)."
   ]
  },
  {
   "cell_type": "code",
   "execution_count": 72,
   "id": "d6787a5d",
   "metadata": {},
   "outputs": [],
   "source": [
    "files_dir = \"data/2017/\"\n",
    "ext = \".xpt\"\n",
    "arr2017 = ['Angina 2013-2014 (CDQ_H).XPT',\n",
    " 'Angina 2017-2018 (CDQ_J).XPT',\n",
    " 'Mental Health - Depression Screener 2017-2018 (DPQ_J).XPT',\n",
    " 'Oral Health (questionnaire) 2017-2018 (OHQ_J).XPT',\n",
    " 'Oral Health - Dentition 2017-2018 (OHXDEN_J).XPT',\n",
    " 'Oral Health - Recommendation of Care 2017-2018 (OHXREF_J).XPT',\n",
    " 'Physical Activity 2017-2018 (PAQ_J).XPT',\n",
    " 'Smoking - Cigarette Use 2017-2018 (SMQ_J).XPT',\n",
    " 'Weight History 2017-2018 (WHQ_J).XPT']\n",
    "\n",
    "arr2015 =['Angina 2015-2016 (CDQ_I).XPT', \n",
    "          'Mental Health - Depression Screener 2015-2016 (DPQ_I).XPT', \n",
    "          'Oral Health (questionnaire) 2015-2016 (OHQ_I).XPT', \n",
    "          'Oral Health - Dentition 2015-2016 (OHXDEN_I).XPT', \n",
    "          'Oral Health - Recommendation of Care 2015-2016 (OHXREF_I)XPT', \n",
    "          'Physical Activity 2015-2016 (PAQ_I).XPT', \n",
    "          'Smoking - Cigarette Use 2015-2016 (SMQ_I).XPT', \n",
    "          'Weight History 2015-2016 (WHQ_I).XPT']\n",
    "\n",
    "arr2013 = ['Angina 2013-2014 (CDQ_H).XPT',\n",
    " 'Mental Health - Depression Screener 2013-2014 (DPQ_H).XPT',\n",
    " 'Oral Health (questionnaire) 2013-2014 (OHQ_H).XPT',\n",
    " 'Oral Health - Dentition 2013-2014 (OHXDEN_H).XPT',\n",
    " 'Oral Health - Recommendation of Care 2013-2014 (OHXREF_H).XPT',\n",
    " 'Physical Activity 2013-2014 (PAQ_H).XPT',\n",
    " 'Smoking - Cigarette Use 2013-2014 (SMQ_H).XPT',\n",
    " 'Weight History 2013-2014 (WHQ_H).XPT']\n",
    "\n",
    "angina2017_df = pd.read_sas(files_dir + arr2017[1])\n",
    "# angina2017_df\n",
    "depression2017_df = pd.read_sas(files_dir + arr2017[2])\n",
    "drec2017_df = pd.read_sas(files_dir+arr2017[3])\n",
    "smoking2017_df = pd.read_sas(files_dir+arr2017[7])\n",
    "weight2017_df = pd.read_sas(files_dir+arr2017[8])\n",
    "phys2017_df = pd.read_sas(files_dir+arr2017[6])\n",
    "\n",
    "files_dir = \"data/2015/\"\n",
    "angina2015_df = pd.read_sas(files_dir + arr2015[0])\n",
    "depression2015_df = pd.read_sas(files_dir + arr2015[1])\n",
    "drec2015_df = pd.read_sas(files_dir+arr2015[2])\n",
    "phys2015_df = pd.read_sas(files_dir+arr2015[5])\n",
    "smoking2015_df = pd.read_sas(files_dir+arr2015[6])\n",
    "weight2015_df = pd.read_sas(files_dir+arr2015[7])\n",
    "\n",
    "files_dir = \"data/2013/\"\n",
    "angina2013_df = pd.read_sas(files_dir + arr2013[0])\n",
    "depression2013_df = pd.read_sas(files_dir + arr2013[1])\n",
    "drec2013_df = pd.read_sas(files_dir+arr2013[2])\n",
    "phys2013_df = pd.read_sas(files_dir+arr2013[5])\n",
    "smoking2013_df = pd.read_sas(files_dir+arr2013[6])\n",
    "weight2013_df = pd.read_sas(files_dir+arr2013[7])\n"
   ]
  },
  {
   "cell_type": "markdown",
   "id": "1ae15768",
   "metadata": {},
   "source": [
    "Grade 1 Angina is defined as CDQ001 = 1 and CDQ002 = 1 (but CDQ003 ≠ 1) and CDQ004 = 1 and CDQ005 = 1 and CDQ006 = 1, plus either (CDQ009D = 4 or CDQ009E = 5) or (CDQ009F = 6 and CDQ009G = 7)."
   ]
  },
  {
   "cell_type": "code",
   "execution_count": 73,
   "id": "cd072be9",
   "metadata": {},
   "outputs": [
    {
     "name": "stderr",
     "output_type": "stream",
     "text": [
      "C:\\Users\\chris\\AppData\\Local\\Temp\\ipykernel_15832\\2405796180.py:16: SettingWithCopyWarning: \n",
      "A value is trying to be set on a copy of a slice from a DataFrame.\n",
      "Try using .loc[row_indexer,col_indexer] = value instead\n",
      "\n",
      "See the caveats in the documentation: https://pandas.pydata.org/pandas-docs/stable/user_guide/indexing.html#returning-a-view-versus-a-copy\n",
      "  check[\"angina\"] = check.apply(lambda row: angina_diag(row) ,axis=1)\n"
     ]
    },
    {
     "data": {
      "text/plain": [
       "True     138\n",
       "False    129\n",
       "Name: angina, dtype: int64"
      ]
     },
     "execution_count": 73,
     "metadata": {},
     "output_type": "execute_result"
    }
   ],
   "source": [
    "check = angina2017_df.dropna(subset=['CDQ001', 'CDQ002', 'CDQ003','CDQ004', 'CDQ005', 'CDQ006'])\n",
    "\n",
    "\n",
    "#create indicator\n",
    "def angina_diag(row):\n",
    "    if row['CDQ001'] == 1 and row['CDQ002'] == 1 and row['CDQ003'] != 1 and row['CDQ004'] == 1 and row['CDQ005'] == 1 and row['CDQ006'] == 1:\n",
    "        if row['CDQ009D'] == 4 or row['CDQ009E'] ==5:\n",
    "            return True\n",
    "        if row['CDQ009F'] == 6 or row['CDQ009G'] ==7:\n",
    "            return True\n",
    "        else:\n",
    "            return False\n",
    "    else:\n",
    "        return False\n",
    "\n",
    "check[\"angina\"] = check.apply(lambda row: angina_diag(row) ,axis=1)\n",
    "check[\"angina\"].value_counts()"
   ]
  },
  {
   "cell_type": "code",
   "execution_count": 74,
   "id": "25145de9",
   "metadata": {},
   "outputs": [
    {
     "name": "stdout",
     "output_type": "stream",
     "text": [
      "(241, 8)\n"
     ]
    }
   ],
   "source": [
    "merge_df = check[['SEQN', 'angina']]\n",
    "\n",
    "depression2017_df = depression2017_df.dropna(subset=['DPQ020'])\n",
    "depr_small = depression2017_df[['SEQN','DPQ020']]\n",
    "\n",
    "# print(drec2017_df.keys())\n",
    "drec_small = drec2017_df.dropna(subset=['OHQ850', 'OHQ835'])[['SEQN', 'OHQ850', 'OHQ835']]\n",
    "# print(smoking2017_df.keys())\n",
    "smoking_small = smoking2017_df.dropna(subset=['SMQ020'])[['SEQN', 'SMQ020']]\n",
    "wt_small = weight2017_df.dropna(subset=['WHD020'])[['SEQN', 'WHD020']]\n",
    "phys_small = phys2017_df.dropna(subset=['PAQ650'])[['SEQN', 'PAQ650']]\n",
    "\n",
    "\n",
    "merge_df = merge_df.merge(depr_small, left_on='SEQN', right_on='SEQN')\n",
    "merge_df = merge_df.merge(drec_small, left_on = 'SEQN', right_on='SEQN')\n",
    "merge_df = merge_df.merge(smoking_small, left_on = 'SEQN', right_on='SEQN')\n",
    "merge_df = merge_df.merge(wt_small, left_on = 'SEQN', right_on='SEQN')\n",
    "merge_df = merge_df.merge(phys_small, left_on = 'SEQN', right_on='SEQN')\n",
    "print(merge_df.shape)\n",
    "merge2017 = merge_df"
   ]
  },
  {
   "cell_type": "code",
   "execution_count": 75,
   "id": "c7567b15",
   "metadata": {},
   "outputs": [
    {
     "name": "stderr",
     "output_type": "stream",
     "text": [
      "C:\\Users\\chris\\AppData\\Local\\Temp\\ipykernel_15832\\2844987303.py:16: SettingWithCopyWarning: \n",
      "A value is trying to be set on a copy of a slice from a DataFrame.\n",
      "Try using .loc[row_indexer,col_indexer] = value instead\n",
      "\n",
      "See the caveats in the documentation: https://pandas.pydata.org/pandas-docs/stable/user_guide/indexing.html#returning-a-view-versus-a-copy\n",
      "  check[\"angina\"] = check.apply(lambda row: angina_diag(row) ,axis=1)\n"
     ]
    },
    {
     "data": {
      "text/plain": [
       "True     132\n",
       "False    122\n",
       "Name: angina, dtype: int64"
      ]
     },
     "execution_count": 75,
     "metadata": {},
     "output_type": "execute_result"
    }
   ],
   "source": [
    "check = angina2015_df.dropna(subset=['CDQ001', 'CDQ002', 'CDQ003','CDQ004', 'CDQ005', 'CDQ006'])\n",
    "\n",
    "\n",
    "#create indicator\n",
    "def angina_diag(row):\n",
    "    if row['CDQ001'] == 1 and row['CDQ002'] == 1 and row['CDQ003'] != 1 and row['CDQ004'] == 1 and row['CDQ005'] == 1 and row['CDQ006'] == 1:\n",
    "        if row['CDQ009D'] == 4 or row['CDQ009E'] ==5:\n",
    "            return True\n",
    "        if row['CDQ009F'] == 6 or row['CDQ009G'] ==7:\n",
    "            return True\n",
    "        else:\n",
    "            return False\n",
    "    else:\n",
    "        return False\n",
    "\n",
    "check[\"angina\"] = check.apply(lambda row: angina_diag(row) ,axis=1)\n",
    "check[\"angina\"].value_counts()"
   ]
  },
  {
   "cell_type": "code",
   "execution_count": 76,
   "id": "a3a32ace",
   "metadata": {},
   "outputs": [
    {
     "name": "stdout",
     "output_type": "stream",
     "text": [
      "(228, 8)\n"
     ]
    }
   ],
   "source": [
    "merge_df = check[['SEQN', 'angina']]\n",
    "\n",
    "depression2015_df = depression2015_df.dropna(subset=['DPQ020'])\n",
    "depr_small = depression2015_df[['SEQN','DPQ020']]\n",
    "\n",
    "# print(drec2017_df.keys())\n",
    "drec_small = drec2015_df.dropna(subset=['OHQ850', 'OHQ835'])[['SEQN', 'OHQ850', 'OHQ835']]\n",
    "# print(smoking2017_df.keys())\n",
    "smoking_small = smoking2015_df.dropna(subset=['SMQ020'])[['SEQN', 'SMQ020']]\n",
    "wt_small = weight2015_df.dropna(subset=['WHD020'])[['SEQN', 'WHD020']]\n",
    "phys_small = phys2015_df.dropna(subset=['PAQ650'])[['SEQN', 'PAQ650']]\n",
    "\n",
    "\n",
    "merge_df = merge_df.merge(depr_small, left_on='SEQN', right_on='SEQN')\n",
    "merge_df = merge_df.merge(drec_small, left_on = 'SEQN', right_on='SEQN')\n",
    "merge_df = merge_df.merge(smoking_small, left_on = 'SEQN', right_on='SEQN')\n",
    "merge_df = merge_df.merge(wt_small, left_on = 'SEQN', right_on='SEQN')\n",
    "merge_df = merge_df.merge(phys_small, left_on = 'SEQN', right_on='SEQN')\n",
    "print(merge_df.shape)\n",
    "merge2015 = merge_df"
   ]
  },
  {
   "cell_type": "code",
   "execution_count": 77,
   "id": "0aed0028",
   "metadata": {},
   "outputs": [
    {
     "name": "stderr",
     "output_type": "stream",
     "text": [
      "C:\\Users\\chris\\AppData\\Local\\Temp\\ipykernel_15832\\3808086676.py:16: SettingWithCopyWarning: \n",
      "A value is trying to be set on a copy of a slice from a DataFrame.\n",
      "Try using .loc[row_indexer,col_indexer] = value instead\n",
      "\n",
      "See the caveats in the documentation: https://pandas.pydata.org/pandas-docs/stable/user_guide/indexing.html#returning-a-view-versus-a-copy\n",
      "  check[\"angina\"] = check.apply(lambda row: angina_diag(row) ,axis=1)\n"
     ]
    },
    {
     "data": {
      "text/plain": [
       "False    124\n",
       "True      72\n",
       "Name: angina, dtype: int64"
      ]
     },
     "execution_count": 77,
     "metadata": {},
     "output_type": "execute_result"
    }
   ],
   "source": [
    "check = angina2013_df.dropna(subset=['CDQ001', 'CDQ002', 'CDQ003','CDQ004', 'CDQ005', 'CDQ006'])\n",
    "\n",
    "\n",
    "#create indicator\n",
    "def angina_diag(row):\n",
    "    if row['CDQ001'] == 1 and row['CDQ002'] == 1 and row['CDQ003'] != 1 and row['CDQ004'] == 1 and row['CDQ005'] == 1 and row['CDQ006'] == 1:\n",
    "        if row['CDQ009D'] == 4 or row['CDQ009E'] ==5:\n",
    "            return True\n",
    "        if row['CDQ009F'] == 6 or row['CDQ009G'] ==7:\n",
    "            return True\n",
    "        else:\n",
    "            return False\n",
    "    else:\n",
    "        return False\n",
    "\n",
    "check[\"angina\"] = check.apply(lambda row: angina_diag(row) ,axis=1)\n",
    "check[\"angina\"].value_counts()"
   ]
  },
  {
   "cell_type": "code",
   "execution_count": 78,
   "id": "f2220afe",
   "metadata": {},
   "outputs": [
    {
     "name": "stdout",
     "output_type": "stream",
     "text": [
      "(181, 8)\n"
     ]
    }
   ],
   "source": [
    "merge_df = check[['SEQN', 'angina']]\n",
    "\n",
    "depression2013_df = depression2013_df.dropna(subset=['DPQ020'])\n",
    "depr_small = depression2013_df[['SEQN','DPQ020']]\n",
    "\n",
    "# print(drec2017_df.keys())\n",
    "drec_small = drec2013_df.dropna(subset=['OHQ850', 'OHQ835'])[['SEQN', 'OHQ850', 'OHQ835']]\n",
    "# print(smoking2017_df.keys())\n",
    "smoking_small = smoking2013_df.dropna(subset=['SMQ020'])[['SEQN', 'SMQ020']]\n",
    "wt_small = weight2013_df.dropna(subset=['WHD020'])[['SEQN', 'WHD020']]\n",
    "phys_small = phys2013_df.dropna(subset=['PAQ650'])[['SEQN', 'PAQ650']]\n",
    "\n",
    "\n",
    "merge_df = merge_df.merge(depr_small, left_on='SEQN', right_on='SEQN')\n",
    "merge_df = merge_df.merge(drec_small, left_on = 'SEQN', right_on='SEQN')\n",
    "merge_df = merge_df.merge(smoking_small, left_on = 'SEQN', right_on='SEQN')\n",
    "merge_df = merge_df.merge(wt_small, left_on = 'SEQN', right_on='SEQN')\n",
    "merge_df = merge_df.merge(phys_small, left_on = 'SEQN', right_on='SEQN')\n",
    "print(merge_df.shape)\n",
    "merge2013 = merge_df"
   ]
  },
  {
   "cell_type": "code",
   "execution_count": 87,
   "id": "507907e6",
   "metadata": {},
   "outputs": [
    {
     "name": "stdout",
     "output_type": "stream",
     "text": [
      "650\n",
      "(650, 8)\n",
      "93758.0     1\n",
      "92689.0     1\n",
      "91886.0     1\n",
      "91898.0     1\n",
      "91967.0     1\n",
      "           ..\n",
      "102313.0    1\n",
      "102317.0    1\n",
      "102353.0    1\n",
      "102379.0    1\n",
      "83623.0     1\n",
      "Name: SEQN, Length: 650, dtype: int64\n"
     ]
    }
   ],
   "source": [
    "print(merge2017.shape[0]+merge2015.shape[0]+merge2013.shape[0])\n",
    "total_merge = pd.concat((merge2017, merge2015))\n",
    "total_merge = pd.concat((total_merge, merge2013))\n",
    "print(total_merge.shape)\n",
    "print(total_merge['SEQN'].value_counts())"
   ]
  },
  {
   "cell_type": "code",
   "execution_count": null,
   "id": "ee2756b6",
   "metadata": {},
   "outputs": [],
   "source": [
    "print(total_merge.dropna())"
   ]
  }
 ],
 "metadata": {
  "kernelspec": {
   "display_name": "cs590",
   "language": "python",
   "name": "cs590"
  },
  "language_info": {
   "codemirror_mode": {
    "name": "ipython",
    "version": 3
   },
   "file_extension": ".py",
   "mimetype": "text/x-python",
   "name": "python",
   "nbconvert_exporter": "python",
   "pygments_lexer": "ipython3",
   "version": "3.9.10"
  }
 },
 "nbformat": 4,
 "nbformat_minor": 5
}
