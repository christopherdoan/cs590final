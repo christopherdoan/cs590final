{
 "cells": [
  {
   "cell_type": "code",
   "execution_count": 1,
   "id": "b6d4ac17",
   "metadata": {},
   "outputs": [],
   "source": [
    "import numpy as np\n",
    "import pandas as pd"
   ]
  },
  {
   "cell_type": "code",
   "execution_count": 2,
   "id": "dea1bdf6",
   "metadata": {},
   "outputs": [
    {
     "name": "stdout",
     "output_type": "stream",
     "text": [
      "['Angina 2013-2014 (CDQ_H).XPT', 'Angina 2017-2018 (CDQ_J).XPT', 'Blood Pressure 2017.XPT', 'Mental Health - Depression Screener 2017-2018 (DPQ_J).XPT', 'Oral Health (questionnaire) 2017-2018 (OHQ_J).XPT', 'Oral Health - Dentition 2017-2018 (OHXDEN_J).XPT', 'Oral Health - Recommendation of Care 2017-2018 (OHXREF_J).XPT', 'Physical Activity 2017-2018 (PAQ_J).XPT', 'Smoking - Cigarette Use 2017-2018 (SMQ_J).XPT', 'Weight History 2017-2018 (WHQ_J).XPT']\n",
      "['Angina 2015-2016 (CDQ_I).XPT', 'Blood Pressure 2015.XPT', 'Mental Health - Depression Screener 2015-2016 (DPQ_I).XPT', 'Oral Health (questionnaire) 2015-2016 (OHQ_I).XPT', 'Oral Health - Dentition 2015-2016 (OHXDEN_I).XPT', 'Oral Health - Recommendation of Care 2015-2016 (OHXREF_I)XPT', 'Physical Activity 2015-2016 (PAQ_I).XPT', 'Smoking - Cigarette Use 2015-2016 (SMQ_I).XPT', 'Weight History 2015-2016 (WHQ_I).XPT']\n"
     ]
    },
    {
     "data": {
      "text/plain": [
       "['Angina 2013-2014 (CDQ_H).XPT',\n",
       " 'Angina 2017-2018 (CDQ_J).XPT',\n",
       " 'Blood Pressure 2017.XPT',\n",
       " 'Mental Health - Depression Screener 2017-2018 (DPQ_J).XPT',\n",
       " 'Oral Health (questionnaire) 2017-2018 (OHQ_J).XPT',\n",
       " 'Oral Health - Dentition 2017-2018 (OHXDEN_J).XPT',\n",
       " 'Oral Health - Recommendation of Care 2017-2018 (OHXREF_J).XPT',\n",
       " 'Physical Activity 2017-2018 (PAQ_J).XPT',\n",
       " 'Smoking - Cigarette Use 2017-2018 (SMQ_J).XPT',\n",
       " 'Weight History 2017-2018 (WHQ_J).XPT']"
      ]
     },
     "execution_count": 2,
     "metadata": {},
     "output_type": "execute_result"
    }
   ],
   "source": [
    " import os\n",
    "\n",
    "arr2015= os.listdir('data/2015')\n",
    "arr2017 =  os.listdir('data/2017')\n",
    "arr2013 =  os.listdir('data/2013')\n",
    "print(arr2017)\n",
    "print(arr2015)\n",
    "arr2017"
   ]
  },
  {
   "cell_type": "markdown",
   "id": "671a6ec1",
   "metadata": {},
   "source": [
    "Grade 1 Angina is defined as CDQ001 = 1 and CDQ002 = 1 (but CDQ003 ≠ 1) and CDQ004 = 1 and CDQ005 = 1 and CDQ006 = 1, plus either (CDQ009D = 4 or CDQ009E = 5) or (CDQ009F = 6 and CDQ009G = 7)."
   ]
  },
  {
   "cell_type": "markdown",
   "id": "ce827a7e",
   "metadata": {},
   "source": [
    "## Imports data files into Dataframes"
   ]
  },
  {
   "cell_type": "code",
   "execution_count": 3,
   "id": "2b74717e",
   "metadata": {},
   "outputs": [],
   "source": [
    "files_dir = \"data/2017/\"\n",
    "ext = \".xpt\"\n",
    "arr2017 = ['Angina 2013-2014 (CDQ_H).XPT',\n",
    " 'Angina 2017-2018 (CDQ_J).XPT',\n",
    " 'Mental Health - Depression Screener 2017-2018 (DPQ_J).XPT',\n",
    " 'Oral Health (questionnaire) 2017-2018 (OHQ_J).XPT',\n",
    " 'Oral Health - Dentition 2017-2018 (OHXDEN_J).XPT',\n",
    " 'Oral Health - Recommendation of Care 2017-2018 (OHXREF_J).XPT',\n",
    " 'Physical Activity 2017-2018 (PAQ_J).XPT',\n",
    " 'Smoking - Cigarette Use 2017-2018 (SMQ_J).XPT',\n",
    " 'Weight History 2017-2018 (WHQ_J).XPT',\n",
    "          'Blood Pressure 2017.XPT']\n",
    "\n",
    "arr2015 =['Angina 2015-2016 (CDQ_I).XPT', \n",
    "          'Mental Health - Depression Screener 2015-2016 (DPQ_I).XPT', \n",
    "          'Oral Health (questionnaire) 2015-2016 (OHQ_I).XPT', \n",
    "          'Oral Health - Dentition 2015-2016 (OHXDEN_I).XPT', \n",
    "          'Oral Health - Recommendation of Care 2015-2016 (OHXREF_I)XPT', \n",
    "          'Physical Activity 2015-2016 (PAQ_I).XPT', \n",
    "          'Smoking - Cigarette Use 2015-2016 (SMQ_I).XPT', \n",
    "          'Weight History 2015-2016 (WHQ_I).XPT']\n",
    "\n",
    "arr2013 = ['Angina 2013-2014 (CDQ_H).XPT',\n",
    " 'Mental Health - Depression Screener 2013-2014 (DPQ_H).XPT',\n",
    " 'Oral Health (questionnaire) 2013-2014 (OHQ_H).XPT',\n",
    " 'Oral Health - Dentition 2013-2014 (OHXDEN_H).XPT',\n",
    " 'Oral Health - Recommendation of Care 2013-2014 (OHXREF_H).XPT',\n",
    " 'Physical Activity 2013-2014 (PAQ_H).XPT',\n",
    " 'Smoking - Cigarette Use 2013-2014 (SMQ_H).XPT',\n",
    " 'Weight History 2013-2014 (WHQ_H).XPT']\n",
    "\n",
    "angina_arr = {}\n",
    "depression_arr = {}\n",
    "drec_arr = {}\n",
    "smoking_arr = {}\n",
    "weight_arr = {}\n",
    "phys_arr = {}\n",
    "bp_arr = {}\n",
    "\n",
    "angina_arr[\"2017\"] = pd.read_sas(files_dir + arr2017[1])\n",
    "# angina2017_df\n",
    "depression_arr[\"2017\"] = pd.read_sas(files_dir + arr2017[2])\n",
    "drec_arr[\"2017\"] = pd.read_sas(files_dir+arr2017[3])\n",
    "smoking_arr[\"2017\"] = pd.read_sas(files_dir+arr2017[7])\n",
    "weight_arr[\"2017\"] = pd.read_sas(files_dir+arr2017[8])\n",
    "phys_arr[\"2017\"] = pd.read_sas(files_dir+arr2017[6])\n",
    "bp_arr[\"2017\"] = pd.read_sas(files_dir+arr2017[9])\n",
    "\n",
    "files_dir = \"data/2015/\"\n",
    "angina_arr[\"2015\"] = pd.read_sas(files_dir + arr2015[0])\n",
    "depression_arr[\"2015\"] = pd.read_sas(files_dir + arr2015[1])\n",
    "drec_arr[\"2015\"] = pd.read_sas(files_dir+arr2015[2])\n",
    "phys_arr[\"2015\"] = pd.read_sas(files_dir+arr2015[5])\n",
    "smoking_arr[\"2015\"] = pd.read_sas(files_dir+arr2015[6])\n",
    "weight_arr[\"2015\"] = pd.read_sas(files_dir+arr2015[7])\n",
    "bp_arr[\"2015\"] = pd.read_sas(files_dir+'Blood Pressure 2015.XPT')\n",
    "\n",
    "files_dir = \"data/2013/\"\n",
    "angina_arr[\"2013\"] = pd.read_sas(files_dir + arr2013[0])\n",
    "depression_arr[\"2013\"] = pd.read_sas(files_dir + arr2013[1])\n",
    "drec_arr[\"2013\"] = pd.read_sas(files_dir+arr2013[2])\n",
    "phys_arr[\"2013\"] = pd.read_sas(files_dir+arr2013[5])\n",
    "smoking_arr[\"2013\"] = pd.read_sas(files_dir+arr2013[6])\n",
    "weight_arr[\"2013\"] = pd.read_sas(files_dir+arr2013[7])\n",
    "bp_arr[\"2013\"] = pd.read_sas(files_dir+'Blood Pressure 2013.XPT')\n",
    "\n",
    "merged_df = {}"
   ]
  },
  {
   "cell_type": "markdown",
   "id": "82906e0d",
   "metadata": {},
   "source": [
    "Grade 1 Angina is defined as CDQ001 = 1 and CDQ002 = 1 (but CDQ003 ≠ 1) and CDQ004 = 1 and CDQ005 = 1 and CDQ006 = 1, plus either (CDQ009D = 4 or CDQ009E = 5) or (CDQ009F = 6 and CDQ009G = 7)."
   ]
  },
  {
   "cell_type": "markdown",
   "id": "53b86576",
   "metadata": {},
   "source": [
    "## Functions to create indicator for angina + merging data by year"
   ]
  },
  {
   "cell_type": "code",
   "execution_count": 4,
   "id": "e5c6fc50",
   "metadata": {},
   "outputs": [],
   "source": [
    "#create indicator\n",
    "def angina_diag(row):\n",
    "    if row['CDQ001'] == 1 and row['CDQ002'] == 1 and row['CDQ003'] != 1 and row['CDQ004'] == 1 and row['CDQ005'] == 1 and row['CDQ006'] == 1:\n",
    "        if row['CDQ009D'] == 4 or row['CDQ009E'] ==5:\n",
    "            return True\n",
    "        if row['CDQ009F'] == 6 or row['CDQ009G'] ==7:\n",
    "            return True\n",
    "        else:\n",
    "            return False\n",
    "    else:\n",
    "        return False\n",
    "\n",
    "def create_append_angina(df):\n",
    "    check = df.dropna(subset=['CDQ001', 'CDQ002', 'CDQ003','CDQ004', 'CDQ005', 'CDQ006'])\n",
    "    check[\"angina\"] = check.apply(lambda row: angina_diag(row) ,axis=1)\n",
    "    return check\n",
    "\n",
    "def merge_data(year, check, depression_arr, drec_arr, smoking_arr, weight_arr, phys_arr, bp_arr, merged_df):\n",
    "    merge_df = check[['SEQN', 'angina']]\n",
    "\n",
    "    depr_small = depression_arr[year].dropna(subset=['DPQ020'])[['SEQN','DPQ020']]\n",
    "    drec_small = drec_arr[year].dropna(subset=['OHQ850', 'OHQ835'])[['SEQN', 'OHQ850', 'OHQ835']]\n",
    "    # print(smoking2017_df.keys())\n",
    "    smoking_small = smoking_arr[year].dropna(subset=['SMQ020'])[['SEQN', 'SMQ020']]\n",
    "    wt_small = weight_arr[year].dropna(subset=['WHD020'])[['SEQN', 'WHD020']]\n",
    "    phys_small = phys_arr[year].dropna(subset=['PAQ650'])[['SEQN', 'PAQ650']]\n",
    "    bp_small = bp_arr[year].dropna(subset=['BPQ020'])[['SEQN', 'BPQ020']]\n",
    "\n",
    "    merge_df = merge_df.merge(depr_small, left_on='SEQN', right_on='SEQN')\n",
    "    merge_df = merge_df.merge(drec_small, left_on = 'SEQN', right_on='SEQN')\n",
    "    merge_df = merge_df.merge(smoking_small, left_on = 'SEQN', right_on='SEQN')\n",
    "    merge_df = merge_df.merge(wt_small, left_on = 'SEQN', right_on='SEQN')\n",
    "    merge_df = merge_df.merge(phys_small, left_on = 'SEQN', right_on='SEQN')\n",
    "    merge_df = merge_df.merge(bp_small, left_on = 'SEQN', right_on='SEQN')\n",
    "    print(merge_df.shape)\n",
    "    merged_df[year] = merge_df    "
   ]
  },
  {
   "cell_type": "markdown",
   "id": "2e51a4a7",
   "metadata": {},
   "source": [
    "## Merge data for 2017-2018"
   ]
  },
  {
   "cell_type": "code",
   "execution_count": 5,
   "id": "629d88fc",
   "metadata": {},
   "outputs": [
    {
     "name": "stdout",
     "output_type": "stream",
     "text": [
      "True     138\n",
      "False    129\n",
      "Name: angina, dtype: int64\n",
      "(241, 9)\n"
     ]
    },
    {
     "name": "stderr",
     "output_type": "stream",
     "text": [
      "C:\\Users\\chris\\AppData\\Local\\Temp\\ipykernel_40700\\1668327846.py:15: SettingWithCopyWarning: \n",
      "A value is trying to be set on a copy of a slice from a DataFrame.\n",
      "Try using .loc[row_indexer,col_indexer] = value instead\n",
      "\n",
      "See the caveats in the documentation: https://pandas.pydata.org/pandas-docs/stable/user_guide/indexing.html#returning-a-view-versus-a-copy\n",
      "  check[\"angina\"] = check.apply(lambda row: angina_diag(row) ,axis=1)\n"
     ]
    }
   ],
   "source": [
    "check = create_append_angina(angina_arr[\"2017\"])\n",
    "print(check[\"angina\"].value_counts())\n",
    "merge_data(\"2017\", check, depression_arr, drec_arr, smoking_arr, weight_arr, phys_arr, bp_arr, merged_df)"
   ]
  },
  {
   "cell_type": "markdown",
   "id": "1796933d",
   "metadata": {},
   "source": [
    "## Merge data for 2015-2016"
   ]
  },
  {
   "cell_type": "code",
   "execution_count": 6,
   "id": "00f9c621",
   "metadata": {},
   "outputs": [
    {
     "name": "stdout",
     "output_type": "stream",
     "text": [
      "True     132\n",
      "False    122\n",
      "Name: angina, dtype: int64\n",
      "(228, 9)\n"
     ]
    },
    {
     "name": "stderr",
     "output_type": "stream",
     "text": [
      "C:\\Users\\chris\\AppData\\Local\\Temp\\ipykernel_40700\\1668327846.py:15: SettingWithCopyWarning: \n",
      "A value is trying to be set on a copy of a slice from a DataFrame.\n",
      "Try using .loc[row_indexer,col_indexer] = value instead\n",
      "\n",
      "See the caveats in the documentation: https://pandas.pydata.org/pandas-docs/stable/user_guide/indexing.html#returning-a-view-versus-a-copy\n",
      "  check[\"angina\"] = check.apply(lambda row: angina_diag(row) ,axis=1)\n"
     ]
    }
   ],
   "source": [
    "check = create_append_angina(angina_arr[\"2015\"])\n",
    "print(check[\"angina\"].value_counts())\n",
    "merge_data(\"2015\", check, depression_arr, drec_arr, smoking_arr, weight_arr, phys_arr, bp_arr, merged_df)"
   ]
  },
  {
   "cell_type": "markdown",
   "id": "f427fe3f",
   "metadata": {},
   "source": [
    "## Merge data for 2013-2014"
   ]
  },
  {
   "cell_type": "code",
   "execution_count": 8,
   "id": "5e88234a",
   "metadata": {},
   "outputs": [
    {
     "name": "stdout",
     "output_type": "stream",
     "text": [
      "(181, 9)\n"
     ]
    },
    {
     "name": "stderr",
     "output_type": "stream",
     "text": [
      "C:\\Users\\chris\\AppData\\Local\\Temp\\ipykernel_40700\\1668327846.py:15: SettingWithCopyWarning: \n",
      "A value is trying to be set on a copy of a slice from a DataFrame.\n",
      "Try using .loc[row_indexer,col_indexer] = value instead\n",
      "\n",
      "See the caveats in the documentation: https://pandas.pydata.org/pandas-docs/stable/user_guide/indexing.html#returning-a-view-versus-a-copy\n",
      "  check[\"angina\"] = check.apply(lambda row: angina_diag(row) ,axis=1)\n"
     ]
    }
   ],
   "source": [
    "check = create_append_angina(angina_arr[\"2013\"])\n",
    "check[\"angina\"].value_counts()\n",
    "merge_data(\"2013\", check, depression_arr, drec_arr, smoking_arr, weight_arr, phys_arr, bp_arr, merged_df)"
   ]
  },
  {
   "cell_type": "markdown",
   "id": "0d7be7bd",
   "metadata": {},
   "source": [
    "## Merge all of the data together from each year"
   ]
  },
  {
   "cell_type": "code",
   "execution_count": 9,
   "id": "2524e071",
   "metadata": {},
   "outputs": [
    {
     "name": "stdout",
     "output_type": "stream",
     "text": [
      "650\n",
      "(650, 9)\n",
      "93758.0     1\n",
      "92689.0     1\n",
      "91886.0     1\n",
      "91898.0     1\n",
      "91967.0     1\n",
      "           ..\n",
      "102313.0    1\n",
      "102317.0    1\n",
      "102353.0    1\n",
      "102379.0    1\n",
      "83623.0     1\n",
      "Name: SEQN, Length: 650, dtype: int64\n"
     ]
    }
   ],
   "source": [
    "print(merged_df[\"2017\"].shape[0]+merged_df[\"2015\"].shape[0]+merged_df[\"2013\"].shape[0])\n",
    "total_merge = pd.concat((merged_df[\"2017\"], merged_df[\"2015\"]))\n",
    "total_merge = pd.concat((total_merge,merged_df[\"2013\"]))\n",
    "print(total_merge.shape)\n",
    "print(total_merge['SEQN'].value_counts())"
   ]
  },
  {
   "cell_type": "code",
   "execution_count": 10,
   "id": "002ef582",
   "metadata": {},
   "outputs": [
    {
     "name": "stdout",
     "output_type": "stream",
     "text": [
      "(650, 9)\n"
     ]
    }
   ],
   "source": [
    "print(total_merge.dropna().shape)"
   ]
  },
  {
   "cell_type": "code",
   "execution_count": 11,
   "id": "548d59a7",
   "metadata": {},
   "outputs": [
    {
     "data": {
      "text/plain": [
       "False    335\n",
       "True     315\n",
       "Name: angina, dtype: int64"
      ]
     },
     "execution_count": 11,
     "metadata": {},
     "output_type": "execute_result"
    }
   ],
   "source": [
    "total_merge['angina'].value_counts()"
   ]
  },
  {
   "cell_type": "code",
   "execution_count": 12,
   "id": "cdde2758",
   "metadata": {},
   "outputs": [
    {
     "data": {
      "text/plain": [
       "0.4846153846153846"
      ]
     },
     "execution_count": 12,
     "metadata": {},
     "output_type": "execute_result"
    }
   ],
   "source": [
    "315/(335+315)"
   ]
  },
  {
   "cell_type": "code",
   "execution_count": 13,
   "id": "c042ac92",
   "metadata": {},
   "outputs": [
    {
     "data": {
      "text/plain": [
       "0.9402985074626866"
      ]
     },
     "execution_count": 13,
     "metadata": {},
     "output_type": "execute_result"
    }
   ],
   "source": [
    "315/335"
   ]
  },
  {
   "cell_type": "code",
   "execution_count": null,
   "id": "d3ebdf45",
   "metadata": {},
   "outputs": [],
   "source": []
  }
 ],
 "metadata": {
  "kernelspec": {
   "display_name": "cs590",
   "language": "python",
   "name": "cs590"
  },
  "language_info": {
   "codemirror_mode": {
    "name": "ipython",
    "version": 3
   },
   "file_extension": ".py",
   "mimetype": "text/x-python",
   "name": "python",
   "nbconvert_exporter": "python",
   "pygments_lexer": "ipython3",
   "version": "3.9.10"
  }
 },
 "nbformat": 4,
 "nbformat_minor": 5
}
