{
 "cells": [
  {
   "cell_type": "code",
   "execution_count": 12,
   "id": "b6d4ac17",
   "metadata": {},
   "outputs": [],
   "source": [
    "import numpy as np\n",
    "import pandas as pd\n"
   ]
  },
  {
   "cell_type": "code",
   "execution_count": 14,
   "id": "dea1bdf6",
   "metadata": {},
   "outputs": [
    {
     "name": "stdout",
     "output_type": "stream",
     "text": [
      "['Angina 2013-2014 (CDQ_H).XPT', 'Angina 2017-2018 (CDQ_J).XPT', 'Blood Pressure 2017.XPT', 'Mental Health - Depression Screener 2017-2018 (DPQ_J).XPT', 'Oral Health (questionnaire) 2017-2018 (OHQ_J).XPT', 'Oral Health - Dentition 2017-2018 (OHXDEN_J).XPT', 'Oral Health - Recommendation of Care 2017-2018 (OHXREF_J).XPT', 'Physical Activity 2017-2018 (PAQ_J).XPT', 'Smoking - Cigarette Use 2017-2018 (SMQ_J).XPT', 'Weight History 2017-2018 (WHQ_J).XPT']\n",
      "['Angina 2015-2016 (CDQ_I).XPT', 'Mental Health - Depression Screener 2015-2016 (DPQ_I).XPT', 'Oral Health (questionnaire) 2015-2016 (OHQ_I).XPT', 'Oral Health - Dentition 2015-2016 (OHXDEN_I).XPT', 'Oral Health - Recommendation of Care 2015-2016 (OHXREF_I)XPT', 'Physical Activity 2015-2016 (PAQ_I).XPT', 'Smoking - Cigarette Use 2015-2016 (SMQ_I).XPT', 'Weight History 2015-2016 (WHQ_I).XPT']\n"
     ]
    },
    {
     "data": {
      "text/plain": [
       "['Angina 2013-2014 (CDQ_H).XPT',\n",
       " 'Angina 2017-2018 (CDQ_J).XPT',\n",
       " 'Blood Pressure 2017.XPT',\n",
       " 'Mental Health - Depression Screener 2017-2018 (DPQ_J).XPT',\n",
       " 'Oral Health (questionnaire) 2017-2018 (OHQ_J).XPT',\n",
       " 'Oral Health - Dentition 2017-2018 (OHXDEN_J).XPT',\n",
       " 'Oral Health - Recommendation of Care 2017-2018 (OHXREF_J).XPT',\n",
       " 'Physical Activity 2017-2018 (PAQ_J).XPT',\n",
       " 'Smoking - Cigarette Use 2017-2018 (SMQ_J).XPT',\n",
       " 'Weight History 2017-2018 (WHQ_J).XPT']"
      ]
     },
     "execution_count": 14,
     "metadata": {},
     "output_type": "execute_result"
    }
   ],
   "source": [
    " import os\n",
    "\n",
    "arr2015= os.listdir('data/2015')\n",
    "arr2017 =  os.listdir('data/2017')\n",
    "arr2013 =  os.listdir('data/2013')\n",
    "print(arr2017)\n",
    "print(arr2015)\n",
    "arr2017"
   ]
  },
  {
   "cell_type": "markdown",
   "id": "671a6ec1",
   "metadata": {},
   "source": [
    "Grade 1 Angina is defined as CDQ001 = 1 and CDQ002 = 1 (but CDQ003 ≠ 1) and CDQ004 = 1 and CDQ005 = 1 and CDQ006 = 1, plus either (CDQ009D = 4 or CDQ009E = 5) or (CDQ009F = 6 and CDQ009G = 7)."
   ]
  },
  {
   "cell_type": "code",
   "execution_count": 19,
   "id": "2b74717e",
   "metadata": {},
   "outputs": [],
   "source": [
    "files_dir = \"data/2017/\"\n",
    "ext = \".xpt\"\n",
    "arr2017 = ['Angina 2013-2014 (CDQ_H).XPT',\n",
    " 'Angina 2017-2018 (CDQ_J).XPT',\n",
    " 'Mental Health - Depression Screener 2017-2018 (DPQ_J).XPT',\n",
    " 'Oral Health (questionnaire) 2017-2018 (OHQ_J).XPT',\n",
    " 'Oral Health - Dentition 2017-2018 (OHXDEN_J).XPT',\n",
    " 'Oral Health - Recommendation of Care 2017-2018 (OHXREF_J).XPT',\n",
    " 'Physical Activity 2017-2018 (PAQ_J).XPT',\n",
    " 'Smoking - Cigarette Use 2017-2018 (SMQ_J).XPT',\n",
    " 'Weight History 2017-2018 (WHQ_J).XPT',\n",
    "          'Blood Pressure 2017.XPT']\n",
    "\n",
    "arr2015 =['Angina 2015-2016 (CDQ_I).XPT', \n",
    "          'Mental Health - Depression Screener 2015-2016 (DPQ_I).XPT', \n",
    "          'Oral Health (questionnaire) 2015-2016 (OHQ_I).XPT', \n",
    "          'Oral Health - Dentition 2015-2016 (OHXDEN_I).XPT', \n",
    "          'Oral Health - Recommendation of Care 2015-2016 (OHXREF_I)XPT', \n",
    "          'Physical Activity 2015-2016 (PAQ_I).XPT', \n",
    "          'Smoking - Cigarette Use 2015-2016 (SMQ_I).XPT', \n",
    "          'Weight History 2015-2016 (WHQ_I).XPT']\n",
    "\n",
    "arr2013 = ['Angina 2013-2014 (CDQ_H).XPT',\n",
    " 'Mental Health - Depression Screener 2013-2014 (DPQ_H).XPT',\n",
    " 'Oral Health (questionnaire) 2013-2014 (OHQ_H).XPT',\n",
    " 'Oral Health - Dentition 2013-2014 (OHXDEN_H).XPT',\n",
    " 'Oral Health - Recommendation of Care 2013-2014 (OHXREF_H).XPT',\n",
    " 'Physical Activity 2013-2014 (PAQ_H).XPT',\n",
    " 'Smoking - Cigarette Use 2013-2014 (SMQ_H).XPT',\n",
    " 'Weight History 2013-2014 (WHQ_H).XPT']\n",
    "\n",
    "angina2017_df = pd.read_sas(files_dir + arr2017[1])\n",
    "# angina2017_df\n",
    "depression2017_df = pd.read_sas(files_dir + arr2017[2])\n",
    "drec2017_df = pd.read_sas(files_dir+arr2017[3])\n",
    "smoking2017_df = pd.read_sas(files_dir+arr2017[7])\n",
    "weight2017_df = pd.read_sas(files_dir+arr2017[8])\n",
    "phys2017_df = pd.read_sas(files_dir+arr2017[6])\n",
    "bp2017_df = pd.read_sas(files_dir+arr2017[9])\n",
    "\n",
    "files_dir = \"data/2015/\"\n",
    "angina2015_df = pd.read_sas(files_dir + arr2015[0])\n",
    "depression2015_df = pd.read_sas(files_dir + arr2015[1])\n",
    "drec2015_df = pd.read_sas(files_dir+arr2015[2])\n",
    "phys2015_df = pd.read_sas(files_dir+arr2015[5])\n",
    "smoking2015_df = pd.read_sas(files_dir+arr2015[6])\n",
    "weight2015_df = pd.read_sas(files_dir+arr2015[7])\n",
    "bp2015_df = pd.read_sas(files_dir+'Blood Pressure 2015.XPT')\n",
    "\n",
    "files_dir = \"data/2013/\"\n",
    "angina2013_df = pd.read_sas(files_dir + arr2013[0])\n",
    "depression2013_df = pd.read_sas(files_dir + arr2013[1])\n",
    "drec2013_df = pd.read_sas(files_dir+arr2013[2])\n",
    "phys2013_df = pd.read_sas(files_dir+arr2013[5])\n",
    "smoking2013_df = pd.read_sas(files_dir+arr2013[6])\n",
    "weight2013_df = pd.read_sas(files_dir+arr2013[7])\n",
    "bp2013_df = pd.read_sas(files_dir+'Blood Pressure 2013.XPT')"
   ]
  },
  {
   "cell_type": "markdown",
   "id": "82906e0d",
   "metadata": {},
   "source": [
    "Grade 1 Angina is defined as CDQ001 = 1 and CDQ002 = 1 (but CDQ003 ≠ 1) and CDQ004 = 1 and CDQ005 = 1 and CDQ006 = 1, plus either (CDQ009D = 4 or CDQ009E = 5) or (CDQ009F = 6 and CDQ009G = 7)."
   ]
  },
  {
   "cell_type": "code",
   "execution_count": 24,
   "id": "e5c6fc50",
   "metadata": {},
   "outputs": [
    {
     "name": "stderr",
     "output_type": "stream",
     "text": [
      "C:\\Users\\chris\\AppData\\Local\\Temp\\ipykernel_21080\\2405796180.py:16: SettingWithCopyWarning: \n",
      "A value is trying to be set on a copy of a slice from a DataFrame.\n",
      "Try using .loc[row_indexer,col_indexer] = value instead\n",
      "\n",
      "See the caveats in the documentation: https://pandas.pydata.org/pandas-docs/stable/user_guide/indexing.html#returning-a-view-versus-a-copy\n",
      "  check[\"angina\"] = check.apply(lambda row: angina_diag(row) ,axis=1)\n"
     ]
    },
    {
     "data": {
      "text/plain": [
       "True     138\n",
       "False    129\n",
       "Name: angina, dtype: int64"
      ]
     },
     "execution_count": 24,
     "metadata": {},
     "output_type": "execute_result"
    }
   ],
   "source": [
    "check = angina2017_df.dropna(subset=['CDQ001', 'CDQ002', 'CDQ003','CDQ004', 'CDQ005', 'CDQ006'])\n",
    "\n",
    "\n",
    "#create indicator\n",
    "def angina_diag(row):\n",
    "    if row['CDQ001'] == 1 and row['CDQ002'] == 1 and row['CDQ003'] != 1 and row['CDQ004'] == 1 and row['CDQ005'] == 1 and row['CDQ006'] == 1:\n",
    "        if row['CDQ009D'] == 4 or row['CDQ009E'] ==5:\n",
    "            return True\n",
    "        if row['CDQ009F'] == 6 or row['CDQ009G'] ==7:\n",
    "            return True\n",
    "        else:\n",
    "            return False\n",
    "    else:\n",
    "        return False\n",
    "\n",
    "check[\"angina\"] = check.apply(lambda row: angina_diag(row) ,axis=1)\n",
    "check[\"angina\"].value_counts()"
   ]
  },
  {
   "cell_type": "code",
   "execution_count": 25,
   "id": "629d88fc",
   "metadata": {},
   "outputs": [
    {
     "name": "stdout",
     "output_type": "stream",
     "text": [
      "(241, 9)\n"
     ]
    }
   ],
   "source": [
    "merge_df = check[['SEQN', 'angina']]\n",
    "\n",
    "depression2017_df = depression2017_df.dropna(subset=['DPQ020'])\n",
    "depr_small = depression2017_df[['SEQN','DPQ020']]\n",
    "\n",
    "# print(drec2017_df.keys())\n",
    "drec_small = drec2017_df.dropna(subset=['OHQ850', 'OHQ835'])[['SEQN', 'OHQ850', 'OHQ835']]\n",
    "# print(smoking2017_df.keys())\n",
    "smoking_small = smoking2017_df.dropna(subset=['SMQ020'])[['SEQN', 'SMQ020']]\n",
    "wt_small = weight2017_df.dropna(subset=['WHD020'])[['SEQN', 'WHD020']]\n",
    "phys_small = phys2017_df.dropna(subset=['PAQ650'])[['SEQN', 'PAQ650']]\n",
    "bp_small = bp2017_df.dropna(subset=['BPQ020'])[['SEQN', 'BPQ020']]\n",
    "\n",
    "\n",
    "merge_df = merge_df.merge(depr_small, left_on='SEQN', right_on='SEQN')\n",
    "merge_df = merge_df.merge(drec_small, left_on = 'SEQN', right_on='SEQN')\n",
    "merge_df = merge_df.merge(smoking_small, left_on = 'SEQN', right_on='SEQN')\n",
    "merge_df = merge_df.merge(wt_small, left_on = 'SEQN', right_on='SEQN')\n",
    "merge_df = merge_df.merge(phys_small, left_on = 'SEQN', right_on='SEQN')\n",
    "merge_df = merge_df.merge(bp_small, left_on = 'SEQN', right_on='SEQN')\n",
    "print(merge_df.shape)\n",
    "merge2017 = merge_df"
   ]
  },
  {
   "cell_type": "code",
   "execution_count": 26,
   "id": "00f9c621",
   "metadata": {},
   "outputs": [
    {
     "name": "stderr",
     "output_type": "stream",
     "text": [
      "C:\\Users\\chris\\AppData\\Local\\Temp\\ipykernel_21080\\2844987303.py:16: SettingWithCopyWarning: \n",
      "A value is trying to be set on a copy of a slice from a DataFrame.\n",
      "Try using .loc[row_indexer,col_indexer] = value instead\n",
      "\n",
      "See the caveats in the documentation: https://pandas.pydata.org/pandas-docs/stable/user_guide/indexing.html#returning-a-view-versus-a-copy\n",
      "  check[\"angina\"] = check.apply(lambda row: angina_diag(row) ,axis=1)\n"
     ]
    },
    {
     "data": {
      "text/plain": [
       "True     132\n",
       "False    122\n",
       "Name: angina, dtype: int64"
      ]
     },
     "execution_count": 26,
     "metadata": {},
     "output_type": "execute_result"
    }
   ],
   "source": [
    "check = angina2015_df.dropna(subset=['CDQ001', 'CDQ002', 'CDQ003','CDQ004', 'CDQ005', 'CDQ006'])\n",
    "\n",
    "\n",
    "#create indicator\n",
    "def angina_diag(row):\n",
    "    if row['CDQ001'] == 1 and row['CDQ002'] == 1 and row['CDQ003'] != 1 and row['CDQ004'] == 1 and row['CDQ005'] == 1 and row['CDQ006'] == 1:\n",
    "        if row['CDQ009D'] == 4 or row['CDQ009E'] ==5:\n",
    "            return True\n",
    "        if row['CDQ009F'] == 6 or row['CDQ009G'] ==7:\n",
    "            return True\n",
    "        else:\n",
    "            return False\n",
    "    else:\n",
    "        return False\n",
    "\n",
    "check[\"angina\"] = check.apply(lambda row: angina_diag(row) ,axis=1)\n",
    "check[\"angina\"].value_counts()"
   ]
  },
  {
   "cell_type": "code",
   "execution_count": 27,
   "id": "1483fd15",
   "metadata": {},
   "outputs": [
    {
     "name": "stdout",
     "output_type": "stream",
     "text": [
      "(228, 9)\n"
     ]
    }
   ],
   "source": [
    "merge_df = check[['SEQN', 'angina']]\n",
    "\n",
    "depression2015_df = depression2015_df.dropna(subset=['DPQ020'])\n",
    "depr_small = depression2015_df[['SEQN','DPQ020']]\n",
    "\n",
    "# print(drec2017_df.keys())\n",
    "drec_small = drec2015_df.dropna(subset=['OHQ850', 'OHQ835'])[['SEQN', 'OHQ850', 'OHQ835']]\n",
    "# print(smoking2017_df.keys())\n",
    "smoking_small = smoking2015_df.dropna(subset=['SMQ020'])[['SEQN', 'SMQ020']]\n",
    "wt_small = weight2015_df.dropna(subset=['WHD020'])[['SEQN', 'WHD020']]\n",
    "phys_small = phys2015_df.dropna(subset=['PAQ650'])[['SEQN', 'PAQ650']]\n",
    "bp_small = bp2015_df.dropna(subset=['BPQ020'])[['SEQN', 'BPQ020']]\n",
    "\n",
    "\n",
    "merge_df = merge_df.merge(depr_small, left_on='SEQN', right_on='SEQN')\n",
    "merge_df = merge_df.merge(drec_small, left_on = 'SEQN', right_on='SEQN')\n",
    "merge_df = merge_df.merge(smoking_small, left_on = 'SEQN', right_on='SEQN')\n",
    "merge_df = merge_df.merge(wt_small, left_on = 'SEQN', right_on='SEQN')\n",
    "merge_df = merge_df.merge(phys_small, left_on = 'SEQN', right_on='SEQN')\n",
    "merge_df = merge_df.merge(bp_small, left_on = 'SEQN', right_on='SEQN')\n",
    "print(merge_df.shape)\n",
    "merge2015 = merge_df"
   ]
  },
  {
   "cell_type": "code",
   "execution_count": 29,
   "id": "c506da59",
   "metadata": {},
   "outputs": [
    {
     "name": "stderr",
     "output_type": "stream",
     "text": [
      "C:\\Users\\chris\\AppData\\Local\\Temp\\ipykernel_21080\\3808086676.py:16: SettingWithCopyWarning: \n",
      "A value is trying to be set on a copy of a slice from a DataFrame.\n",
      "Try using .loc[row_indexer,col_indexer] = value instead\n",
      "\n",
      "See the caveats in the documentation: https://pandas.pydata.org/pandas-docs/stable/user_guide/indexing.html#returning-a-view-versus-a-copy\n",
      "  check[\"angina\"] = check.apply(lambda row: angina_diag(row) ,axis=1)\n"
     ]
    },
    {
     "data": {
      "text/plain": [
       "False    124\n",
       "True      72\n",
       "Name: angina, dtype: int64"
      ]
     },
     "execution_count": 29,
     "metadata": {},
     "output_type": "execute_result"
    }
   ],
   "source": [
    "check = angina2013_df.dropna(subset=['CDQ001', 'CDQ002', 'CDQ003','CDQ004', 'CDQ005', 'CDQ006'])\n",
    "\n",
    "\n",
    "#create indicator\n",
    "def angina_diag(row):\n",
    "    if row['CDQ001'] == 1 and row['CDQ002'] == 1 and row['CDQ003'] != 1 and row['CDQ004'] == 1 and row['CDQ005'] == 1 and row['CDQ006'] == 1:\n",
    "        if row['CDQ009D'] == 4 or row['CDQ009E'] ==5:\n",
    "            return True\n",
    "        if row['CDQ009F'] == 6 or row['CDQ009G'] ==7:\n",
    "            return True\n",
    "        else:\n",
    "            return False\n",
    "    else:\n",
    "        return False\n",
    "\n",
    "check[\"angina\"] = check.apply(lambda row: angina_diag(row) ,axis=1)\n",
    "check[\"angina\"].value_counts()"
   ]
  },
  {
   "cell_type": "code",
   "execution_count": 30,
   "id": "8dee974e",
   "metadata": {},
   "outputs": [
    {
     "name": "stdout",
     "output_type": "stream",
     "text": [
      "(181, 9)\n"
     ]
    }
   ],
   "source": [
    "merge_df = check[['SEQN', 'angina']]\n",
    "\n",
    "depression2013_df = depression2013_df.dropna(subset=['DPQ020'])\n",
    "depr_small = depression2013_df[['SEQN','DPQ020']]\n",
    "\n",
    "# print(drec2017_df.keys())\n",
    "drec_small = drec2013_df.dropna(subset=['OHQ850', 'OHQ835'])[['SEQN', 'OHQ850', 'OHQ835']]\n",
    "# print(smoking2017_df.keys())\n",
    "smoking_small = smoking2013_df.dropna(subset=['SMQ020'])[['SEQN', 'SMQ020']]\n",
    "wt_small = weight2013_df.dropna(subset=['WHD020'])[['SEQN', 'WHD020']]\n",
    "phys_small = phys2013_df.dropna(subset=['PAQ650'])[['SEQN', 'PAQ650']]\n",
    "bp_small = bp2013_df.dropna(subset=['BPQ020'])[['SEQN', 'BPQ020']]\n",
    "\n",
    "\n",
    "merge_df = merge_df.merge(depr_small, left_on='SEQN', right_on='SEQN')\n",
    "merge_df = merge_df.merge(drec_small, left_on = 'SEQN', right_on='SEQN')\n",
    "merge_df = merge_df.merge(smoking_small, left_on = 'SEQN', right_on='SEQN')\n",
    "merge_df = merge_df.merge(wt_small, left_on = 'SEQN', right_on='SEQN')\n",
    "merge_df = merge_df.merge(phys_small, left_on = 'SEQN', right_on='SEQN')\n",
    "merge_df = merge_df.merge(bp_small, left_on = 'SEQN', right_on='SEQN')\n",
    "\n",
    "print(merge_df.shape)\n",
    "merge2013 = merge_df"
   ]
  },
  {
   "cell_type": "code",
   "execution_count": 31,
   "id": "2524e071",
   "metadata": {},
   "outputs": [
    {
     "name": "stdout",
     "output_type": "stream",
     "text": [
      "650\n",
      "(650, 9)\n",
      "93758.0     1\n",
      "92689.0     1\n",
      "91886.0     1\n",
      "91898.0     1\n",
      "91967.0     1\n",
      "           ..\n",
      "102313.0    1\n",
      "102317.0    1\n",
      "102353.0    1\n",
      "102379.0    1\n",
      "83623.0     1\n",
      "Name: SEQN, Length: 650, dtype: int64\n"
     ]
    }
   ],
   "source": [
    "print(merge2017.shape[0]+merge2015.shape[0]+merge2013.shape[0])\n",
    "total_merge = pd.concat((merge2017, merge2015))\n",
    "total_merge = pd.concat((total_merge, merge2013))\n",
    "print(total_merge.shape)\n",
    "print(total_merge['SEQN'].value_counts())"
   ]
  },
  {
   "cell_type": "code",
   "execution_count": 32,
   "id": "002ef582",
   "metadata": {},
   "outputs": [
    {
     "name": "stdout",
     "output_type": "stream",
     "text": [
      "(650, 9)\n"
     ]
    }
   ],
   "source": [
    "print(total_merge.dropna().shape)"
   ]
  },
  {
   "cell_type": "code",
   "execution_count": 33,
   "id": "548d59a7",
   "metadata": {},
   "outputs": [
    {
     "data": {
      "text/plain": [
       "False    335\n",
       "True     315\n",
       "Name: angina, dtype: int64"
      ]
     },
     "execution_count": 33,
     "metadata": {},
     "output_type": "execute_result"
    }
   ],
   "source": [
    "total_merge['angina'].value_counts()"
   ]
  },
  {
   "cell_type": "code",
   "execution_count": 35,
   "id": "cdde2758",
   "metadata": {},
   "outputs": [
    {
     "data": {
      "text/plain": [
       "0.4846153846153846"
      ]
     },
     "execution_count": 35,
     "metadata": {},
     "output_type": "execute_result"
    }
   ],
   "source": [
    "315/(335+315)"
   ]
  },
  {
   "cell_type": "code",
   "execution_count": 36,
   "id": "c042ac92",
   "metadata": {},
   "outputs": [
    {
     "data": {
      "text/plain": [
       "0.9402985074626866"
      ]
     },
     "execution_count": 36,
     "metadata": {},
     "output_type": "execute_result"
    }
   ],
   "source": [
    "315/335"
   ]
  },
  {
   "cell_type": "code",
   "execution_count": null,
   "id": "d3ebdf45",
   "metadata": {},
   "outputs": [],
   "source": []
  }
 ],
 "metadata": {
  "kernelspec": {
   "display_name": "cs590",
   "language": "python",
   "name": "cs590"
  },
  "language_info": {
   "codemirror_mode": {
    "name": "ipython",
    "version": 3
   },
   "file_extension": ".py",
   "mimetype": "text/x-python",
   "name": "python",
   "nbconvert_exporter": "python",
   "pygments_lexer": "ipython3",
   "version": "3.9.10"
  }
 },
 "nbformat": 4,
 "nbformat_minor": 5
}
