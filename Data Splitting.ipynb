{
 "cells": [
  {
   "cell_type": "code",
   "execution_count": 1,
   "id": "68efc173",
   "metadata": {},
   "outputs": [],
   "source": [
    "import numpy as np\n",
    "import pandas as pd\n",
    "from sklearn.model_selection import KFold\n",
    "from sklearn.model_selection import train_test_split\n",
    "from sklearn.linear_model import LogisticRegression\n",
    "from sklearn.metrics import accuracy_score, f1_score, roc_auc_score"
   ]
  },
  {
   "cell_type": "code",
   "execution_count": 2,
   "id": "95ba10da",
   "metadata": {},
   "outputs": [
    {
     "name": "stdout",
     "output_type": "stream",
     "text": [
      "(560, 13)\n",
      "Index(['angina', 'DPQ020', 'DPQ090', 'OHQ850', 'OHQ835', 'OHQ620', 'SMQ020',\n",
      "       'WHD020', 'PAQ650', 'BPQ020', 'RIAGENDR', 'RIDAGEYR', 'DBQ700'],\n",
      "      dtype='object')\n"
     ]
    }
   ],
   "source": [
    "df = pd.read_csv('dataset.csv').drop(columns= ['Unnamed: 0', 'SEQN'])\n",
    "print(df.shape)\n",
    "print(df.columns)"
   ]
  },
  {
   "cell_type": "markdown",
   "id": "e7fa1661",
   "metadata": {},
   "source": [
    "## Split dataset into X, y (and convert to NumPy Ndarray)"
   ]
  },
  {
   "cell_type": "code",
   "execution_count": 3,
   "id": "ac53de12",
   "metadata": {},
   "outputs": [
    {
     "name": "stdout",
     "output_type": "stream",
     "text": [
      "(560, 12)\n",
      "Index(['DPQ020', 'DPQ090', 'OHQ850', 'OHQ835', 'OHQ620', 'SMQ020', 'WHD020',\n",
      "       'PAQ650', 'BPQ020', 'RIAGENDR', 'RIDAGEYR', 'DBQ700'],\n",
      "      dtype='object')\n",
      "(560,)\n"
     ]
    }
   ],
   "source": [
    "\"\"\"\n",
    "Split dataset into X, y\n",
    "Converted to NumPy Ndarray\n",
    "\"\"\"\n",
    "X = df.iloc[:, 1:]\n",
    "# X = X.drop(columns = ['OHQ850', 'OHQ835'])\n",
    "print(X.shape)\n",
    "print(X.columns)\n",
    "X = X.to_numpy()\n",
    "y = df['angina'].to_numpy()\n",
    "print(y.shape)\n"
   ]
  },
  {
   "cell_type": "markdown",
   "id": "2e88c4f7",
   "metadata": {},
   "source": [
    "## Split total dataset dataset into 80:20 shuffled split (train/test)"
   ]
  },
  {
   "cell_type": "code",
   "execution_count": 9,
   "id": "995b5aab",
   "metadata": {},
   "outputs": [
    {
     "name": "stdout",
     "output_type": "stream",
     "text": [
      "(448, 12)\n",
      "(112, 12)\n",
      "(448,)\n",
      "(112,)\n"
     ]
    }
   ],
   "source": [
    "\"\"\"\n",
    "Split total dataset into 80:20 split (train/test)\n",
    "Shuffled\n",
    "\"\"\"\n",
    "X_train_validation, X_test, y_train_validation, y_test = train_test_split(X, y, test_size=0.2, random_state=59, shuffle=True, stratify=None)\n",
    "# print(X_train)\n",
    "# print(X_test)\n",
    "# print(y_train)\n",
    "# print(y_test)\n",
    "print(X_train_validation.shape)\n",
    "print(X_test.shape)\n",
    "print(y_train_validation.shape)\n",
    "print(y_test.shape)"
   ]
  },
  {
   "cell_type": "markdown",
   "id": "e0cbf13e",
   "metadata": {},
   "source": [
    "## Hyperparameter Tuning (k-fold validation)"
   ]
  },
  {
   "cell_type": "code",
   "execution_count": 10,
   "id": "4bbe2314",
   "metadata": {},
   "outputs": [],
   "source": [
    "\"\"\"\n",
    "Used for hyperparameter tuning:\n",
    "Take training data and split into 75:25 splits for k-fold (use sklearn k-fold here) (train/ validation)\n",
    "4-5 folds \n",
    "Will use logistic regression in this example of code\n",
    "\"\"\"\n",
    "N_MODELS = 100\n",
    "alphas = np.logspace(-3, 6, N_MODELS)\n",
    "\n",
    "n_splits = 4\n",
    "kf = KFold(n_splits=n_splits)\n",
    "\n",
    "accuracy_scores = np.zeros((N_MODELS,))\n",
    "f1_scores = np.zeros((N_MODELS,))\n",
    "ROC_scores = np.zeros((N_MODELS,))\n",
    " \n",
    "for i, alpha in enumerate(alphas):\n",
    "  average_accuracy = 0\n",
    "  average_f1_score = 0\n",
    "  average_roc_score = 0\n",
    "  \n",
    "  # run k_fold validation and sum performance metrics\n",
    "  for train_index, test_index in kf.split(X_train_validation):\n",
    "    \"\"\"\n",
    "      # print(\"TRAIN:\", len(train_index), \"TEST:\", len(test_index))\n",
    "      TRAIN: 336 TEST: 113\n",
    "      TRAIN: 337 TEST: 112\n",
    "      TRAIN: 337 TEST: 112\n",
    "      TRAIN: 337 TEST: 112\n",
    "    \"\"\"\n",
    "    X_train, X_validation = X_train_validation[train_index], X_train_validation[test_index]\n",
    "    y_train, y_validation = y_train_validation[train_index], y_train_validation[test_index]\n",
    "    clf = LogisticRegression(C=alpha, max_iter=1000000).fit(X_train, y_train)\n",
    "    y_predictions = clf.predict(X_validation)\n",
    "    average_accuracy = average_accuracy + accuracy_score(y_validation, y_predictions)\n",
    "    average_f1_score = average_f1_score + f1_score(y_validation, y_predictions)\n",
    "    average_roc_score = average_roc_score + roc_auc_score(y_validation, y_predictions)\n",
    "    \n",
    "  # divide performance metrics by n_splits to get averages\n",
    "  accuracy_scores[i] = average_accuracy / n_splits\n",
    "  f1_scores[i] = average_f1_score / n_splits\n",
    "  ROC_scores[i] = average_roc_score / n_splits\n",
    "\n",
    "# print(accuracy_scores)\n",
    "# print(f1_scores)\n",
    "# print(ROC_scores)\n",
    "    \n",
    "    \n"
   ]
  },
  {
   "cell_type": "markdown",
   "id": "99d45640",
   "metadata": {},
   "source": [
    "## Evalute best hyperparameter (Needs to be changed)"
   ]
  },
  {
   "cell_type": "code",
   "execution_count": 11,
   "id": "2a67c772",
   "metadata": {},
   "outputs": [
    {
     "name": "stdout",
     "output_type": "stream",
     "text": [
      "0.5379464285714286 0.48908827658827664 0.5361160231849886\n",
      "[3.51119173] [0.15199111] [3.51119173]\n"
     ]
    }
   ],
   "source": [
    "\"\"\"\n",
    "Evalute best hyperparameter\n",
    "\"\"\"\n",
    "alpha_with_max_accuracy = alphas[np.where(accuracy_scores == max(accuracy_scores))]\n",
    "alpha_with_max_f1_score = alphas[np.where(f1_scores == max(f1_scores))]\n",
    "alpha_with_max_ROC_score = alphas[np.where(ROC_scores == max(ROC_scores))]\n",
    "print(max(accuracy_scores), max(f1_scores), max(ROC_scores))\n",
    "print(alpha_with_max_accuracy, alpha_with_max_f1_score, alpha_with_max_ROC_score)"
   ]
  },
  {
   "cell_type": "markdown",
   "id": "1130d200",
   "metadata": {},
   "source": [
    "## Evalute model on test set using selected hyperparameter\n"
   ]
  },
  {
   "cell_type": "code",
   "execution_count": 13,
   "id": "8cb297f7",
   "metadata": {},
   "outputs": [
    {
     "name": "stdout",
     "output_type": "stream",
     "text": [
      "0.5178571428571429 0.509090909090909 0.5191570881226054\n"
     ]
    }
   ],
   "source": [
    "\"\"\"\n",
    "Evalute model on test set using selected hyperparameter\n",
    "\"\"\"\n",
    "alpha = 3.51119173\n",
    "clf = LogisticRegression(C=alpha, max_iter=1000000).fit(X_train_validation, y_train_validation)\n",
    "y_predictions = clf.predict(X_test)\n",
    "accuracy = accuracy_score(y_test, y_predictions)\n",
    "f1 = f1_score(y_test, y_predictions)\n",
    "roc_score = roc_auc_score(y_test, y_predictions)\n",
    "print(accuracy, f1, roc_score)"
   ]
  },
  {
   "cell_type": "code",
   "execution_count": null,
   "id": "07fc5d23",
   "metadata": {},
   "outputs": [],
   "source": []
  }
 ],
 "metadata": {
  "interpreter": {
   "hash": "a4357b58558cb56728375674edd814cfb65f54b921a7d684fdf91b4027b79620"
  },
  "kernelspec": {
   "display_name": "cs590",
   "language": "python",
   "name": "python3"
  },
  "language_info": {
   "codemirror_mode": {
    "name": "ipython",
    "version": 3
   },
   "file_extension": ".py",
   "mimetype": "text/x-python",
   "name": "python",
   "nbconvert_exporter": "python",
   "pygments_lexer": "ipython3",
   "version": "3.9.9"
  }
 },
 "nbformat": 4,
 "nbformat_minor": 5
}
