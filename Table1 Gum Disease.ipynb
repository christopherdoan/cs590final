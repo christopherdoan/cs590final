{
 "cells": [
  {
   "cell_type": "code",
   "execution_count": 12,
   "id": "dbb39ec5",
   "metadata": {},
   "outputs": [],
   "source": [
    "import numpy as np\n",
    "import pandas as pd\n",
    "from matplotlib import pyplot as plt"
   ]
  },
  {
   "cell_type": "code",
   "execution_count": 13,
   "id": "cfcbec35",
   "metadata": {},
   "outputs": [
    {
     "name": "stdout",
     "output_type": "stream",
     "text": [
      "Index(['angina', 'DPQ020', 'OHQ850', 'SMQ020', 'WHD020', 'PAQ650', 'BPQ020',\n",
      "       'RIAGENDR', 'RIDAGEYR', 'DBQ700'],\n",
      "      dtype='object')\n"
     ]
    }
   ],
   "source": [
    "df = pd.read_csv('dataset_grade_2.csv').drop(columns= ['Unnamed: 0', 'SEQN', 'DPQ090', 'OHQ620', 'OHQ835'])\n",
    "print(df.columns)\n",
    "\n",
    "\"\"\"\n",
    "\n",
    "Put everything into X and y. Then convert everything to binary\n",
    "\n",
    "\"\"\"\n",
    "\n",
    "X = df.drop(columns= ['angina'])\n",
    "y = df['angina']\n",
    "\n",
    "gen_map ={1:1, 2:0}\n",
    "\n",
    "X['DPQ020'] = X['DPQ020'].astype(int)\n",
    "# print(X['DPQ020'].value_counts())\n",
    "# X['DPQ020'] = X['DPQ020'].map({0:0, 1:1, 2:1, 3:1 })\n",
    "# print(X['DPQ020'].value_counts())\n",
    "\n",
    "X['OHQ850'] = X['OHQ850'].astype(int)\n",
    "X['OHQ850'] = X['OHQ850'].map(gen_map)\n",
    "# print(X['OHQ850'].unique())\n",
    "\n",
    "X['SMQ020'] = X['SMQ020'].astype(int)\n",
    "X['SMQ020'] = X['SMQ020'].map(gen_map)\n",
    "# print(X['SMQ020'].unique()) \n",
    "\n",
    "# print(X['WHD020'].median())\n",
    "# X['WHD020_2'] = np.where(X['WHD020'] >= X['WHD020'].mean()+(X['WHD020'].std()/2), 1, 0)\n",
    "# X['WHD020'] = X['WHD020_2'] \n",
    "# X = X.drop(columns = ['WHD020_2'])\n",
    "# print(X['WHD020'].value_counts() )\n",
    "\n",
    "X['BPQ020'] = X['BPQ020'].astype(int)\n",
    "X['BPQ020'] = X['BPQ020'].map(gen_map)\n",
    "# print(X['BPQ020'].value_counts() )\n",
    "\n",
    "\n",
    "X['PAQ650'] = X['PAQ650'].astype(int)\n",
    "X['PAQ650'] = X['PAQ650'].map(gen_map)\n",
    "# print(X['PAQ650'].value_counts() )\n",
    "\n",
    "X['RIAGENDR'] = X['RIAGENDR'].astype(int)\n",
    "X['RIAGENDR'] = X['RIAGENDR'].map(gen_map)\n",
    "# print(X['RIAGENDR'].value_counts() )\n",
    "\n",
    "X['DBQ700'] = X['DBQ700'].astype(int)\n",
    "X['DBQ700'] = X['DBQ700'] -1\n",
    "# X['DBQ700'] = X['DBQ700'].map({1:1, 2:1, 3:1, 4:0, 5:0})\n",
    "# print(X['DBQ700'].value_counts() )\n",
    "\n",
    "# X['WHD020'] = X['RIDAGEYR'].astype(int)\n",
    "# X['RIDAGEYR2'] = np.where(X['RIDAGEYR'] > 65, 1,0)\n",
    "# X['RIDAGEYR'] =  X['RIDAGEYR2']\n",
    "# X = X.drop(columns = ['RIDAGEYR2'])\n",
    "# print(X['RIDAGEYR'].value_counts())\n",
    "\n",
    "y =y.astype(int)\n"
   ]
  },
  {
   "cell_type": "code",
   "execution_count": 14,
   "id": "cb1dff24",
   "metadata": {},
   "outputs": [],
   "source": [
    "data_df = X\n",
    "data_df['angina'] =  y\n"
   ]
  },
  {
   "cell_type": "code",
   "execution_count": 15,
   "id": "61da6a43",
   "metadata": {},
   "outputs": [
    {
     "name": "stdout",
     "output_type": "stream",
     "text": [
      "[55. 54. 41. 70. 64. 62. 66. 75. 44. 60. 80. 56. 65. 52. 50. 71. 45. 61.\n",
      " 51. 46. 43. 63. 58. 76. 73. 47. 79. 42. 77. 74. 69. 67. 49. 53. 78. 59.\n",
      " 68. 72. 57. 40. 48.]\n"
     ]
    }
   ],
   "source": [
    "print(data_df['RIDAGEYR'].unique())"
   ]
  },
  {
   "cell_type": "code",
   "execution_count": 16,
   "id": "6307ec21",
   "metadata": {},
   "outputs": [
    {
     "data": {
      "text/plain": [
       "{'whiskers': [<matplotlib.lines.Line2D at 0x27c471373a0>,\n",
       "  <matplotlib.lines.Line2D at 0x27c47137730>],\n",
       " 'caps': [<matplotlib.lines.Line2D at 0x27c47137ac0>,\n",
       "  <matplotlib.lines.Line2D at 0x27c47137e50>],\n",
       " 'boxes': [<matplotlib.lines.Line2D at 0x27c4712afa0>],\n",
       " 'medians': [<matplotlib.lines.Line2D at 0x27c47142220>],\n",
       " 'fliers': [<matplotlib.lines.Line2D at 0x27c471425b0>],\n",
       " 'means': []}"
      ]
     },
     "execution_count": 16,
     "metadata": {},
     "output_type": "execute_result"
    },
    {
     "data": {
      "image/png": "[encoded data removed]",
      "text/plain": [
       "<Figure size 432x288 with 1 Axes>"
      ]
     },
     "metadata": {
      "needs_background": "light"
     },
     "output_type": "display_data"
    }
   ],
   "source": [
    "fig ,ax = plt.subplots()\n",
    "ax.boxplot(data_df['RIDAGEYR'])"
   ]
  },
  {
   "cell_type": "code",
   "execution_count": 17,
   "id": "98a69797",
   "metadata": {},
   "outputs": [
    {
     "name": "stdout",
     "output_type": "stream",
     "text": [
      "(119, 10)\n",
      "(165, 10)\n",
      "(150, 10)\n",
      "(126, 10)\n",
      "(31, 10)\n",
      "(34, 10)\n",
      "(40, 10)\n",
      "(34, 10)\n",
      "(88, 10)\n",
      "(131, 10)\n",
      "(110, 10)\n",
      "(92, 10)\n"
     ]
    },
    {
     "name": "stderr",
     "output_type": "stream",
     "text": [
      "C:\\Users\\enoch\\AppData\\Local\\Temp/ipykernel_36340/1887144639.py:2: UserWarning: Boolean Series key will be reindexed to match DataFrame index.\n",
      "  print(data_df[data_df['RIDAGEYR'] > 50][data_df['RIDAGEYR'] <=60].shape)\n",
      "C:\\Users\\enoch\\AppData\\Local\\Temp/ipykernel_36340/1887144639.py:3: UserWarning: Boolean Series key will be reindexed to match DataFrame index.\n",
      "  print(data_df[data_df['RIDAGEYR'] > 60][data_df['RIDAGEYR'] <=70].shape)\n",
      "C:\\Users\\enoch\\AppData\\Local\\Temp/ipykernel_36340/1887144639.py:7: UserWarning: Boolean Series key will be reindexed to match DataFrame index.\n",
      "  print(data_df[data_df['RIDAGEYR'] <= 50][data_df['OHQ850'] == 1].shape)\n",
      "C:\\Users\\enoch\\AppData\\Local\\Temp/ipykernel_36340/1887144639.py:8: UserWarning: Boolean Series key will be reindexed to match DataFrame index.\n",
      "  print(data_df[data_df['RIDAGEYR'] > 50][data_df['RIDAGEYR'] <= 60][data_df['OHQ850'] == 1].shape)\n",
      "C:\\Users\\enoch\\AppData\\Local\\Temp/ipykernel_36340/1887144639.py:9: UserWarning: Boolean Series key will be reindexed to match DataFrame index.\n",
      "  print(data_df[data_df['RIDAGEYR'] > 60][data_df['RIDAGEYR'] <= 70][data_df['OHQ850'] == 1].shape)\n",
      "C:\\Users\\enoch\\AppData\\Local\\Temp/ipykernel_36340/1887144639.py:10: UserWarning: Boolean Series key will be reindexed to match DataFrame index.\n",
      "  print(data_df[data_df['RIDAGEYR'] > 70][data_df['OHQ850'] == 1].shape)\n",
      "C:\\Users\\enoch\\AppData\\Local\\Temp/ipykernel_36340/1887144639.py:12: UserWarning: Boolean Series key will be reindexed to match DataFrame index.\n",
      "  print(data_df[data_df['RIDAGEYR'] <= 50][data_df['OHQ850'] == 0].shape)\n",
      "C:\\Users\\enoch\\AppData\\Local\\Temp/ipykernel_36340/1887144639.py:13: UserWarning: Boolean Series key will be reindexed to match DataFrame index.\n",
      "  print(data_df[data_df['RIDAGEYR'] > 50][data_df['RIDAGEYR']<=60][data_df['OHQ850'] == 0].shape)\n",
      "C:\\Users\\enoch\\AppData\\Local\\Temp/ipykernel_36340/1887144639.py:14: UserWarning: Boolean Series key will be reindexed to match DataFrame index.\n",
      "  print(data_df[data_df['RIDAGEYR'] >60][data_df['RIDAGEYR'] <=70][data_df['OHQ850'] == 0].shape)\n",
      "C:\\Users\\enoch\\AppData\\Local\\Temp/ipykernel_36340/1887144639.py:15: UserWarning: Boolean Series key will be reindexed to match DataFrame index.\n",
      "  print(data_df[data_df['RIDAGEYR'] > 70][data_df['OHQ850'] == 0].shape)\n"
     ]
    }
   ],
   "source": [
    "print(data_df[data_df['RIDAGEYR'] <= 50].shape)\n",
    "print(data_df[data_df['RIDAGEYR'] > 50][data_df['RIDAGEYR'] <=60].shape)\n",
    "print(data_df[data_df['RIDAGEYR'] > 60][data_df['RIDAGEYR'] <=70].shape)\n",
    "print(data_df[data_df['RIDAGEYR'] > 70].shape)\n",
    "\n",
    "# print(data_df.shape)\n",
    "print(data_df[data_df['RIDAGEYR'] <= 50][data_df['OHQ850'] == 1].shape)\n",
    "print(data_df[data_df['RIDAGEYR'] > 50][data_df['RIDAGEYR'] <= 60][data_df['OHQ850'] == 1].shape)\n",
    "print(data_df[data_df['RIDAGEYR'] > 60][data_df['RIDAGEYR'] <= 70][data_df['OHQ850'] == 1].shape)\n",
    "print(data_df[data_df['RIDAGEYR'] > 70][data_df['OHQ850'] == 1].shape)\n",
    "\n",
    "print(data_df[data_df['RIDAGEYR'] <= 50][data_df['OHQ850'] == 0].shape)\n",
    "print(data_df[data_df['RIDAGEYR'] > 50][data_df['RIDAGEYR'] <=60][data_df['OHQ850'] == 0].shape)\n",
    "print(data_df[data_df['RIDAGEYR'] > 60][data_df['RIDAGEYR'] <=70][data_df['OHQ850'] == 0].shape)\n",
    "print(data_df[data_df['RIDAGEYR'] > 70][data_df['OHQ850'] == 0].shape)"
   ]
  },
  {
   "cell_type": "code",
   "execution_count": 18,
   "id": "adc160bc",
   "metadata": {},
   "outputs": [
    {
     "name": "stdout",
     "output_type": "stream",
     "text": [
      "(232, 10)\n",
      "(328, 10)\n",
      "(57, 10)\n",
      "(82, 10)\n",
      "(175, 10)\n",
      "(246, 10)\n"
     ]
    },
    {
     "name": "stderr",
     "output_type": "stream",
     "text": [
      "C:\\Users\\enoch\\AppData\\Local\\Temp/ipykernel_36340/3860697676.py:4: UserWarning: Boolean Series key will be reindexed to match DataFrame index.\n",
      "  print(data_df[data_df['RIAGENDR'] ==1][data_df['OHQ850'] == 1].shape)\n",
      "C:\\Users\\enoch\\AppData\\Local\\Temp/ipykernel_36340/3860697676.py:5: UserWarning: Boolean Series key will be reindexed to match DataFrame index.\n",
      "  print(data_df[data_df['RIAGENDR'] ==0][data_df['OHQ850'] == 1].shape)\n",
      "C:\\Users\\enoch\\AppData\\Local\\Temp/ipykernel_36340/3860697676.py:7: UserWarning: Boolean Series key will be reindexed to match DataFrame index.\n",
      "  print(data_df[data_df['RIAGENDR'] ==1][data_df['OHQ850'] == 0].shape)\n",
      "C:\\Users\\enoch\\AppData\\Local\\Temp/ipykernel_36340/3860697676.py:8: UserWarning: Boolean Series key will be reindexed to match DataFrame index.\n",
      "  print(data_df[data_df['RIAGENDR'] ==0][data_df['OHQ850'] == 0].shape)\n"
     ]
    }
   ],
   "source": [
    "print(data_df[data_df['RIAGENDR'] ==1].shape)\n",
    "print(data_df[data_df['RIAGENDR'] ==0].shape)\n",
    "\n",
    "print(data_df[data_df['RIAGENDR'] ==1][data_df['OHQ850'] == 1].shape)\n",
    "print(data_df[data_df['RIAGENDR'] ==0][data_df['OHQ850'] == 1].shape)\n",
    "\n",
    "print(data_df[data_df['RIAGENDR'] ==1][data_df['OHQ850'] == 0].shape)\n",
    "print(data_df[data_df['RIAGENDR'] ==0][data_df['OHQ850'] == 0].shape)"
   ]
  },
  {
   "cell_type": "code",
   "execution_count": 19,
   "id": "4ad6505f",
   "metadata": {},
   "outputs": [
    {
     "name": "stdout",
     "output_type": "stream",
     "text": [
      "Index(['DPQ020', 'OHQ850', 'SMQ020', 'WHD020', 'PAQ650', 'BPQ020', 'RIAGENDR',\n",
      "       'RIDAGEYR', 'DBQ700', 'angina'],\n",
      "      dtype='object')\n"
     ]
    }
   ],
   "source": [
    "print(data_df.columns)"
   ]
  },
  {
   "cell_type": "code",
   "execution_count": 20,
   "id": "4449376a",
   "metadata": {},
   "outputs": [
    {
     "name": "stdout",
     "output_type": "stream",
     "text": [
      "(385, 10)\n",
      "(175, 10)\n",
      "(101, 10)\n",
      "(38, 10)\n",
      "(284, 10)\n",
      "(137, 10)\n"
     ]
    },
    {
     "name": "stderr",
     "output_type": "stream",
     "text": [
      "C:\\Users\\enoch\\AppData\\Local\\Temp/ipykernel_36340/4065683070.py:4: UserWarning: Boolean Series key will be reindexed to match DataFrame index.\n",
      "  print(data_df[data_df['BPQ020'] == 1][data_df['OHQ850'] == 1].shape)\n",
      "C:\\Users\\enoch\\AppData\\Local\\Temp/ipykernel_36340/4065683070.py:5: UserWarning: Boolean Series key will be reindexed to match DataFrame index.\n",
      "  print(data_df[data_df['BPQ020'] == 0][data_df['OHQ850'] == 1].shape)\n",
      "C:\\Users\\enoch\\AppData\\Local\\Temp/ipykernel_36340/4065683070.py:7: UserWarning: Boolean Series key will be reindexed to match DataFrame index.\n",
      "  print(data_df[data_df['BPQ020'] == 1][data_df['OHQ850'] == 0].shape)\n",
      "C:\\Users\\enoch\\AppData\\Local\\Temp/ipykernel_36340/4065683070.py:8: UserWarning: Boolean Series key will be reindexed to match DataFrame index.\n",
      "  print(data_df[data_df['BPQ020'] == 0][data_df['OHQ850'] == 0].shape)\n"
     ]
    }
   ],
   "source": [
    "print(data_df[data_df['BPQ020'] == 1].shape)\n",
    "print(data_df[data_df['BPQ020'] == 0].shape)\n",
    "\n",
    "print(data_df[data_df['BPQ020'] == 1][data_df['OHQ850'] == 1].shape)\n",
    "print(data_df[data_df['BPQ020'] == 0][data_df['OHQ850'] == 1].shape)\n",
    "\n",
    "print(data_df[data_df['BPQ020'] == 1][data_df['OHQ850'] == 0].shape)\n",
    "print(data_df[data_df['BPQ020'] == 0][data_df['OHQ850'] == 0].shape)"
   ]
  },
  {
   "cell_type": "code",
   "execution_count": 21,
   "id": "0e27a8ad",
   "metadata": {},
   "outputs": [
    {
     "name": "stdout",
     "output_type": "stream",
     "text": [
      "(347, 10)\n",
      "(213, 10)\n",
      "(75, 10)\n",
      "(64, 10)\n",
      "(272, 10)\n",
      "(149, 10)\n"
     ]
    },
    {
     "name": "stderr",
     "output_type": "stream",
     "text": [
      "C:\\Users\\enoch\\AppData\\Local\\Temp/ipykernel_36340/3399980815.py:4: UserWarning: Boolean Series key will be reindexed to match DataFrame index.\n",
      "  print(data_df[data_df['SMQ020'] == 1][data_df['OHQ850'] == 1].shape)\n",
      "C:\\Users\\enoch\\AppData\\Local\\Temp/ipykernel_36340/3399980815.py:5: UserWarning: Boolean Series key will be reindexed to match DataFrame index.\n",
      "  print(data_df[data_df['SMQ020'] == 0][data_df['OHQ850'] == 1].shape)\n",
      "C:\\Users\\enoch\\AppData\\Local\\Temp/ipykernel_36340/3399980815.py:7: UserWarning: Boolean Series key will be reindexed to match DataFrame index.\n",
      "  print(data_df[data_df['SMQ020'] == 1][data_df['OHQ850'] == 0].shape)\n",
      "C:\\Users\\enoch\\AppData\\Local\\Temp/ipykernel_36340/3399980815.py:8: UserWarning: Boolean Series key will be reindexed to match DataFrame index.\n",
      "  print(data_df[data_df['SMQ020'] == 0][data_df['OHQ850'] == 0].shape)\n"
     ]
    }
   ],
   "source": [
    "print(data_df[data_df['SMQ020'] == 1].shape)\n",
    "print(data_df[data_df['SMQ020'] == 0].shape)\n",
    "\n",
    "print(data_df[data_df['SMQ020'] == 1][data_df['OHQ850'] == 1].shape)\n",
    "print(data_df[data_df['SMQ020'] == 0][data_df['OHQ850'] == 1].shape)\n",
    "\n",
    "print(data_df[data_df['SMQ020'] == 1][data_df['OHQ850'] == 0].shape)\n",
    "print(data_df[data_df['SMQ020'] == 0][data_df['OHQ850'] == 0].shape)"
   ]
  },
  {
   "cell_type": "code",
   "execution_count": 22,
   "id": "48e409c6",
   "metadata": {},
   "outputs": [
    {
     "name": "stdout",
     "output_type": "stream",
     "text": [
      "(139, 10)\n",
      "(421, 10)\n",
      "(139, 10)\n",
      "(0, 10)\n",
      "(0, 10)\n",
      "(421, 10)\n"
     ]
    },
    {
     "name": "stderr",
     "output_type": "stream",
     "text": [
      "C:\\Users\\enoch\\AppData\\Local\\Temp/ipykernel_36340/2143888725.py:4: UserWarning: Boolean Series key will be reindexed to match DataFrame index.\n",
      "  print(data_df[data_df['OHQ850'] == 1][data_df['OHQ850'] == 1].shape)\n",
      "C:\\Users\\enoch\\AppData\\Local\\Temp/ipykernel_36340/2143888725.py:5: UserWarning: Boolean Series key will be reindexed to match DataFrame index.\n",
      "  print(data_df[data_df['OHQ850'] == 0][data_df['OHQ850'] == 1].shape)\n",
      "C:\\Users\\enoch\\AppData\\Local\\Temp/ipykernel_36340/2143888725.py:7: UserWarning: Boolean Series key will be reindexed to match DataFrame index.\n",
      "  print(data_df[data_df['OHQ850'] == 1][data_df['OHQ850'] == 0].shape)\n",
      "C:\\Users\\enoch\\AppData\\Local\\Temp/ipykernel_36340/2143888725.py:8: UserWarning: Boolean Series key will be reindexed to match DataFrame index.\n",
      "  print(data_df[data_df['OHQ850'] == 0][data_df['OHQ850'] == 0].shape)\n"
     ]
    }
   ],
   "source": [
    "print(data_df[data_df['OHQ850'] == 1].shape)\n",
    "print(data_df[data_df['OHQ850'] == 0].shape)\n",
    "\n",
    "print(data_df[data_df['OHQ850'] == 1][data_df['OHQ850'] == 1].shape)\n",
    "print(data_df[data_df['OHQ850'] == 0][data_df['OHQ850'] == 1].shape)\n",
    "\n",
    "print(data_df[data_df['OHQ850'] == 1][data_df['OHQ850'] == 0].shape)\n",
    "print(data_df[data_df['OHQ850'] == 0][data_df['OHQ850'] == 0].shape)"
   ]
  },
  {
   "cell_type": "code",
   "execution_count": 23,
   "id": "4f64e1f2",
   "metadata": {},
   "outputs": [
    {
     "name": "stdout",
     "output_type": "stream",
     "text": [
      "(43, 10)\n",
      "(517, 10)\n",
      "(12, 10)\n",
      "(127, 10)\n",
      "(31, 10)\n",
      "(390, 10)\n"
     ]
    },
    {
     "name": "stderr",
     "output_type": "stream",
     "text": [
      "C:\\Users\\enoch\\AppData\\Local\\Temp/ipykernel_36340/3623643145.py:4: UserWarning: Boolean Series key will be reindexed to match DataFrame index.\n",
      "  print(data_df[data_df['PAQ650'] == 1][data_df['OHQ850'] == 1].shape)\n",
      "C:\\Users\\enoch\\AppData\\Local\\Temp/ipykernel_36340/3623643145.py:5: UserWarning: Boolean Series key will be reindexed to match DataFrame index.\n",
      "  print(data_df[data_df['PAQ650'] == 0][data_df['OHQ850'] == 1].shape)\n",
      "C:\\Users\\enoch\\AppData\\Local\\Temp/ipykernel_36340/3623643145.py:7: UserWarning: Boolean Series key will be reindexed to match DataFrame index.\n",
      "  print(data_df[data_df['PAQ650'] == 1][data_df['OHQ850'] == 0].shape)\n",
      "C:\\Users\\enoch\\AppData\\Local\\Temp/ipykernel_36340/3623643145.py:8: UserWarning: Boolean Series key will be reindexed to match DataFrame index.\n",
      "  print(data_df[data_df['PAQ650'] == 0][data_df['OHQ850'] == 0].shape)\n"
     ]
    }
   ],
   "source": [
    "print(data_df[data_df['PAQ650'] == 1].shape)\n",
    "print(data_df[data_df['PAQ650'] == 0].shape)\n",
    "\n",
    "print(data_df[data_df['PAQ650'] == 1][data_df['OHQ850'] == 1].shape)\n",
    "print(data_df[data_df['PAQ650'] == 0][data_df['OHQ850'] == 1].shape)\n",
    "\n",
    "print(data_df[data_df['PAQ650'] == 1][data_df['OHQ850'] == 0].shape)\n",
    "print(data_df[data_df['PAQ650'] == 0][data_df['OHQ850'] == 0].shape)"
   ]
  },
  {
   "cell_type": "code",
   "execution_count": 24,
   "id": "96c66186",
   "metadata": {
    "scrolled": true
   },
   "outputs": [
    {
     "name": "stdout",
     "output_type": "stream",
     "text": [
      "[1 3 0 2]\n",
      "(273, 10)\n",
      "(159, 10)\n",
      "(63, 10)\n",
      "(65, 10)\n",
      "(63, 10)\n",
      "(48, 10)\n",
      "(13, 10)\n",
      "(15, 10)\n",
      "(210, 10)\n",
      "(111, 10)\n",
      "(50, 10)\n",
      "(50, 10)\n"
     ]
    },
    {
     "name": "stderr",
     "output_type": "stream",
     "text": [
      "C:\\Users\\enoch\\AppData\\Local\\Temp/ipykernel_36340/3846509142.py:8: UserWarning: Boolean Series key will be reindexed to match DataFrame index.\n",
      "  print(data_df[data_df['DPQ020'] == 0][data_df['OHQ850'] == 1].shape)\n",
      "C:\\Users\\enoch\\AppData\\Local\\Temp/ipykernel_36340/3846509142.py:9: UserWarning: Boolean Series key will be reindexed to match DataFrame index.\n",
      "  print(data_df[data_df['DPQ020'] == 1][data_df['OHQ850'] == 1].shape)\n",
      "C:\\Users\\enoch\\AppData\\Local\\Temp/ipykernel_36340/3846509142.py:10: UserWarning: Boolean Series key will be reindexed to match DataFrame index.\n",
      "  print(data_df[data_df['DPQ020'] == 2][data_df['OHQ850'] == 1].shape)\n",
      "C:\\Users\\enoch\\AppData\\Local\\Temp/ipykernel_36340/3846509142.py:11: UserWarning: Boolean Series key will be reindexed to match DataFrame index.\n",
      "  print(data_df[data_df['DPQ020'] == 3][data_df['OHQ850'] == 1].shape)\n",
      "C:\\Users\\enoch\\AppData\\Local\\Temp/ipykernel_36340/3846509142.py:13: UserWarning: Boolean Series key will be reindexed to match DataFrame index.\n",
      "  print(data_df[data_df['DPQ020'] == 0][data_df['OHQ850'] == 0].shape)\n",
      "C:\\Users\\enoch\\AppData\\Local\\Temp/ipykernel_36340/3846509142.py:14: UserWarning: Boolean Series key will be reindexed to match DataFrame index.\n",
      "  print(data_df[data_df['DPQ020'] == 1][data_df['OHQ850'] == 0].shape)\n",
      "C:\\Users\\enoch\\AppData\\Local\\Temp/ipykernel_36340/3846509142.py:15: UserWarning: Boolean Series key will be reindexed to match DataFrame index.\n",
      "  print(data_df[data_df['DPQ020'] == 2][data_df['OHQ850'] == 0].shape)\n",
      "C:\\Users\\enoch\\AppData\\Local\\Temp/ipykernel_36340/3846509142.py:16: UserWarning: Boolean Series key will be reindexed to match DataFrame index.\n",
      "  print(data_df[data_df['DPQ020'] == 3][data_df['OHQ850'] == 0].shape)\n"
     ]
    }
   ],
   "source": [
    "print(data_df['DPQ020'].unique())\n",
    "\n",
    "print(data_df[data_df['DPQ020'] == 0].shape)\n",
    "print(data_df[data_df['DPQ020'] == 1].shape)\n",
    "print(data_df[data_df['DPQ020'] == 2].shape)\n",
    "print(data_df[data_df['DPQ020'] == 3].shape)\n",
    "\n",
    "print(data_df[data_df['DPQ020'] == 0][data_df['OHQ850'] == 1].shape)\n",
    "print(data_df[data_df['DPQ020'] == 1][data_df['OHQ850'] == 1].shape)\n",
    "print(data_df[data_df['DPQ020'] == 2][data_df['OHQ850'] == 1].shape)\n",
    "print(data_df[data_df['DPQ020'] == 3][data_df['OHQ850'] == 1].shape)\n",
    "\n",
    "print(data_df[data_df['DPQ020'] == 0][data_df['OHQ850'] == 0].shape)\n",
    "print(data_df[data_df['DPQ020'] == 1][data_df['OHQ850'] == 0].shape)\n",
    "print(data_df[data_df['DPQ020'] == 2][data_df['OHQ850'] == 0].shape)\n",
    "print(data_df[data_df['DPQ020'] == 3][data_df['OHQ850'] == 0].shape)"
   ]
  },
  {
   "cell_type": "code",
   "execution_count": 25,
   "id": "5bbb0973",
   "metadata": {},
   "outputs": [
    {
     "name": "stdout",
     "output_type": "stream",
     "text": [
      "[3 2 1 4 0]\n",
      "(20, 10)\n",
      "(82, 10)\n",
      "(197, 10)\n",
      "(180, 10)\n",
      "(81, 10)\n",
      "(7, 10)\n",
      "(20, 10)\n",
      "(58, 10)\n",
      "(41, 10)\n",
      "(13, 10)\n",
      "(13, 10)\n",
      "(62, 10)\n",
      "(139, 10)\n",
      "(139, 10)\n",
      "(68, 10)\n"
     ]
    },
    {
     "name": "stderr",
     "output_type": "stream",
     "text": [
      "C:\\Users\\enoch\\AppData\\Local\\Temp/ipykernel_36340/2710071945.py:9: UserWarning: Boolean Series key will be reindexed to match DataFrame index.\n",
      "  print(data_df[data_df['DBQ700'] == 0][data_df['OHQ850'] == 1].shape)\n",
      "C:\\Users\\enoch\\AppData\\Local\\Temp/ipykernel_36340/2710071945.py:10: UserWarning: Boolean Series key will be reindexed to match DataFrame index.\n",
      "  print(data_df[data_df['DBQ700'] == 1][data_df['OHQ850'] == 1].shape)\n",
      "C:\\Users\\enoch\\AppData\\Local\\Temp/ipykernel_36340/2710071945.py:11: UserWarning: Boolean Series key will be reindexed to match DataFrame index.\n",
      "  print(data_df[data_df['DBQ700'] == 2][data_df['OHQ850'] == 1].shape)\n",
      "C:\\Users\\enoch\\AppData\\Local\\Temp/ipykernel_36340/2710071945.py:12: UserWarning: Boolean Series key will be reindexed to match DataFrame index.\n",
      "  print(data_df[data_df['DBQ700'] == 3][data_df['OHQ850'] == 1].shape)\n",
      "C:\\Users\\enoch\\AppData\\Local\\Temp/ipykernel_36340/2710071945.py:13: UserWarning: Boolean Series key will be reindexed to match DataFrame index.\n",
      "  print(data_df[data_df['DBQ700'] == 4][data_df['OHQ850'] == 1].shape)\n",
      "C:\\Users\\enoch\\AppData\\Local\\Temp/ipykernel_36340/2710071945.py:15: UserWarning: Boolean Series key will be reindexed to match DataFrame index.\n",
      "  print(data_df[data_df['DBQ700'] == 0][data_df['OHQ850'] == 0].shape)\n",
      "C:\\Users\\enoch\\AppData\\Local\\Temp/ipykernel_36340/2710071945.py:16: UserWarning: Boolean Series key will be reindexed to match DataFrame index.\n",
      "  print(data_df[data_df['DBQ700'] == 1][data_df['OHQ850'] == 0].shape)\n",
      "C:\\Users\\enoch\\AppData\\Local\\Temp/ipykernel_36340/2710071945.py:17: UserWarning: Boolean Series key will be reindexed to match DataFrame index.\n",
      "  print(data_df[data_df['DBQ700'] == 2][data_df['OHQ850'] == 0].shape)\n",
      "C:\\Users\\enoch\\AppData\\Local\\Temp/ipykernel_36340/2710071945.py:18: UserWarning: Boolean Series key will be reindexed to match DataFrame index.\n",
      "  print(data_df[data_df['DBQ700'] == 3][data_df['OHQ850'] == 0].shape)\n",
      "C:\\Users\\enoch\\AppData\\Local\\Temp/ipykernel_36340/2710071945.py:19: UserWarning: Boolean Series key will be reindexed to match DataFrame index.\n",
      "  print(data_df[data_df['DBQ700'] == 4][data_df['OHQ850'] == 0].shape)\n"
     ]
    }
   ],
   "source": [
    "print(data_df['DBQ700'].unique())\n",
    "\n",
    "print(data_df[data_df['DBQ700'] == 0].shape)\n",
    "print(data_df[data_df['DBQ700'] == 1].shape)\n",
    "print(data_df[data_df['DBQ700'] == 2].shape)\n",
    "print(data_df[data_df['DBQ700'] == 3].shape)\n",
    "print(data_df[data_df['DBQ700'] == 4].shape)\n",
    "\n",
    "print(data_df[data_df['DBQ700'] == 0][data_df['OHQ850'] == 1].shape)\n",
    "print(data_df[data_df['DBQ700'] == 1][data_df['OHQ850'] == 1].shape)\n",
    "print(data_df[data_df['DBQ700'] == 2][data_df['OHQ850'] == 1].shape)\n",
    "print(data_df[data_df['DBQ700'] == 3][data_df['OHQ850'] == 1].shape)\n",
    "print(data_df[data_df['DBQ700'] == 4][data_df['OHQ850'] == 1].shape)\n",
    "\n",
    "print(data_df[data_df['DBQ700'] == 0][data_df['OHQ850'] == 0].shape)\n",
    "print(data_df[data_df['DBQ700'] == 1][data_df['OHQ850'] == 0].shape)\n",
    "print(data_df[data_df['DBQ700'] == 2][data_df['OHQ850'] == 0].shape)\n",
    "print(data_df[data_df['DBQ700'] == 3][data_df['OHQ850'] == 0].shape)\n",
    "print(data_df[data_df['DBQ700'] == 4][data_df['OHQ850'] == 0].shape)"
   ]
  },
  {
   "cell_type": "markdown",
   "id": "517c4e8d",
   "metadata": {},
   "source": [
    "## Testing"
   ]
  },
  {
   "cell_type": "code",
   "execution_count": 29,
   "id": "a902d427",
   "metadata": {},
   "outputs": [
    {
     "name": "stdout",
     "output_type": "stream",
     "text": [
      "421\n",
      "421.0\n",
      "Power_divergenceResult(statistic=28.51111678899739, pvalue=9.824665240839602e-06)\n"
     ]
    }
   ],
   "source": [
    "import scipy.stats as stats\n",
    "\n",
    "\n",
    "\"\"\"\n",
    "\n",
    "Chi-square testing for diet categorical variables\n",
    "\n",
    "\"\"\"\n",
    "expectation = [68, 139, 139, 62, 13]\n",
    "observed = [13, 41, 58, 20, 7]\n",
    "multiplier = np.sum(expectation)/np.sum(observed)\n",
    "observed = np.array(observed)*multiplier\n",
    "print(np.sum(expectation))\n",
    "print(np.sum(observed.sum()))\n",
    "\n",
    "print(stats.chisquare(observed, f_exp= expectation))"
   ]
  },
  {
   "cell_type": "code",
   "execution_count": 30,
   "id": "53f8c086",
   "metadata": {},
   "outputs": [
    {
     "name": "stdout",
     "output_type": "stream",
     "text": [
      "421\n",
      "420.99999999999994\n",
      "Power_divergenceResult(statistic=15.077962027034017, pvalue=0.0017512225886470512)\n"
     ]
    }
   ],
   "source": [
    "\n",
    "\"\"\"\n",
    "\n",
    "Chi-square testing for depression categorical variables\n",
    "\n",
    "\"\"\"\n",
    "expectation = [210, 111, 50, 50]\n",
    "observed = [63, 48, 13, 15]\n",
    "multiplier = np.sum(expectation)/np.sum(observed)\n",
    "observed = np.array(observed)*multiplier\n",
    "print(np.sum(expectation))\n",
    "print(np.sum(observed.sum()))\n",
    "\n",
    "print(stats.chisquare(observed, f_exp= expectation))"
   ]
  },
  {
   "cell_type": "code",
   "execution_count": 31,
   "id": "fb0f17d9",
   "metadata": {},
   "outputs": [
    {
     "name": "stdout",
     "output_type": "stream",
     "text": [
      "421\n",
      "421.0\n",
      "Power_divergenceResult(statistic=8.828955021946596, pvalue=0.03165362217103055)\n"
     ]
    }
   ],
   "source": [
    "\"\"\"\n",
    "\n",
    "Chi-square testing for age categorical variables\n",
    "\n",
    "\"\"\"\n",
    "expectation = [88, 131, 110, 92]\n",
    "observed = [31, 34, 40, 34]\n",
    "multiplier = np.sum(expectation)/np.sum(observed)\n",
    "observed = np.array(observed)*multiplier\n",
    "print(np.sum(expectation))\n",
    "print(np.sum(observed.sum()))\n",
    "\n",
    "print(stats.chisquare(observed, f_exp= expectation))"
   ]
  },
  {
   "cell_type": "code",
   "execution_count": 39,
   "id": "5fe7ff1a",
   "metadata": {},
   "outputs": [
    {
     "name": "stdout",
     "output_type": "stream",
     "text": [
      "[170. 198. 202. 240. 192. 142. 130. 180. 230. 188. 175. 280. 218. 219.\n",
      " 128. 140. 278. 158. 155. 148. 247. 351. 320. 295. 190. 172. 160. 325.\n",
      " 165. 282. 171. 110. 176. 215. 199. 156. 221. 150. 228. 238. 210. 193.\n",
      " 144. 250. 184. 208. 200. 300. 216. 168. 178. 174. 182. 245. 194. 134.\n",
      " 161. 118. 195. 248. 124. 185. 112. 151. 253. 163. 196. 177. 290. 135.\n",
      " 217. 265. 246. 207. 257. 120. 133. 121. 145. 220. 212. 262. 137. 205.\n",
      " 225. 157. 152. 287. 204. 319. 350. 235. 277. 105. 127. 226. 223. 284.\n",
      " 484. 206. 187. 255. 213. 179. 273. 153. 260. 275. 252. 189. 322. 143.\n",
      "  92. 162. 296. 164. 316. 115. 169. 321. 136. 229. 386. 251. 267. 340.\n",
      " 173. 354. 167. 154. 285. 231. 272. 256. 211. 147. 242. 345. 183. 107.\n",
      " 236. 149. 119. 232. 254. 298. 258. 146. 323. 114. 391. 244. 141. 330.\n",
      " 122.]\n"
     ]
    },
    {
     "data": {
      "text/plain": [
       "(array([ 38., 183., 169.,  97.,  46.,  16.,   7.,   3.,   0.,   1.]),\n",
       " array([ 92. , 131.2, 170.4, 209.6, 248.8, 288. , 327.2, 366.4, 405.6,\n",
       "        444.8, 484. ]),\n",
       " <BarContainer object of 10 artists>)"
      ]
     },
     "execution_count": 39,
     "metadata": {},
     "output_type": "execute_result"
    },
    {
     "data": {
      "image/png": "[encoded data removed]",
      "text/plain": [
       "<Figure size 432x288 with 2 Axes>"
      ]
     },
     "metadata": {
      "needs_background": "light"
     },
     "output_type": "display_data"
    }
   ],
   "source": [
    "print(data_df['WHD020'].unique())\n",
    "fig ,ax = plt.subplots(2,1)\n",
    "ax[0].boxplot(data_df['WHD020'])\n",
    "ax[1].hist(data_df['WHD020'])"
   ]
  },
  {
   "cell_type": "code",
   "execution_count": 34,
   "id": "ba6c6722",
   "metadata": {},
   "outputs": [
    {
     "name": "stdout",
     "output_type": "stream",
     "text": [
      "(114, 10)\n",
      "(266, 10)\n",
      "(114, 10)\n",
      "(66, 10)\n",
      "(34, 10)\n",
      "(66, 10)\n",
      "(28, 10)\n",
      "(11, 10)\n",
      "(80, 10)\n",
      "(200, 10)\n",
      "(86, 10)\n",
      "(55, 10)\n"
     ]
    },
    {
     "name": "stderr",
     "output_type": "stream",
     "text": [
      "C:\\Users\\enoch\\AppData\\Local\\Temp/ipykernel_36340/638428766.py:3: UserWarning: Boolean Series key will be reindexed to match DataFrame index.\n",
      "  print(data_df[data_df['WHD020'] > 150][data_df['WHD020'] <= 200].shape)\n",
      "C:\\Users\\enoch\\AppData\\Local\\Temp/ipykernel_36340/638428766.py:4: UserWarning: Boolean Series key will be reindexed to match DataFrame index.\n",
      "  print(data_df[data_df['WHD020'] > 200][data_df['WHD020'] <= 250].shape)\n",
      "C:\\Users\\enoch\\AppData\\Local\\Temp/ipykernel_36340/638428766.py:8: UserWarning: Boolean Series key will be reindexed to match DataFrame index.\n",
      "  print(data_df[data_df['WHD020'] <= 150][data_df['OHQ850'] == 1].shape)\n",
      "C:\\Users\\enoch\\AppData\\Local\\Temp/ipykernel_36340/638428766.py:9: UserWarning: Boolean Series key will be reindexed to match DataFrame index.\n",
      "  print(data_df[data_df['WHD020'] > 150][data_df['WHD020'] <= 200][data_df['OHQ850'] == 1].shape)\n",
      "C:\\Users\\enoch\\AppData\\Local\\Temp/ipykernel_36340/638428766.py:10: UserWarning: Boolean Series key will be reindexed to match DataFrame index.\n",
      "  print(data_df[data_df['WHD020'] > 200][data_df['WHD020'] <= 250][data_df['OHQ850'] == 1].shape)\n",
      "C:\\Users\\enoch\\AppData\\Local\\Temp/ipykernel_36340/638428766.py:11: UserWarning: Boolean Series key will be reindexed to match DataFrame index.\n",
      "  print(data_df[data_df['WHD020'] > 250][data_df['OHQ850'] == 1].shape)\n",
      "C:\\Users\\enoch\\AppData\\Local\\Temp/ipykernel_36340/638428766.py:13: UserWarning: Boolean Series key will be reindexed to match DataFrame index.\n",
      "  print(data_df[data_df['WHD020'] <= 150][data_df['OHQ850'] == 0].shape)\n",
      "C:\\Users\\enoch\\AppData\\Local\\Temp/ipykernel_36340/638428766.py:14: UserWarning: Boolean Series key will be reindexed to match DataFrame index.\n",
      "  print(data_df[data_df['WHD020'] > 150][data_df['WHD020'] <= 200][data_df['OHQ850'] == 0].shape)\n",
      "C:\\Users\\enoch\\AppData\\Local\\Temp/ipykernel_36340/638428766.py:15: UserWarning: Boolean Series key will be reindexed to match DataFrame index.\n",
      "  print(data_df[data_df['WHD020'] > 200][data_df['WHD020'] <= 250][data_df['OHQ850'] == 0].shape)\n",
      "C:\\Users\\enoch\\AppData\\Local\\Temp/ipykernel_36340/638428766.py:16: UserWarning: Boolean Series key will be reindexed to match DataFrame index.\n",
      "  print(data_df[data_df['WHD020'] > 250][data_df['OHQ850'] == 0].shape)\n"
     ]
    }
   ],
   "source": [
    "# < 150, 150-200, 200-250, >250 \n",
    "print(data_df[data_df['WHD020'] <=  150].shape)\n",
    "print(data_df[data_df['WHD020'] > 150][data_df['WHD020'] <= 200].shape)\n",
    "print(data_df[data_df['WHD020'] > 200][data_df['WHD020'] <= 250].shape)\n",
    "print(data_df[data_df['WHD020'] > 250].shape)\n",
    "\n",
    "# print(data_df.shape)\n",
    "print(data_df[data_df['WHD020'] <= 150][data_df['OHQ850'] == 1].shape)\n",
    "print(data_df[data_df['WHD020'] > 150][data_df['WHD020'] <= 200][data_df['OHQ850'] == 1].shape)\n",
    "print(data_df[data_df['WHD020'] > 200][data_df['WHD020'] <= 250][data_df['OHQ850'] == 1].shape)\n",
    "print(data_df[data_df['WHD020'] > 250][data_df['OHQ850'] == 1].shape)\n",
    "\n",
    "print(data_df[data_df['WHD020'] <= 150][data_df['OHQ850'] == 0].shape)\n",
    "print(data_df[data_df['WHD020'] > 150][data_df['WHD020'] <= 200][data_df['OHQ850'] == 0].shape)\n",
    "print(data_df[data_df['WHD020'] > 200][data_df['WHD020'] <= 250][data_df['OHQ850'] == 0].shape)\n",
    "print(data_df[data_df['WHD020'] > 250][data_df['OHQ850'] == 0].shape)"
   ]
  },
  {
   "cell_type": "code",
   "execution_count": 40,
   "id": "ff2b1454",
   "metadata": {},
   "outputs": [
    {
     "name": "stdout",
     "output_type": "stream",
     "text": [
      "139\n",
      "139.0\n",
      "Power_divergenceResult(statistic=6.357847395360954, pvalue=0.09544042688232753)\n"
     ]
    }
   ],
   "source": [
    "\"\"\"\n",
    "\n",
    "Chi-square testing for age categorical variables\n",
    "\n",
    "\"\"\"\n",
    "expectation = [34, 66, 28, 11]\n",
    "observed = [80, 200, 86, 55]\n",
    "multiplier = np.sum(expectation)/np.sum(observed)\n",
    "observed = np.array(observed)*multiplier\n",
    "print(np.sum(expectation))\n",
    "print(np.sum(observed.sum()))\n",
    "\n",
    "print(stats.chisquare(observed, f_exp= expectation))"
   ]
  }
 ],
 "metadata": {
  "interpreter": {
   "hash": "570adee5d64055f685eb7b7fc41e20c01ba970e1c794f715e5f0b3f0eede175c"
  },
  "kernelspec": {
   "display_name": "cs590",
   "language": "python",
   "name": "python3"
  },
  "language_info": {
   "codemirror_mode": {
    "name": "ipython",
    "version": 3
   },
   "file_extension": ".py",
   "mimetype": "text/x-python",
   "name": "python",
   "nbconvert_exporter": "python",
   "pygments_lexer": "ipython3",
   "version": "3.9.7"
  }
 },
 "nbformat": 4,
 "nbformat_minor": 5
}
