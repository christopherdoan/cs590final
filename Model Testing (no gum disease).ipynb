{
 "cells": [
  {
   "cell_type": "code",
   "execution_count": 2,
   "id": "6225095c",
   "metadata": {},
   "outputs": [],
   "source": [
    "import numpy as np\n",
    "import pandas as pd\n",
    "from sklearn.model_selection import KFold, StratifiedKFold\n",
    "from sklearn.model_selection import train_test_split\n",
    "from sklearn.linear_model import LogisticRegression\n",
    "from sklearn.metrics import accuracy_score, f1_score, roc_auc_score, auc, precision_recall_curve, average_precision_score\n",
    "\n",
    "\n",
    "from sklearn.preprocessing import OneHotEncoder"
   ]
  },
  {
   "cell_type": "code",
   "execution_count": 3,
   "id": "a01a5c5e",
   "metadata": {},
   "outputs": [
    {
     "name": "stdout",
     "output_type": "stream",
     "text": [
      "(560, 13)\n",
      "Index(['angina', 'DPQ020', 'DPQ090', 'OHQ850', 'OHQ835', 'OHQ620', 'SMQ020',\n",
      "       'WHD020', 'PAQ650', 'BPQ020', 'RIAGENDR', 'RIDAGEYR', 'DBQ700'],\n",
      "      dtype='object')\n"
     ]
    }
   ],
   "source": [
    "df = pd.read_csv('dataset_grade_2.csv').drop(columns= ['Unnamed: 0', 'SEQN'])\n",
    "print(df.shape)\n",
    "print(df.columns)"
   ]
  },
  {
   "cell_type": "markdown",
   "id": "9e1b0316",
   "metadata": {},
   "source": [
    "## Data Preprocessing"
   ]
  },
  {
   "cell_type": "code",
   "execution_count": 11,
   "id": "48f94ffa",
   "metadata": {},
   "outputs": [
    {
     "name": "stdout",
     "output_type": "stream",
     "text": [
      "(560, 26)\n"
     ]
    }
   ],
   "source": [
    "# first we'll one hot encode categorical variables\n",
    "dummy_depr = pd.get_dummies(df.DPQ020.astype(int), prefix='depr')\n",
    "dummy_death = pd.get_dummies(df.DPQ090.astype(int), prefix = \"death\")\n",
    "dummy_diet = pd.get_dummies(df.DBQ700, prefix = \"diet\")\n",
    "# print(dummy_death)\n",
    "\n",
    "df.drop(columns = ['DPQ020', 'DPQ090', 'DBQ700'])\n",
    "\n",
    "diet_columns = ['diet_1.0', 'diet_2.0', 'diet_3.0', 'diet_4.0', 'diet_5.0' ]\n",
    "depr_columns = ['depr_0', 'depr_1', 'depr_2', 'depr_3']\n",
    "death_columns = ['death_0', 'death_1', 'death_2', 'death_3']\n",
    "\n",
    "for c in diet_columns:\n",
    "    df[c] = dummy_diet[c]\n",
    "for c in depr_columns:\n",
    "    df[c] = dummy_depr[c]\n",
    "for c in death_columns:\n",
    "    df[c] = dummy_death[c]\n",
    "    \n",
    "print(df.shape)"
   ]
  },
  {
   "cell_type": "markdown",
   "id": "605887ce",
   "metadata": {},
   "source": [
    "## Split dataset into X, y (and convert to NumPy Ndarray)"
   ]
  },
  {
   "cell_type": "code",
   "execution_count": 12,
   "id": "7915ba94",
   "metadata": {},
   "outputs": [
    {
     "name": "stdout",
     "output_type": "stream",
     "text": [
      "(560, 22)\n",
      "Index(['DPQ020', 'DPQ090', 'SMQ020', 'WHD020', 'PAQ650', 'BPQ020', 'RIAGENDR',\n",
      "       'RIDAGEYR', 'DBQ700', 'diet_1.0', 'diet_2.0', 'diet_3.0', 'diet_4.0',\n",
      "       'diet_5.0', 'depr_0', 'depr_1', 'depr_2', 'depr_3', 'death_0',\n",
      "       'death_1', 'death_2', 'death_3'],\n",
      "      dtype='object')\n",
      "False    430\n",
      "True     130\n",
      "dtype: int64\n"
     ]
    }
   ],
   "source": [
    "\"\"\"\n",
    "Split dataset into X, y\n",
    "Converted to NumPy Ndarray\n",
    "\"\"\"\n",
    "X = df.iloc[:, 1:]\n",
    "X = X.drop(columns = ['OHQ850', 'OHQ835', 'OHQ620'])\n",
    "print(X.shape)\n",
    "cols = X.columns\n",
    "print(cols)\n",
    "X = X.to_numpy()\n",
    "y = df['angina'].to_numpy()\n",
    "print(pd.DataFrame(y).value_counts())\n"
   ]
  },
  {
   "cell_type": "markdown",
   "id": "64890093",
   "metadata": {},
   "source": [
    "## Split total dataset dataset into 80:20 shuffled split (train/test)"
   ]
  },
  {
   "cell_type": "code",
   "execution_count": 13,
   "id": "6ba752f6",
   "metadata": {},
   "outputs": [
    {
     "name": "stdout",
     "output_type": "stream",
     "text": [
      "(448, 22)\n",
      "(112, 22)\n",
      "(448,)\n",
      "(112,)\n"
     ]
    }
   ],
   "source": [
    "\"\"\"\n",
    "Split total dataset into 80:20 split (train/test)\n",
    "Shuffled\n",
    "\"\"\"\n",
    "X_train_validation, X_test, y_train_validation, y_test = train_test_split(X, y, test_size=0.20, random_state=59, shuffle=True, stratify=y)\n",
    "# print(X_train)\n",
    "# print(X_test)\n",
    "# print(y_train)\n",
    "# print(y_test)\n",
    "print(X_train_validation.shape)\n",
    "print(X_test.shape)\n",
    "print(y_train_validation.shape)\n",
    "print(y_test.shape)"
   ]
  },
  {
   "cell_type": "markdown",
   "id": "27d566d4",
   "metadata": {},
   "source": [
    "## Upsample use SMOTE"
   ]
  },
  {
   "cell_type": "code",
   "execution_count": 14,
   "id": "4ebfb23b",
   "metadata": {},
   "outputs": [],
   "source": [
    "from imblearn.over_sampling import SMOTE\n",
    "# Resampling the minority class. The strategy can be changed as required.\n",
    "# sm = SMOTE(sampling_strategy='minority', random_state=42)\n",
    "# # Fit the model to generate the data.\n",
    "# oversampled_X, oversampled_Y = sm.fit_resample(X_train_validation, y_train_validation)\n",
    "# X_train_validation = oversampled_X\n",
    "# y_train_validation = oversampled_Y\n",
    "# print(pd.DataFrame(y_train_validation).value_counts())"
   ]
  },
  {
   "cell_type": "markdown",
   "id": "05328138",
   "metadata": {},
   "source": [
    "## Hyperparameter Tuning (k-fold validation)"
   ]
  },
  {
   "cell_type": "code",
   "execution_count": 19,
   "id": "796e10d8",
   "metadata": {},
   "outputs": [],
   "source": [
    "def hyperparam_tune(clf, alphas, testing, n_splits = 4, prnt=False, cols = cols, n = 0):\n",
    "    N_MODELS = len(alphas)\n",
    "    accuracy_scores = np.zeros((N_MODELS,))\n",
    "    f1_scores = np.zeros((N_MODELS,))\n",
    "    ROC_scores = np.zeros((N_MODELS,))\n",
    "    kf = StratifiedKFold(n_splits=n_splits)\n",
    "    \n",
    "    for i, alpha in enumerate(alphas):\n",
    "        average_accuracy = 0\n",
    "        average_f1_score = 0\n",
    "        average_roc_score = 0\n",
    "        # run k_fold validation and sum performance metrics\n",
    "        for train_index, test_index in kf.split(X_train_validation, y_train_validation):\n",
    "            X_train, X_validation = X_train_validation[train_index], X_train_validation[test_index]\n",
    "            y_train, y_validation = y_train_validation[train_index], y_train_validation[test_index]\n",
    "            \n",
    "            # Oversample using SMOTE\n",
    "            sm = SMOTE(sampling_strategy='minority', random_state=42)\n",
    "            oversampled_X, oversampled_Y = sm.fit_resample(X_train, y_train)\n",
    "            \n",
    "            X_train = pd.DataFrame(oversampled_X)\n",
    "            X_train.columns = cols\n",
    "            y_train = oversampled_Y\n",
    "#             print(pd.DataFrame(y_train_validation).value_counts())\n",
    "\n",
    "            #standardize the continuous columns\n",
    "            age_m, age_sd = X_train['RIDAGEYR'].mean(), X_train['RIDAGEYR'].std()\n",
    "            weight_m, weight_sd = X_train['WHD020'].mean(), X_train['WHD020'].std()\n",
    "#             mouth_m, mouth_sd = X_train['OHQ620'].mean(), X_train['OHQ620'].std()\n",
    "            X_train['WHD020'] = (X_train['WHD020'] - weight_m)/weight_sd\n",
    "            X_train['RIDAGEYR'] = (X_train['RIDAGEYR']-age_m)/age_sd\n",
    "#             X_train['OHQ620'] = (X_train['OHQ620']-mouth_m)/mouth_sd\n",
    "#             print(X_train['RIDAGEYR'].mean(), X_train['RIDAGEYR'].std())\n",
    "#             print(X_train['WHD020'].mean(), X_train['WHD020'].std())\n",
    "#             print(X_train['OHQ620'].mean(), X_train['OHQ620'].std())\n",
    "            X_train = X_train.to_numpy()\n",
    "    \n",
    "            \n",
    "            #conditionals for different models to tune\n",
    "            if testing == 'logistic':\n",
    "                clf.C = alpha \n",
    "            elif testing == 'ridge':\n",
    "                clf.alpha = alpha\n",
    "            elif testing == \"boost\":\n",
    "                clf.n_estimators = n\n",
    "                clf.learning_rate = alpha\n",
    "            elif testing == \"tree\":\n",
    "                clf.max_depth = alpha\n",
    "                clf.min_samples_split = n\n",
    "                \n",
    "            # fit model to data\n",
    "            clf.fit(X_train, y_train)\n",
    "            \n",
    "            # predict labels on validation\n",
    "            y_predictions = clf.predict(X_validation)\n",
    "            \n",
    "            #calculate averages\n",
    "            average_accuracy = average_accuracy + accuracy_score(y_validation, y_predictions)\n",
    "            average_f1_score = average_f1_score + f1_score(y_validation, y_predictions)\n",
    "            average_roc_score = average_roc_score + roc_auc_score(y_validation, y_predictions)\n",
    "          # divide performance metrics by n_splits to get averages\n",
    "        accuracy_scores[i] = average_accuracy / n_splits\n",
    "        f1_scores[i] = average_f1_score / n_splits\n",
    "        ROC_scores[i] = average_roc_score / n_splits\n",
    "        \n",
    "        \n",
    "    \"\"\"\n",
    "    Evalute best hyperparameter\n",
    "    \"\"\"\n",
    "    alpha_with_max_accuracy = alphas[np.where(accuracy_scores == max(accuracy_scores))]\n",
    "    alpha_with_max_f1_score = alphas[np.where(f1_scores == max(f1_scores))]\n",
    "    alpha_with_max_ROC_score = alphas[np.where(ROC_scores == max(ROC_scores))]\n",
    "    \n",
    "        \n",
    "    return {\"max_acc\": (alpha_with_max_accuracy[0], max(accuracy_scores)), \n",
    "            \"max_f1\": (alpha_with_max_f1_score[0], max(f1_scores)), \n",
    "            \"max_roc\": (alpha_with_max_ROC_score[0], max(ROC_scores))}\n",
    "        "
   ]
  },
  {
   "cell_type": "markdown",
   "id": "d9c34a88",
   "metadata": {},
   "source": [
    "## Logistic Regression"
   ]
  },
  {
   "cell_type": "code",
   "execution_count": 30,
   "id": "d37476aa",
   "metadata": {},
   "outputs": [
    {
     "name": "stdout",
     "output_type": "stream",
     "text": [
      "{'max_acc': (1.484968262254465, 0.5843023255813954), 'max_f1': (4.750810162102798, 0.5939570251995453), 'max_roc': (1.0476157527896652, 0.5843023255813954)}\n"
     ]
    }
   ],
   "source": [
    "N_MODELS = 100\n",
    "alphas = np.logspace(-2, 3, N_MODELS)\n",
    "model = LogisticRegression(max_iter=1000000)\n",
    "\n",
    "print(hyperparam_tune(model, alphas, 'logistic', n_splits = 4, prnt=False))"
   ]
  },
  {
   "cell_type": "markdown",
   "id": "f46e84bf",
   "metadata": {},
   "source": [
    "## Ridge Classifier"
   ]
  },
  {
   "cell_type": "code",
   "execution_count": 21,
   "id": "45d9a3f3",
   "metadata": {},
   "outputs": [
    {
     "name": "stdout",
     "output_type": "stream",
     "text": [
      "{'max_acc': (100.0, 0.6339285714285714), 'max_f1': (220.51307399030458, 0.19504323468517842), 'max_roc': (220.51307399030458, 0.5150939177101967)}\n"
     ]
    }
   ],
   "source": [
    "from sklearn.linear_model import RidgeClassifier\n",
    "alphas = np.logspace(2, 3, N_MODELS)\n",
    "model = RidgeClassifier()\n",
    "\n",
    "print(hyperparam_tune(model, alphas, 'ridge', n_splits = 4, prnt=False))"
   ]
  },
  {
   "cell_type": "markdown",
   "id": "708d5026",
   "metadata": {},
   "source": [
    "## Support Vector Classification"
   ]
  },
  {
   "cell_type": "code",
   "execution_count": 23,
   "id": "4b0f4574",
   "metadata": {},
   "outputs": [
    {
     "name": "stdout",
     "output_type": "stream",
     "text": [
      "{'max_acc': (83.02175681319748, 0.5625), 'max_f1': (5.590810182512224, 0.37136796167928676), 'max_roc': (5.590810182512224, 0.5117397137745976)}\n"
     ]
    }
   ],
   "source": [
    "from sklearn.svm import SVC\n",
    "\n",
    "alphas = np.logspace(0, 2, N_MODELS)\n",
    "model = SVC(kernel =  'sigmoid')\n",
    "\n",
    "print(hyperparam_tune(model, alphas, 'logistic', n_splits = 4, prnt=False))"
   ]
  },
  {
   "cell_type": "code",
   "execution_count": 24,
   "id": "3d0877d4",
   "metadata": {},
   "outputs": [],
   "source": [
    "from sklearn.tree import DecisionTreeClassifier\n",
    "\n",
    "# alphas = np.logspace(0, 0, 1)\n",
    "# model = DecisionTreeClassifier()\n",
    "\n",
    "# print(hyperparam_tune(model, alphas, 'tree', n_splits = 4, prnt=False))"
   ]
  },
  {
   "cell_type": "markdown",
   "id": "279902c9",
   "metadata": {},
   "source": [
    "## Adaboost"
   ]
  },
  {
   "cell_type": "code",
   "execution_count": 25,
   "id": "1256d966",
   "metadata": {},
   "outputs": [
    {
     "name": "stdout",
     "output_type": "stream",
     "text": [
      "{'max_acc': (0.7564633275546291, 0.765625), 'max_f1': (1e-06, 0.35838250944659683), 'max_roc': (0.05336699231206313, 0.5383497316636852)}\n"
     ]
    }
   ],
   "source": [
    "from sklearn.ensemble import RandomForestClassifier, AdaBoostClassifier\n",
    "\n",
    "alphas = np.logspace(-6, 0, N_MODELS)\n",
    "model = AdaBoostClassifier()\n",
    "\n",
    "print(hyperparam_tune(model, alphas, 'boost', n_splits = 4, prnt=False, n = 75))"
   ]
  },
  {
   "cell_type": "markdown",
   "id": "168363cd",
   "metadata": {},
   "source": [
    "## Random Forest"
   ]
  },
  {
   "cell_type": "code",
   "execution_count": 26,
   "id": "d7cd390c",
   "metadata": {},
   "outputs": [
    {
     "name": "stdout",
     "output_type": "stream",
     "text": [
      "{'max_acc': (21.544346900318832, 0.7566964285714286), 'max_f1': (1.0, 0.2939067112120136), 'max_roc': (100.0, 0.5483005366726297)}\n"
     ]
    }
   ],
   "source": [
    "alphas = np.logspace(0, 2, 10)\n",
    "model = RandomForestClassifier(max_features='log2')\n",
    "\n",
    "print(hyperparam_tune(model, alphas, 'tree', n = 2, prnt=False))"
   ]
  },
  {
   "cell_type": "markdown",
   "id": "31e4022f",
   "metadata": {},
   "source": [
    "# Test Set Scores"
   ]
  },
  {
   "cell_type": "markdown",
   "id": "794e58ae",
   "metadata": {},
   "source": [
    "## Test Random Forest"
   ]
  },
  {
   "cell_type": "code",
   "execution_count": 28,
   "id": "ed010c28",
   "metadata": {},
   "outputs": [
    {
     "name": "stdout",
     "output_type": "stream",
     "text": [
      "False    344\n",
      "True     344\n",
      "dtype: int64\n",
      "(688, 22)\n",
      "\n",
      "TESTING RESULTS\n",
      "Accuracy: 0.5357142857142857\n",
      "F1: 0.27777777777777773\n",
      "AUC-ROC: 0.4830053667262969\n",
      "\n",
      "TRAINING RESULTS\n",
      "Accuracy: 0.7296511627906976\n",
      "F1: 0.735042735042735\n",
      "AUC-ROC: 0.7296511627906975\n",
      "\n",
      "PR-AUC:\n",
      "TRAINING:\n",
      "0.825320134945325\n",
      "TESTING:\n",
      "0.2509372913943851\n"
     ]
    }
   ],
   "source": [
    "# X_train_validation, X_test, y_train_validation, y_test = train_test_split(X, y, test_size=0.2, random_state=59, shuffle=True, stratify=y)\n",
    "# Resampling the minority class. The strategy can be changed as required.\n",
    "sm = SMOTE(sampling_strategy='minority', random_state=42)\n",
    "# Fit the model to generate the data.\n",
    "oversampled_X, oversampled_Y = sm.fit_resample(X_train_validation, y_train_validation)\n",
    "X_train_validation = oversampled_X\n",
    "X_train_validation = pd.DataFrame(oversampled_X)\n",
    "X_train_validation.columns = cols\n",
    "y_train_validation = oversampled_Y\n",
    "print(pd.DataFrame(y_train_validation).value_counts())\n",
    "print(X_train_validation.shape)\n",
    "\n",
    "#standardize the continuous columns\n",
    "age_m, age_sd = X_train_validation['RIDAGEYR'].mean(), X_train_validation['RIDAGEYR'].std()\n",
    "weight_m, weight_sd = X_train_validation['WHD020'].mean(), X_train_validation['WHD020'].std()\n",
    "# mouth_m, mouth_sd = X_train_validation['OHQ620'].mean(), X_train_validation['OHQ620'].std()\n",
    "X_train_validation['WHD020'] = (X_train_validation['WHD020'] - weight_m)/weight_sd\n",
    "X_train_validation['RIDAGEYR'] = (X_train_validation['RIDAGEYR']-age_m)/age_sd\n",
    "# X_train_validation['OHQ620'] = (X_train_validation['OHQ620']-mouth_m)/mouth_sd\n",
    "#             print(X_train['RIDAGEYR'].mean(), X_train['RIDAGEYR'].std())\n",
    "#             print(X_train['WHD020'].mean(), X_train['WHD020'].std())\n",
    "#             print(X_train['OHQ620'].mean(), X_train['OHQ620'].std())\n",
    "X_train_validation = X_train_validation.to_numpy()\n",
    "\n",
    "model = RandomForestClassifier(max_features='log2', max_depth = 1, min_samples_split = 2)\n",
    "model.fit(X_train_validation, y_train_validation)\n",
    "rf_predictions = model.predict(X_test)\n",
    "rf_predictions2 = model.predict(X_train_validation)\n",
    "print(\"\\nTESTING RESULTS\")\n",
    "print(f\"Accuracy: {accuracy_score(y_test, rf_predictions)}\")\n",
    "print(f\"F1: {f1_score(y_test, rf_predictions)}\")\n",
    "print(f\"AUC-ROC: {roc_auc_score(y_test, rf_predictions)}\")\n",
    "\n",
    "print(\"\\nTRAINING RESULTS\")\n",
    "print(f\"Accuracy: {accuracy_score(y_train_validation, rf_predictions2)}\")\n",
    "print(f\"F1: {f1_score(y_train_validation, rf_predictions2)}\")\n",
    "print(f\"AUC-ROC: {roc_auc_score(y_train_validation, rf_predictions2)}\")\n",
    "\n",
    "print('')\n",
    "print(\"PR-AUC:\")\n",
    "print(\"TRAINING:\")\n",
    "lr_probs2 = model.predict_proba(X_train_validation)[:,1]\n",
    "lr_probs = model.predict_proba(X_test)[:,1]\n",
    "precision, recall, thresh = precision_recall_curve(y_train_validation, lr_probs2)\n",
    "# print(average_precision_score(y_train_validation, lr_probs2))\n",
    "print(auc(recall, precision))\n",
    "print(\"TESTING:\")\n",
    "precision, recall, thresh = precision_recall_curve(y_test, lr_probs)\n",
    "print(auc(recall, precision))\n",
    "# print(average_precision_score(y_test, lr_probs))\n"
   ]
  },
  {
   "cell_type": "markdown",
   "id": "5d6c55d0",
   "metadata": {},
   "source": [
    "## Test Logistic Regression"
   ]
  },
  {
   "cell_type": "code",
   "execution_count": 32,
   "id": "4b475c1f",
   "metadata": {},
   "outputs": [
    {
     "name": "stdout",
     "output_type": "stream",
     "text": [
      "\n",
      "TESTING RESULTS\n",
      "Accuracy 0.7678571428571429\n",
      "F1 :0.0\n",
      "AUC-ROC: 0.5\n",
      "\n",
      "TRAINING RESULTS\n",
      "Accuracy 0.6308139534883721\n",
      "F1 :0.6402266288951841\n",
      "AUC-ROC: 0.630813953488372\n",
      "\n",
      "PR ROC AUC:\n",
      "TRAINING:\n",
      "0.6640721997380952\n",
      "TESTING:\n",
      "0.22012142430733062\n"
     ]
    }
   ],
   "source": [
    "model = LogisticRegression(max_iter=1000000, C=4.7508)\n",
    "model.fit(X_train_validation, y_train_validation)\n",
    "lr_predictions = model.predict(X_test)\n",
    "lr_predictions2 = model.predict(X_train_validation)\n",
    "print(\"\\nTESTING RESULTS\")\n",
    "print(f\"Accuracy {accuracy_score(y_test, lr_predictions)}\")\n",
    "print(f\"F1 :{f1_score(y_test, lr_predictions)}\")\n",
    "print(f\"AUC-ROC: {roc_auc_score(y_test, lr_predictions)}\")\n",
    "\n",
    "print(\"\\nTRAINING RESULTS\")\n",
    "print(f\"Accuracy {accuracy_score(y_train_validation, lr_predictions2)}\")\n",
    "print(f\"F1 :{f1_score(y_train_validation, lr_predictions2)}\")\n",
    "print(f\"AUC-ROC: {roc_auc_score(y_train_validation, lr_predictions2)}\")\n",
    "\n",
    "print('')\n",
    "print(\"PR ROC AUC:\")\n",
    "print(\"TRAINING:\")\n",
    "lr_probs2 = model.predict_proba(X_train_validation)[:,1]\n",
    "lr_probs = model.predict_proba(X_test)[:,1]\n",
    "precision, recall, thresh = precision_recall_curve(y_train_validation, lr_probs2)\n",
    "# print(average_precision_score(y_train_validation, lr_probs2))\n",
    "print(auc(recall, precision))\n",
    "print(\"TESTING:\")\n",
    "precision, recall, thresh = precision_recall_curve(y_test, lr_probs)\n",
    "print(auc(recall, precision))\n",
    "# print(average_precision_score(y_test, lr_predictions))"
   ]
  },
  {
   "cell_type": "code",
   "execution_count": 33,
   "id": "805c540d",
   "metadata": {},
   "outputs": [
    {
     "name": "stdout",
     "output_type": "stream",
     "text": [
      "\n",
      "TESTING RESULTS\n",
      "Accuracy: 0.44642857142857145\n",
      "F1: 0.35416666666666663\n",
      "AUC-ROC: 0.518783542039356\n",
      "\n",
      "TRAINING RESULTS\n",
      "Accuracy: 0.6351744186046512\n",
      "F1: 0.7022538552787664\n",
      "AUC-ROC: 0.6351744186046511\n",
      "\n",
      "PR ROC AUC:\n",
      "TRAINING:\n",
      "0.761709465442513\n",
      "TESTING:\n",
      "0.48853021978021977\n"
     ]
    }
   ],
   "source": [
    "model = AdaBoostClassifier(n_estimators = 75, learning_rate = 1e-06)\n",
    "model.fit(X_train_validation, y_train_validation)\n",
    "ab_predictions = model.predict(X_test)\n",
    "ab_predictions2 = model.predict(X_train_validation)\n",
    "print(\"\\nTESTING RESULTS\")\n",
    "print(f\"Accuracy: {accuracy_score(y_test, ab_predictions)}\")\n",
    "print(f\"F1: {f1_score(y_test, ab_predictions)}\")\n",
    "print(F\"AUC-ROC: {roc_auc_score(y_test, ab_predictions)}\")\n",
    "\n",
    "print(\"\\nTRAINING RESULTS\")\n",
    "print(f\"Accuracy: {accuracy_score(y_train_validation, ab_predictions2)}\")\n",
    "print(f\"F1: {f1_score(y_train_validation, ab_predictions2)}\")\n",
    "print(F\"AUC-ROC: {roc_auc_score(y_train_validation, ab_predictions2)}\")\n",
    "print('')\n",
    "print(\"PR ROC AUC:\")\n",
    "print(\"TRAINING:\")\n",
    "lr_probs2 = model.predict_proba(X_train_validation)[:,1]\n",
    "lr_probs = model.predict_proba(X_test)[:,1]\n",
    "precision, recall, thresh = precision_recall_curve(y_train_validation, lr_probs2)\n",
    "print(auc(recall, precision))\n",
    "# print(average_precision_score(y_train_validation, lr_probs2))\n",
    "print(\"TESTING:\")\n",
    "precision, recall, thresh = precision_recall_curve(y_test, lr_probs)\n",
    "print(auc(recall, precision))\n",
    "# print(average_precision_score(y_test, lr_probs))"
   ]
  },
  {
   "cell_type": "markdown",
   "id": "572cf85b",
   "metadata": {},
   "source": [
    "## Calculate Precision + Recall"
   ]
  },
  {
   "cell_type": "code",
   "execution_count": 40,
   "id": "c534de28",
   "metadata": {},
   "outputs": [
    {
     "name": "stdout",
     "output_type": "stream",
     "text": [
      "Test results:\n",
      "RandomForest precision: 0.21739130434782608, recall: 0.38461538461538464\n",
      "LR precision: 0, recall: 0\n",
      "AdaBoost precision: 0.24285714285714285, recall: 0.6538461538461539\n",
      "\n",
      "Training results:\n",
      "RandomForest precision: 0.7206703910614525, recall: 0.75\n",
      "LR precision: 0.6243093922651933, recall: 0.6569767441860465\n",
      "AdaBoost precision: 0.593186372745491, recall: 0.8604651162790697\n"
     ]
    }
   ],
   "source": [
    "def create_truth(row):\n",
    "    if row['truth'] == 1 and row['pred'] == 1:\n",
    "        return \"TP\"\n",
    "    if row['truth'] == 1 and row['pred'] == 0:\n",
    "        return \"FN\"\n",
    "    if row['truth'] ==0  and row['pred'] == 1:\n",
    "        return \"FP\"\n",
    "    if row['truth'] == 0 and row['pred'] == 0:\n",
    "        return \"TN\"\n",
    "    \n",
    "\n",
    "def precision_recall(dct):\n",
    "    if 'TP' not in dct.keys():\n",
    "        return (0,0)\n",
    "    if 'FN' not in dct.keys():\n",
    "        recall = dct['TP'] / (dct['TP']+0)\n",
    "    else:\n",
    "        recall = dct['TP'] / (dct['TP'] + dct['FN'])\n",
    "        \n",
    "    precision = dct['TP'] / (dct['TP'] + dct['FP'])\n",
    "    return precision, recall\n",
    "\n",
    "def create_dict(pred, truth, verbose= False):\n",
    "    df = pd.DataFrame()\n",
    "    df['truth'] = truth\n",
    "    df['pred'] = pred\n",
    "    df['result'] = df.apply(lambda row: create_truth(row), axis = 1)\n",
    "    if verbose == True:\n",
    "        print(df['result'].value_counts())\n",
    "    return dict(df['result'].value_counts())\n",
    "\n",
    "print(\"Test results:\")\n",
    "\n",
    "rf_dct = create_dict(rf_predictions, y_test)\n",
    "rf_prec, rf_rec = precision_recall(rf_dct)\n",
    "print(f\"RandomForest precision: {rf_prec}, recall: {rf_rec}\")\n",
    "# print((2*(rf_prec * rf_rec))/(rf_prec + rf_rec))\n",
    "\n",
    "svm_dct = create_dict(lr_predictions, y_test)\n",
    "svm_prec, svm_rec = precision_recall(svm_dct)\n",
    "print(f\"LR precision: {svm_prec}, recall: {svm_rec}\")\n",
    "\n",
    "ab_dct = create_dict(ab_predictions, y_test)\n",
    "ab_prec, ab_rec = precision_recall(ab_dct)\n",
    "print(f\"AdaBoost precision: {ab_prec}, recall: {ab_rec}\")\n",
    "\n",
    "\n",
    "print(\"\\nTraining results:\")\n",
    "rf_dct = create_dict(rf_predictions2, y_train_validation)\n",
    "rf_prec, rf_rec = precision_recall(rf_dct)\n",
    "print(f\"RandomForest precision: {rf_prec}, recall: {rf_rec}\")\n",
    "# print((2*(rf_prec * rf_rec))/(rf_prec + rf_rec))\n",
    "\n",
    "svm_dct = create_dict(lr_predictions2,  y_train_validation)\n",
    "svm_prec, svm_rec = precision_recall(svm_dct)\n",
    "print(f\"LR precision: {svm_prec}, recall: {svm_rec}\")\n",
    "\n",
    "ab_dct = create_dict(ab_predictions2,  y_train_validation)\n",
    "ab_prec, ab_rec = precision_recall(ab_dct)\n",
    "print(f\"AdaBoost precision: {ab_prec}, recall: {ab_rec}\")"
   ]
  },
  {
   "cell_type": "code",
   "execution_count": null,
   "id": "9b126096",
   "metadata": {},
   "outputs": [],
   "source": []
  }
 ],
 "metadata": {
  "kernelspec": {
   "display_name": "cs590",
   "language": "python",
   "name": "cs590"
  },
  "language_info": {
   "codemirror_mode": {
    "name": "ipython",
    "version": 3
   },
   "file_extension": ".py",
   "mimetype": "text/x-python",
   "name": "python",
   "nbconvert_exporter": "python",
   "pygments_lexer": "ipython3",
   "version": "3.9.10"
  }
 },
 "nbformat": 4,
 "nbformat_minor": 5
}
