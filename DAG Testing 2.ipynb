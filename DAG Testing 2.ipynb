{
 "cells": [
  {
   "cell_type": "code",
   "execution_count": 19,
   "metadata": {},
   "outputs": [],
   "source": [
    "import numpy as np\n",
    "import pandas as pd\n",
    "from sklearn.linear_model import LogisticRegression"
   ]
  },
  {
   "cell_type": "code",
   "execution_count": 43,
   "metadata": {},
   "outputs": [
    {
     "name": "stdout",
     "output_type": "stream",
     "text": [
      "Index(['angina', 'DPQ020', 'OHQ850', 'SMQ020', 'WHD020', 'PAQ650', 'BPQ020',\n",
      "       'RIAGENDR', 'RIDAGEYR', 'DBQ700'],\n",
      "      dtype='object')\n"
     ]
    }
   ],
   "source": [
    "df = pd.read_csv('dataset.csv').drop(columns= ['Unnamed: 0', 'SEQN', 'DPQ090', 'OHQ620', 'OHQ835'])\n",
    "print(df.columns)\n",
    "df_grade_2 = pd.read_csv('dataset_grade_2.csv').drop(columns= ['Unnamed: 0', 'SEQN', 'DPQ090', 'OHQ620', 'OHQ835'])"
   ]
  },
  {
   "cell_type": "code",
   "execution_count": 44,
   "metadata": {},
   "outputs": [],
   "source": [
    "\"\"\"\n",
    "\n",
    "Put everything into X and y. Then convert everything to binary\n",
    "\n",
    "\"\"\"\n",
    "\n",
    "X = df.drop(columns= ['angina'])\n",
    "y = df['angina']\n",
    "\n",
    "gen_map ={1:1, 2:0}\n",
    "\n",
    "X['DPQ020'] = X['DPQ020'].astype(int)\n",
    "# print(X['DPQ020'].value_counts())\n",
    "X['DPQ020'] = X['DPQ020'].map({0:0, 1:1, 2:1, 3:1 })\n",
    "# print(X['DPQ020'].value_counts())\n",
    "\n",
    "X['OHQ850'] = X['OHQ850'].astype(int)\n",
    "X['OHQ850'] = X['OHQ850'].map(gen_map)\n",
    "# print(X['OHQ850'].unique())\n",
    "\n",
    "X['SMQ020'] = X['SMQ020'].astype(int)\n",
    "X['SMQ020'] = X['SMQ020'].map(gen_map)\n",
    "# print(X['SMQ020'].unique()) \n",
    "\n",
    "# print(X['WHD020'].median())\n",
    "X['WHD020_2'] = np.where(X['WHD020'] >= X['WHD020'].mean()+(X['WHD020'].std()/2), 1, 0)\n",
    "X['WHD020'] = X['WHD020_2'] \n",
    "X = X.drop(columns = ['WHD020_2'])\n",
    "# print(X['WHD020'].value_counts() )\n",
    "\n",
    "X['BPQ020'] = X['BPQ020'].astype(int)\n",
    "X['BPQ020'] = X['BPQ020'].map(gen_map)\n",
    "# print(X['BPQ020'].value_counts() )\n",
    "\n",
    "\n",
    "X['PAQ650'] = X['PAQ650'].astype(int)\n",
    "X['PAQ650'] = X['PAQ650'].map(gen_map)\n",
    "# print(X['PAQ650'].value_counts() )\n",
    "\n",
    "X['RIAGENDR'] = X['RIAGENDR'].astype(int)\n",
    "X['RIAGENDR'] = X['RIAGENDR'].map(gen_map)\n",
    "# print(X['RIAGENDR'].value_counts() )\n",
    "\n",
    "X['DBQ700'] = X['DBQ700'].astype(int)\n",
    "X['DBQ700'] = X['DBQ700'].map({1:1, 2:1, 3:1, 4:0, 5:0})\n",
    "# print(X['DBQ700'].value_counts() )\n",
    "\n",
    "X['RIDAGEYR'] = X['RIDAGEYR'].astype(int)\n",
    "X['RIDAGEYR2'] = np.where(X['RIDAGEYR'] > 65, 1,0)\n",
    "X['RIDAGEYR'] =  X['RIDAGEYR2']\n",
    "X = X.drop(columns = ['RIDAGEYR2'])\n",
    "# print(X['RIDAGEYR'].value_counts())\n",
    "\n",
    "y =y.astype(int)"
   ]
  },
  {
   "cell_type": "code",
   "execution_count": 45,
   "metadata": {},
   "outputs": [],
   "source": [
    "\"\"\"\n",
    "\n",
    "Put everything into X and y. Then convert everything to binary\n",
    "\n",
    "\"\"\"\n",
    "\n",
    "X_grade_2 = df_grade_2.drop(columns= ['angina'])\n",
    "y_grade_2 = df_grade_2['angina']\n",
    "\n",
    "gen_map ={1:1, 2:0}\n",
    "\n",
    "X_grade_2['DPQ020'] = X_grade_2['DPQ020'].astype(int)\n",
    "# print(X['DPQ020'].value_counts())\n",
    "X_grade_2['DPQ020'] = X_grade_2['DPQ020'].map({0:0, 1:1, 2:1, 3:1 })\n",
    "# print(X['DPQ020'].value_counts())\n",
    "\n",
    "X_grade_2['OHQ850'] = X_grade_2['OHQ850'].astype(int)\n",
    "X_grade_2['OHQ850'] = X_grade_2['OHQ850'].map(gen_map)\n",
    "# print(X['OHQ850'].unique())\n",
    "\n",
    "X_grade_2['SMQ020'] = X_grade_2['SMQ020'].astype(int)\n",
    "X_grade_2['SMQ020'] = X_grade_2['SMQ020'].map(gen_map)\n",
    "# print(X['SMQ020'].unique()) \n",
    "\n",
    "# print(X['WHD020'].median())\n",
    "X_grade_2['WHD020_2'] = np.where(X_grade_2['WHD020'] >= X_grade_2['WHD020'].mean()+(X_grade_2['WHD020'].std()/2), 1, 0)\n",
    "X_grade_2['WHD020'] = X_grade_2['WHD020_2'] \n",
    "X_grade_2 = X_grade_2.drop(columns = ['WHD020_2'])\n",
    "# print(X['WHD020'].value_counts() )\n",
    "\n",
    "X_grade_2['BPQ020'] = X_grade_2['BPQ020'].astype(int)\n",
    "X_grade_2['BPQ020'] = X_grade_2['BPQ020'].map(gen_map)\n",
    "# print(X['BPQ020'].value_counts() )\n",
    "\n",
    "\n",
    "X_grade_2['PAQ650'] = X_grade_2['PAQ650'].astype(int)\n",
    "X_grade_2['PAQ650'] = X_grade_2['PAQ650'].map(gen_map)\n",
    "# print(X['PAQ650'].value_counts() )\n",
    "\n",
    "X_grade_2['RIAGENDR'] = X_grade_2['RIAGENDR'].astype(int)\n",
    "X_grade_2['RIAGENDR'] = X_grade_2['RIAGENDR'].map(gen_map)\n",
    "# print(X['RIAGENDR'].value_counts() )\n",
    "\n",
    "X_grade_2['DBQ700'] = X_grade_2['DBQ700'].astype(int)\n",
    "X_grade_2['DBQ700'] = X_grade_2['DBQ700'].map({1:1, 2:1, 3:1, 4:0, 5:0})\n",
    "# print(X['DBQ700'].value_counts() )\n",
    "\n",
    "X_grade_2['RIDAGEYR'] = X_grade_2['RIDAGEYR'].astype(int)\n",
    "X_grade_2['RIDAGEYR2'] = np.where(X_grade_2['RIDAGEYR'] > 65, 1,0)\n",
    "X_grade_2['RIDAGEYR'] =  X_grade_2['RIDAGEYR2']\n",
    "X_grade_2 = X_grade_2.drop(columns = ['RIDAGEYR2'])\n",
    "# print(X['RIDAGEYR'].value_counts())\n",
    "\n",
    "y_grade_2 =y_grade_2.astype(int)"
   ]
  },
  {
   "cell_type": "markdown",
   "metadata": {},
   "source": [
    "# Testing"
   ]
  },
  {
   "cell_type": "markdown",
   "metadata": {},
   "source": [
    "# DAG 5\n",
    "\n",
    "![DAG5](final_dags/DAG5.PNG)"
   ]
  },
  {
   "cell_type": "code",
   "execution_count": 46,
   "metadata": {},
   "outputs": [
    {
     "name": "stdout",
     "output_type": "stream",
     "text": [
      "[0.6882189  1.08255308 0.72170083 0.7632705  1.71165579 0.974737\n",
      " 1.12527842]\n"
     ]
    }
   ],
   "source": [
    "lr = LogisticRegression(penalty='none', max_iter=1e6)\n",
    "\n",
    "#dag1\n",
    "X1 =  X.drop(columns = ['RIAGENDR', 'DBQ700'])\n",
    "lr.fit(X1, y)\n",
    "print(np.exp(lr.coef_[0]))"
   ]
  },
  {
   "cell_type": "code",
   "execution_count": 47,
   "metadata": {},
   "outputs": [
    {
     "name": "stdout",
     "output_type": "stream",
     "text": [
      "[0.69905314]\n",
      "[1.04746616]\n"
     ]
    }
   ],
   "source": [
    "#test causal path Smoking to Angina\n",
    "testX =  X['SMQ020']\n",
    "testy =  y\n",
    "lr.fit(np.array(testX.values).reshape(-1,1), testy)\n",
    "print(np.exp(lr.coef_[0]))\n",
    "\n",
    "#test causal path AGE to gum disease\n",
    "testX =  X['RIDAGEYR']\n",
    "testy =  X['OHQ850']\n",
    "lr.fit(np.array(testX.values).reshape(-1,1), testy)\n",
    "print(np.exp(lr.coef_[0]))"
   ]
  },
  {
   "cell_type": "markdown",
   "metadata": {},
   "source": [
    "# Grade 1 Angina"
   ]
  },
  {
   "cell_type": "code",
   "execution_count": 52,
   "metadata": {},
   "outputs": [
    {
     "name": "stdout",
     "output_type": "stream",
     "text": [
      "Depression: [0.66098707]\n",
      "Smoking: [0.69905314]\n",
      "Weight: [0.72756558]\n",
      "Exercise: [1.84463439]\n",
      "High Blood Pressure: [0.92404614]\n",
      "Gender: [0.80120975]\n",
      "Diet: [1.3220339]\n",
      "Age: [1.19318179]\n"
     ]
    }
   ],
   "source": [
    "#test causal path Depression to Angina\n",
    "testX =  X['DPQ020']\n",
    "testy =  y\n",
    "lr.fit(np.array(testX.values).reshape(-1,1), testy)\n",
    "print('Depression: {}'.format(np.exp(lr.coef_[0])))\n",
    "\n",
    "#test causal path Smoking to Angina\n",
    "testX =  X['SMQ020']\n",
    "testy =  y\n",
    "lr.fit(np.array(testX.values).reshape(-1,1), testy)\n",
    "print('Smoking: {}'.format(np.exp(lr.coef_[0])))\n",
    "\n",
    "#test causal path Weight to Angina\n",
    "testX =  X['WHD020']\n",
    "testy =  y\n",
    "lr.fit(np.array(testX.values).reshape(-1,1), testy)\n",
    "print('Weight: {}'.format(np.exp(lr.coef_[0])))\n",
    "\n",
    "#test causal path Exercise to Angina\n",
    "testX =  X['PAQ650']\n",
    "testy =  y\n",
    "lr.fit(np.array(testX.values).reshape(-1,1), testy)\n",
    "print('Exercise: {}'.format(np.exp(lr.coef_[0])))\n",
    "\n",
    "#test causal High Blood Pressure to Angina\n",
    "testX =  X['BPQ020']\n",
    "testy =  y\n",
    "lr.fit(np.array(testX.values).reshape(-1,1), testy)\n",
    "print('High Blood Pressure: {}'.format(np.exp(lr.coef_[0])))\n",
    "\n",
    "#test causal Gender to Angina\n",
    "testX =  X['RIAGENDR']\n",
    "testy =  y\n",
    "lr.fit(np.array(testX.values).reshape(-1,1), testy)\n",
    "print('Gender: {}'.format(np.exp(lr.coef_[0])))\n",
    "\n",
    "#test causal Diet to Angina\n",
    "testX =  X['DBQ700']\n",
    "testy =  y\n",
    "lr.fit(np.array(testX.values).reshape(-1,1), testy)\n",
    "print('Diet: {}'.format(np.exp(lr.coef_[0])))\n",
    "\n",
    "#test causal path AGE to Angina\n",
    "testX =  X['RIDAGEYR']\n",
    "testy =  y\n",
    "lr.fit(np.array(testX.values).reshape(-1,1), testy)\n",
    "print('Age: {}'.format(np.exp(lr.coef_[0])))\n"
   ]
  },
  {
   "cell_type": "markdown",
   "metadata": {},
   "source": [
    "# Grade 2 Angina"
   ]
  },
  {
   "cell_type": "code",
   "execution_count": 53,
   "metadata": {},
   "outputs": [
    {
     "name": "stdout",
     "output_type": "stream",
     "text": [
      "Depression: [1.05670942]\n",
      "Smoking: [1.58593752]\n",
      "Weight: [1.08498468]\n",
      "Exercise: [0.31827803]\n",
      "High Blood Pressure: [1.31034451]\n",
      "Gender: [1.45217707]\n",
      "Diet: [0.94484013]\n",
      "Age: [0.96142519]\n"
     ]
    }
   ],
   "source": [
    "#test causal path Depression to Angina\n",
    "testX_grade_2 =  X_grade_2['DPQ020']\n",
    "testy_grade_2 =  y_grade_2\n",
    "lr.fit(np.array(testX_grade_2.values).reshape(-1,1), testy_grade_2)\n",
    "print('Depression: {}'.format(np.exp(lr.coef_[0])))\n",
    "\n",
    "#test causal path Smoking to Angina\n",
    "testX_grade_2 =  X_grade_2['SMQ020']\n",
    "testy_grade_2 =  y_grade_2\n",
    "lr.fit(np.array(testX_grade_2.values).reshape(-1,1), testy_grade_2)\n",
    "print('Smoking: {}'.format(np.exp(lr.coef_[0])))\n",
    "\n",
    "#test causal path Weight to Angina\n",
    "testX_grade_2 =  X_grade_2['WHD020']\n",
    "testy_grade_2 =  y_grade_2\n",
    "lr.fit(np.array(testX_grade_2.values).reshape(-1,1), testy_grade_2)\n",
    "print('Weight: {}'.format(np.exp(lr.coef_[0])))\n",
    "\n",
    "#test causal path Exercise to Angina\n",
    "testX_grade_2 =  X_grade_2['PAQ650']\n",
    "testy_grade_2 =  y_grade_2\n",
    "lr.fit(np.array(testX_grade_2.values).reshape(-1,1), testy_grade_2)\n",
    "print('Exercise: {}'.format(np.exp(lr.coef_[0])))\n",
    "\n",
    "#test causal High Blood Pressure to Angina\n",
    "testX_grade_2 =  X_grade_2['BPQ020']\n",
    "testy_grade_2 =  y_grade_2\n",
    "lr.fit(np.array(testX_grade_2.values).reshape(-1,1), testy_grade_2)\n",
    "print('High Blood Pressure: {}'.format(np.exp(lr.coef_[0])))\n",
    "\n",
    "#test causal Gender to Angina\n",
    "testX_grade_2 =  X_grade_2['RIAGENDR']\n",
    "testy_grade_2 =  y_grade_2\n",
    "lr.fit(np.array(testX_grade_2.values).reshape(-1,1), testy_grade_2)\n",
    "print('Gender: {}'.format(np.exp(lr.coef_[0])))\n",
    "\n",
    "#test causal Diet to Angina\n",
    "testX_grade_2 =  X_grade_2['DBQ700']\n",
    "testy_grade_2 =  y_grade_2\n",
    "lr.fit(np.array(testX_grade_2.values).reshape(-1,1), testy_grade_2)\n",
    "print('Diet: {}'.format(np.exp(lr.coef_[0])))\n",
    "\n",
    "#test causal path AGE to Angina\n",
    "testX_grade_2 =  X_grade_2['RIDAGEYR']\n",
    "testy_grade_2 =  y_grade_2\n",
    "lr.fit(np.array(testX_grade_2.values).reshape(-1,1), testy_grade_2)\n",
    "print('Age: {}'.format(np.exp(lr.coef_[0])))"
   ]
  },
  {
   "cell_type": "code",
   "execution_count": 40,
   "metadata": {},
   "outputs": [
    {
     "name": "stdout",
     "output_type": "stream",
     "text": [
      "[1.20063073]\n",
      "[0.6419492]\n",
      "[0.74119017]\n",
      "[1.1887274]\n",
      "[1.28215617]\n",
      "[0.97714299]\n",
      "[1.52258571]\n",
      "[1.04746616]\n"
     ]
    }
   ],
   "source": [
    "#test causal path Depression to Gum Disease\n",
    "testX =  X['DPQ020']\n",
    "testy =  X['OHQ850']\n",
    "lr.fit(np.array(testX.values).reshape(-1,1), testy)\n",
    "print(np.exp(lr.coef_[0]))\n",
    "\n",
    "#test causal path Smoking to Gum Disease\n",
    "testX =  X['SMQ020']\n",
    "testy =  X['OHQ850']\n",
    "lr.fit(np.array(testX.values).reshape(-1,1), testy)\n",
    "print(np.exp(lr.coef_[0]))\n",
    "\n",
    "#test causal path Weight to Gum Disease\n",
    "testX =  X['WHD020']\n",
    "testy =  X['OHQ850']\n",
    "lr.fit(np.array(testX.values).reshape(-1,1), testy)\n",
    "print(np.exp(lr.coef_[0]))\n",
    "\n",
    "#test causal path Exercise to Gum Disease\n",
    "testX =  X['PAQ650']\n",
    "testy =  X['OHQ850']\n",
    "lr.fit(np.array(testX.values).reshape(-1,1), testy)\n",
    "print(np.exp(lr.coef_[0]))\n",
    "\n",
    "#test causal High Blood Pressure to Gum Disease\n",
    "testX =  X['BPQ020']\n",
    "testy =  X['OHQ850']\n",
    "lr.fit(np.array(testX.values).reshape(-1,1), testy)\n",
    "print(np.exp(lr.coef_[0]))\n",
    "\n",
    "#test causal Gender to Gum Disease\n",
    "testX =  X['RIAGENDR']\n",
    "testy =  X['OHQ850']\n",
    "lr.fit(np.array(testX.values).reshape(-1,1), testy)\n",
    "print(np.exp(lr.coef_[0]))\n",
    "\n",
    "#test causal Diet to Gum Disease\n",
    "testX =  X['DBQ700']\n",
    "testy =  X['OHQ850']\n",
    "lr.fit(np.array(testX.values).reshape(-1,1), testy)\n",
    "print(np.exp(lr.coef_[0]))\n",
    "\n",
    "#test causal path AGE to Gum Disease\n",
    "testX =  X['RIDAGEYR']\n",
    "testy =  X['OHQ850']\n",
    "lr.fit(np.array(testX.values).reshape(-1,1), testy)\n",
    "print(np.exp(lr.coef_[0]))"
   ]
  },
  {
   "cell_type": "markdown",
   "metadata": {},
   "source": [
    "# DAG 6\n",
    "\n",
    "![DAG6](final_dags/DAG6.PNG)"
   ]
  }
 ],
 "metadata": {
  "interpreter": {
   "hash": "570adee5d64055f685eb7b7fc41e20c01ba970e1c794f715e5f0b3f0eede175c"
  },
  "kernelspec": {
   "display_name": "Python 3",
   "language": "python",
   "name": "python3"
  },
  "language_info": {
   "codemirror_mode": {
    "name": "ipython",
    "version": 3
   },
   "file_extension": ".py",
   "mimetype": "text/x-python",
   "name": "python",
   "nbconvert_exporter": "python",
   "pygments_lexer": "ipython3",
   "version": "3.9.7"
  }
 },
 "nbformat": 4,
 "nbformat_minor": 2
}
