{
 "cells": [
  {
   "cell_type": "code",
   "execution_count": 1,
   "id": "6225095c",
   "metadata": {},
   "outputs": [],
   "source": [
    "import numpy as np\n",
    "import pandas as pd\n",
    "from sklearn.model_selection import KFold, StratifiedKFold\n",
    "from sklearn.model_selection import train_test_split\n",
    "from sklearn.linear_model import LogisticRegression\n",
    "from sklearn.metrics import accuracy_score, f1_score, roc_auc_score, auc, precision_recall_curve, average_precision_score\n",
    "\n",
    "\n",
    "from sklearn.preprocessing import OneHotEncoder"
   ]
  },
  {
   "cell_type": "code",
   "execution_count": 2,
   "id": "a01a5c5e",
   "metadata": {},
   "outputs": [
    {
     "name": "stdout",
     "output_type": "stream",
     "text": [
      "(560, 13)\n",
      "Index(['angina', 'DPQ020', 'DPQ090', 'OHQ850', 'OHQ835', 'OHQ620', 'SMQ020',\n",
      "       'WHD020', 'PAQ650', 'BPQ020', 'RIAGENDR', 'RIDAGEYR', 'DBQ700'],\n",
      "      dtype='object')\n"
     ]
    }
   ],
   "source": [
    "df = pd.read_csv('dataset_grade_2.csv').drop(columns= ['Unnamed: 0', 'SEQN'])\n",
    "print(df.shape)\n",
    "print(df.columns)"
   ]
  },
  {
   "cell_type": "markdown",
   "id": "9e1b0316",
   "metadata": {},
   "source": [
    "## Data Preprocessing"
   ]
  },
  {
   "cell_type": "code",
   "execution_count": 3,
   "id": "48f94ffa",
   "metadata": {},
   "outputs": [
    {
     "name": "stdout",
     "output_type": "stream",
     "text": [
      "(560, 26)\n"
     ]
    }
   ],
   "source": [
    "# first we'll one hot encode categorical variables\n",
    "dummy_depr = pd.get_dummies(df.DPQ020.astype(int), prefix='depr')\n",
    "dummy_death = pd.get_dummies(df.DPQ090.astype(int), prefix = \"death\")\n",
    "dummy_diet = pd.get_dummies(df.DBQ700, prefix = \"diet\")\n",
    "# print(dummy_death)\n",
    "\n",
    "df.drop(columns = ['DPQ020', 'DPQ090', 'DBQ700'])\n",
    "\n",
    "diet_columns = ['diet_1.0', 'diet_2.0', 'diet_3.0', 'diet_4.0', 'diet_5.0' ]\n",
    "depr_columns = ['depr_0', 'depr_1', 'depr_2', 'depr_3']\n",
    "death_columns = ['death_0', 'death_1', 'death_2', 'death_3']\n",
    "\n",
    "for c in diet_columns:\n",
    "    df[c] = dummy_diet[c]\n",
    "for c in depr_columns:\n",
    "    df[c] = dummy_depr[c]\n",
    "for c in death_columns:\n",
    "    df[c] = dummy_death[c]\n",
    "    \n",
    "print(df.shape)\n",
    "\n",
    "# #standardize the continuous columns\n",
    "# age_m, age_sd = df['RIDAGEYR'].mean(), df['RIDAGEYR'].std()\n",
    "# weight_m, weight_sd = df['WHD020'].mean(), df['WHD020'].std()\n",
    "# mouth_m, mouth_sd = df['OHQ620'].mean(), df['OHQ620'].std()\n",
    "# df['WHD020'] = (df['WHD020'] - weight_m)/weight_sd\n",
    "# df['RIDAGEYR'] = (df['RIDAGEYR']-age_m)/age_sd\n",
    "# df['OHQ620'] = (df['OHQ620']-mouth_m)/mouth_sd\n",
    "# print(df['RIDAGEYR'].mean(), df['RIDAGEYR'].std())\n",
    "# print(df['WHD020'].mean(), df['WHD020'].std())\n",
    "# print(df['OHQ620'].mean(), df['OHQ620'].std())"
   ]
  },
  {
   "cell_type": "markdown",
   "id": "e0de68ef",
   "metadata": {},
   "source": [
    "## Upsample"
   ]
  },
  {
   "cell_type": "code",
   "execution_count": 4,
   "id": "abccff19",
   "metadata": {},
   "outputs": [],
   "source": [
    "# from sklearn.utils import resample\n",
    "# #create two different dataframe of majority and minority class \n",
    "# df_majority = df[(df['angina']==False)] \n",
    "# df_minority = df[(df['angina']==True)] \n",
    "# # upsample minority class\n",
    "# df_minority_upsampled = resample(df_minority, \n",
    "#                                  replace=True,    # sample with replacement\n",
    "#                                  n_samples= 392, # to match majority class\n",
    "#                                  random_state=42)  # reproducible results\n",
    "# # Combine majority class with upsampled minority class\n",
    "# df = pd.concat([df_minority_upsampled, df_majority])\n",
    "# print(df.shape)"
   ]
  },
  {
   "cell_type": "code",
   "execution_count": 5,
   "id": "c49f0093",
   "metadata": {},
   "outputs": [],
   "source": [
    "# from imblearn.over_sampling import SMOTE\n",
    "# # Resampling the minority class. The strategy can be changed as required.\n",
    "# sm = SMOTE(sampling_strategy='minority', random_state=42)\n",
    "# # Fit the model to generate the data.\n",
    "# oversampled_X, oversampled_Y = sm.fit_sample(df_train.drop('Is_Lead', axis=1), df_train['Is_Lead'])\n",
    "# oversampled = pd.concat([pd.DataFrame(oversampled_Y), pd.DataFrame(oversampled_X)], axis=1)"
   ]
  },
  {
   "cell_type": "markdown",
   "id": "605887ce",
   "metadata": {},
   "source": [
    "## Split dataset into X, y (and convert to NumPy Ndarray)"
   ]
  },
  {
   "cell_type": "code",
   "execution_count": 6,
   "id": "7915ba94",
   "metadata": {},
   "outputs": [
    {
     "name": "stdout",
     "output_type": "stream",
     "text": [
      "(560, 25)\n",
      "Index(['DPQ020', 'DPQ090', 'OHQ850', 'OHQ835', 'OHQ620', 'SMQ020', 'WHD020',\n",
      "       'PAQ650', 'BPQ020', 'RIAGENDR', 'RIDAGEYR', 'DBQ700', 'diet_1.0',\n",
      "       'diet_2.0', 'diet_3.0', 'diet_4.0', 'diet_5.0', 'depr_0', 'depr_1',\n",
      "       'depr_2', 'depr_3', 'death_0', 'death_1', 'death_2', 'death_3'],\n",
      "      dtype='object')\n",
      "False    430\n",
      "True     130\n",
      "dtype: int64\n"
     ]
    }
   ],
   "source": [
    "\"\"\"\n",
    "Split dataset into X, y\n",
    "Converted to NumPy Ndarray\n",
    "\"\"\"\n",
    "X = df.iloc[:, 1:]\n",
    "# X = X.drop(columns = ['OHQ850', 'OHQ835', 'OHQ620'])\n",
    "print(X.shape)\n",
    "cols = X.columns\n",
    "print(cols)\n",
    "X = X.to_numpy()\n",
    "y = df['angina'].to_numpy()\n",
    "print(pd.DataFrame(y).value_counts())\n"
   ]
  },
  {
   "cell_type": "markdown",
   "id": "64890093",
   "metadata": {},
   "source": [
    "## Split total dataset dataset into 80:20 shuffled split (train/test)"
   ]
  },
  {
   "cell_type": "code",
   "execution_count": 7,
   "id": "6ba752f6",
   "metadata": {},
   "outputs": [
    {
     "name": "stdout",
     "output_type": "stream",
     "text": [
      "(448, 25)\n",
      "(112, 25)\n",
      "(448,)\n",
      "(112,)\n"
     ]
    }
   ],
   "source": [
    "\"\"\"\n",
    "Split total dataset into 80:20 split (train/test)\n",
    "Shuffled\n",
    "\"\"\"\n",
    "X_train_validation, X_test, y_train_validation, y_test = train_test_split(X, y, test_size=0.20, random_state=59, shuffle=True, stratify=y)\n",
    "# print(X_train)\n",
    "# print(X_test)\n",
    "# print(y_train)\n",
    "# print(y_test)\n",
    "print(X_train_validation.shape)\n",
    "print(X_test.shape)\n",
    "print(y_train_validation.shape)\n",
    "print(y_test.shape)"
   ]
  },
  {
   "cell_type": "markdown",
   "id": "27d566d4",
   "metadata": {},
   "source": [
    "## Upsample use SMOTE"
   ]
  },
  {
   "cell_type": "code",
   "execution_count": 8,
   "id": "4ebfb23b",
   "metadata": {},
   "outputs": [],
   "source": [
    "from imblearn.over_sampling import SMOTE\n",
    "# Resampling the minority class. The strategy can be changed as required.\n",
    "# sm = SMOTE(sampling_strategy='minority', random_state=42)\n",
    "# # Fit the model to generate the data.\n",
    "# oversampled_X, oversampled_Y = sm.fit_resample(X_train_validation, y_train_validation)\n",
    "# X_train_validation = oversampled_X\n",
    "# y_train_validation = oversampled_Y\n",
    "# print(pd.DataFrame(y_train_validation).value_counts())"
   ]
  },
  {
   "cell_type": "markdown",
   "id": "05328138",
   "metadata": {},
   "source": [
    "## Hyperparameter Tuning (k-fold validation)"
   ]
  },
  {
   "cell_type": "code",
   "execution_count": 9,
   "id": "796e10d8",
   "metadata": {},
   "outputs": [],
   "source": [
    "def hyperparam_tune(clf, alphas, testing, n_splits = 4, prnt=False, cols = cols, n = 0):\n",
    "    N_MODELS = len(alphas)\n",
    "    accuracy_scores = np.zeros((N_MODELS,))\n",
    "    f1_scores = np.zeros((N_MODELS,))\n",
    "    ROC_scores = np.zeros((N_MODELS,))\n",
    "    kf = StratifiedKFold(n_splits=n_splits)\n",
    "    \n",
    "    for i, alpha in enumerate(alphas):\n",
    "        average_accuracy = 0\n",
    "        average_f1_score = 0\n",
    "        average_roc_score = 0\n",
    "        # run k_fold validation and sum performance metrics\n",
    "        for train_index, test_index in kf.split(X_train_validation, y_train_validation):\n",
    "            X_train, X_validation = X_train_validation[train_index], X_train_validation[test_index]\n",
    "            y_train, y_validation = y_train_validation[train_index], y_train_validation[test_index]\n",
    "            \n",
    "            sm = SMOTE(sampling_strategy='minority', random_state=42)\n",
    "            # Fit the model to generate the data.\n",
    "            oversampled_X, oversampled_Y = sm.fit_resample(X_train, y_train)\n",
    "            X_train = pd.DataFrame(oversampled_X)\n",
    "            X_train.columns = cols\n",
    "            y_train = oversampled_Y\n",
    "#             print(pd.DataFrame(y_train_validation).value_counts())\n",
    "\n",
    "            #standardize the continuous columns\n",
    "            age_m, age_sd = X_train['RIDAGEYR'].mean(), X_train['RIDAGEYR'].std()\n",
    "            weight_m, weight_sd = X_train['WHD020'].mean(), X_train['WHD020'].std()\n",
    "            mouth_m, mouth_sd = X_train['OHQ620'].mean(), X_train['OHQ620'].std()\n",
    "            X_train['WHD020'] = (X_train['WHD020'] - weight_m)/weight_sd\n",
    "            X_train['RIDAGEYR'] = (X_train['RIDAGEYR']-age_m)/age_sd\n",
    "            X_train['OHQ620'] = (X_train['OHQ620']-mouth_m)/mouth_sd\n",
    "#             print(X_train['RIDAGEYR'].mean(), X_train['RIDAGEYR'].std())\n",
    "#             print(X_train['WHD020'].mean(), X_train['WHD020'].std())\n",
    "#             print(X_train['OHQ620'].mean(), X_train['OHQ620'].std())\n",
    "            X_train = X_train.to_numpy()\n",
    "    \n",
    "    \n",
    "            if testing == 'logistic':\n",
    "                clf.C = alpha \n",
    "            elif testing == 'ridge':\n",
    "                clf.alpha = alpha\n",
    "            elif testing == \"boost\":\n",
    "                clf.n_estimators = n\n",
    "                clf.learning_rate = alpha\n",
    "            elif testing == \"tree\":\n",
    "                clf.max_depth = alpha\n",
    "                clf.min_samples_split = n\n",
    "            clf.fit(X_train, y_train)\n",
    "            y_predictions = clf.predict(X_validation)\n",
    "            average_accuracy = average_accuracy + accuracy_score(y_validation, y_predictions)\n",
    "            average_f1_score = average_f1_score + f1_score(y_validation, y_predictions)\n",
    "            average_roc_score = average_roc_score + roc_auc_score(y_validation, y_predictions)\n",
    "          # divide performance metrics by n_splits to get averages\n",
    "        accuracy_scores[i] = average_accuracy / n_splits\n",
    "        f1_scores[i] = average_f1_score / n_splits\n",
    "        ROC_scores[i] = average_roc_score / n_splits\n",
    "        \n",
    "        #TODO: Write code to print all results\n",
    "        \n",
    "    \"\"\"\n",
    "    Evalute best hyperparameter\n",
    "    \"\"\"\n",
    "    alpha_with_max_accuracy = alphas[np.where(accuracy_scores == max(accuracy_scores))]\n",
    "    alpha_with_max_f1_score = alphas[np.where(f1_scores == max(f1_scores))]\n",
    "    alpha_with_max_ROC_score = alphas[np.where(ROC_scores == max(ROC_scores))]\n",
    "    \n",
    "        \n",
    "    return {\"max_acc\": (alpha_with_max_accuracy[0], max(accuracy_scores)), \n",
    "            \"max_f1\": (alpha_with_max_f1_score[0], max(f1_scores)), \n",
    "            \"max_roc\": (alpha_with_max_ROC_score[0], max(ROC_scores))}\n",
    "        "
   ]
  },
  {
   "cell_type": "code",
   "execution_count": 33,
   "id": "d37476aa",
   "metadata": {},
   "outputs": [
    {
     "name": "stdout",
     "output_type": "stream",
     "text": [
      "{'max_acc': (1.1497569953977358, 0.5944767441860465), 'max_f1': (1.5199110829529336, 0.6080953557655474), 'max_roc': (1.2328467394420661, 0.5944767441860466)}\n"
     ]
    }
   ],
   "source": [
    "N_MODELS = 100\n",
    "alphas = np.logspace(0, 3, N_MODELS)\n",
    "model = LogisticRegression(max_iter=1000000)\n",
    "\n",
    "print(hyperparam_tune(model, alphas, 'logistic', n_splits = 4, prnt=False))"
   ]
  },
  {
   "cell_type": "code",
   "execution_count": 11,
   "id": "45d9a3f3",
   "metadata": {},
   "outputs": [
    {
     "name": "stdout",
     "output_type": "stream",
     "text": [
      "{'max_acc': (0.001, 0.6339285714285714), 'max_f1': (284.8035868435805, 0.18840579710144928), 'max_roc': (0.001, 0.5)}\n"
     ]
    }
   ],
   "source": [
    "from sklearn.linear_model import RidgeClassifier\n",
    "alphas = np.logspace(-3, 6, N_MODELS)\n",
    "model = RidgeClassifier()\n",
    "\n",
    "print(hyperparam_tune(model, alphas, 'ridge', n_splits = 4, prnt=False))"
   ]
  },
  {
   "cell_type": "code",
   "execution_count": 12,
   "id": "4b0f4574",
   "metadata": {},
   "outputs": [],
   "source": [
    "from sklearn.svm import SVC\n",
    "\n",
    "# alphas = np.logspace(-6, 2, N_MODELS)\n",
    "# model = SVC()\n",
    "\n",
    "# print(hyperparam_tune(model, alphas, 'logistic', n_splits = 4, prnt=False))"
   ]
  },
  {
   "cell_type": "code",
   "execution_count": 14,
   "id": "3d0877d4",
   "metadata": {},
   "outputs": [],
   "source": [
    "from sklearn.tree import DecisionTreeClassifier\n",
    "\n",
    "# alphas = np.logspace(0, 0, 1)\n",
    "# model = DecisionTreeClassifier()\n",
    "\n",
    "# print(hyperparam_tune(model, alphas, 'tree', n_splits = 4, prnt=False))"
   ]
  },
  {
   "cell_type": "code",
   "execution_count": 15,
   "id": "1256d966",
   "metadata": {},
   "outputs": [
    {
     "name": "stdout",
     "output_type": "stream",
     "text": [
      "{'max_acc': (0.7564633275546291, 0.7589285714285715), 'max_f1': (1e-06, 0.31758389833548567), 'max_roc': (0.7564633275546291, 0.5277280858676208)}\n"
     ]
    }
   ],
   "source": [
    "from sklearn.ensemble import RandomForestClassifier, AdaBoostClassifier\n",
    "\n",
    "alphas = np.logspace(-6, 0, N_MODELS)\n",
    "model = AdaBoostClassifier()\n",
    "\n",
    "print(hyperparam_tune(model, alphas, 'boost', n_splits = 4, prnt=False, n = 75))"
   ]
  },
  {
   "cell_type": "code",
   "execution_count": 16,
   "id": "d7cd390c",
   "metadata": {},
   "outputs": [
    {
     "name": "stdout",
     "output_type": "stream",
     "text": [
      "{'max_acc': (12.91549665014884, 0.7455357142857143), 'max_f1': (1.0, 0.2070160863511331), 'max_roc': (59.94842503189409, 0.5165474060822899)}\n"
     ]
    }
   ],
   "source": [
    "alphas = np.logspace(0, 2, 10)\n",
    "model = RandomForestClassifier(max_features='log2')\n",
    "\n",
    "print(hyperparam_tune(model, alphas, 'tree', n = 2, prnt=False))"
   ]
  },
  {
   "cell_type": "markdown",
   "id": "31e4022f",
   "metadata": {},
   "source": [
    "## TODO: Make a list of classifiers with their parameters we wish to hyper-tune"
   ]
  },
  {
   "cell_type": "code",
   "execution_count": 18,
   "id": "ed010c28",
   "metadata": {},
   "outputs": [
    {
     "name": "stdout",
     "output_type": "stream",
     "text": [
      "False    344\n",
      "True     344\n",
      "dtype: int64\n",
      "(688, 25)\n",
      "TESTING RESULTS\n",
      "0.625\n",
      "0.25\n",
      "0.5008944543828264\n",
      "TRAINING RESULTS\n",
      "0.7703488372093024\n",
      "0.7696793002915452\n",
      "0.7703488372093024\n",
      "\n",
      "PR ROC AUC:\n",
      "TRAINING:\n",
      "0.8507625015500989\n",
      "0.850688410470977\n",
      "TESTING:\n",
      "0.20571359536532688\n",
      "0.22111374029305708\n"
     ]
    }
   ],
   "source": [
    "# X_train_validation, X_test, y_train_validation, y_test = train_test_split(X, y, test_size=0.2, random_state=59, shuffle=True, stratify=y)\n",
    "# Resampling the minority class. The strategy can be changed as required.\n",
    "sm = SMOTE(sampling_strategy='minority', random_state=42)\n",
    "# Fit the model to generate the data.\n",
    "oversampled_X, oversampled_Y = sm.fit_resample(X_train_validation, y_train_validation)\n",
    "X_train_validation = oversampled_X\n",
    "X_train_validation = pd.DataFrame(oversampled_X)\n",
    "X_train_validation.columns = cols\n",
    "y_train_validation = oversampled_Y\n",
    "print(pd.DataFrame(y_train_validation).value_counts())\n",
    "print(X_train_validation.shape)\n",
    "\n",
    "#standardize the continuous columns\n",
    "age_m, age_sd = X_train_validation['RIDAGEYR'].mean(), X_train_validation['RIDAGEYR'].std()\n",
    "weight_m, weight_sd = X_train_validation['WHD020'].mean(), X_train_validation['WHD020'].std()\n",
    "mouth_m, mouth_sd = X_train_validation['OHQ620'].mean(), X_train_validation['OHQ620'].std()\n",
    "X_train_validation['WHD020'] = (X_train_validation['WHD020'] - weight_m)/weight_sd\n",
    "X_train_validation['RIDAGEYR'] = (X_train_validation['RIDAGEYR']-age_m)/age_sd\n",
    "X_train_validation['OHQ620'] = (X_train_validation['OHQ620']-mouth_m)/mouth_sd\n",
    "#             print(X_train['RIDAGEYR'].mean(), X_train['RIDAGEYR'].std())\n",
    "#             print(X_train['WHD020'].mean(), X_train['WHD020'].std())\n",
    "#             print(X_train['OHQ620'].mean(), X_train['OHQ620'].std())\n",
    "X_train_validation = X_train_validation.to_numpy()\n",
    "\n",
    "model = RandomForestClassifier(max_features='log2', max_depth = 1, min_samples_split = 2)\n",
    "model.fit(X_train_validation, y_train_validation)\n",
    "rf_predictions = model.predict(X_test)\n",
    "rf_predictions2 = model.predict(X_train_validation)\n",
    "print(\"TESTING RESULTS\")\n",
    "print(accuracy_score(y_test, rf_predictions))\n",
    "print(f1_score(y_test, rf_predictions))\n",
    "print(roc_auc_score(y_test, rf_predictions))\n",
    "\n",
    "print(\"TRAINING RESULTS\")\n",
    "print(accuracy_score(y_train_validation, rf_predictions2))\n",
    "print(f1_score(y_train_validation, rf_predictions2))\n",
    "print(roc_auc_score(y_train_validation, rf_predictions2))\n",
    "\n",
    "print('')\n",
    "print(\"PR ROC AUC:\")\n",
    "print(\"TRAINING:\")\n",
    "lr_probs2 = model.predict_proba(X_train_validation)[:,1]\n",
    "lr_probs = model.predict_proba(X_test)[:,1]\n",
    "precision, recall, thresh = precision_recall_curve(y_train_validation, lr_probs2)\n",
    "print(average_precision_score(y_train_validation, lr_probs2))\n",
    "print(auc(recall, precision))\n",
    "print(\"TESTING:\")\n",
    "precision, recall, thresh = precision_recall_curve(y_test, lr_probs)\n",
    "print(auc(recall, precision))\n",
    "print(average_precision_score(y_test, lr_probs))\n"
   ]
  },
  {
   "cell_type": "code",
   "execution_count": 35,
   "id": "4b475c1f",
   "metadata": {},
   "outputs": [
    {
     "name": "stdout",
     "output_type": "stream",
     "text": [
      "TESTING RESULTS\n",
      "0.5446428571428571\n",
      "0.2816901408450704\n",
      "0.488819320214669\n",
      "TRAINING RESULTS\n",
      "0.6380813953488372\n",
      "0.6478076379066477\n",
      "0.6380813953488372\n",
      "\n",
      "PR ROC AUC:\n",
      "TRAINING:\n",
      "0.6670256720941159\n",
      "0.6659305751314122\n",
      "TESTING:\n",
      "0.2159660491353298\n",
      "0.22832722832722835\n"
     ]
    }
   ],
   "source": [
    "model = LogisticRegression(max_iter=1000000, C=1.5199110829529336)\n",
    "model.fit(X_train_validation, y_train_validation)\n",
    "lr_predictions = model.predict(X_test)\n",
    "lr_predictions2 = model.predict(X_train_validation)\n",
    "print(\"TESTING RESULTS\")\n",
    "print(accuracy_score(y_test, lr_predictions))\n",
    "print(f1_score(y_test, lr_predictions))\n",
    "print(roc_auc_score(y_test, lr_predictions))\n",
    "\n",
    "print(\"TRAINING RESULTS\")\n",
    "print(accuracy_score(y_train_validation, lr_predictions2))\n",
    "print(f1_score(y_train_validation, lr_predictions2))\n",
    "print(roc_auc_score(y_train_validation, lr_predictions2))\n",
    "\n",
    "print('')\n",
    "print(\"PR ROC AUC:\")\n",
    "print(\"TRAINING:\")\n",
    "lr_probs2 = model.predict_proba(X_train_validation)[:,1]\n",
    "lr_probs = model.predict_proba(X_test)[:,1]\n",
    "precision, recall, thresh = precision_recall_curve(y_train_validation, lr_probs2)\n",
    "print(average_precision_score(y_train_validation, lr_probs2))\n",
    "print(auc(recall, precision))\n",
    "print(\"TESTING:\")\n",
    "precision, recall, thresh = precision_recall_curve(y_test, lr_probs)\n",
    "print(auc(recall, precision))\n",
    "print(average_precision_score(y_test, lr_predictions))"
   ]
  },
  {
   "cell_type": "code",
   "execution_count": 37,
   "id": "805c540d",
   "metadata": {},
   "outputs": [
    {
     "name": "stdout",
     "output_type": "stream",
     "text": [
      "TESTING RESULTS\n",
      "0.44642857142857145\n",
      "0.35416666666666663\n",
      "0.518783542039356\n",
      "TRAINING RESULTS\n",
      "0.6366279069767442\n",
      "0.7037914691943128\n",
      "0.6366279069767442\n",
      "\n",
      "PR ROC AUC:\n",
      "TRAINING:\n",
      "0.7628430232558139\n",
      "0.581156976744186\n",
      "TESTING:\n",
      "0.48853021978021977\n",
      "0.23914835164835163\n"
     ]
    }
   ],
   "source": [
    "model = AdaBoostClassifier(n_estimators = 75, learning_rate = 1e-06)\n",
    "model.fit(X_train_validation, y_train_validation)\n",
    "ab_predictions = model.predict(X_test)\n",
    "ab_predictions2 = model.predict(X_train_validation)\n",
    "print(\"TESTING RESULTS\")\n",
    "print(accuracy_score(y_test, ab_predictions))\n",
    "print(f1_score(y_test, ab_predictions))\n",
    "print(roc_auc_score(y_test, ab_predictions))\n",
    "\n",
    "print(\"TRAINING RESULTS\")\n",
    "print(accuracy_score(y_train_validation, ab_predictions2))\n",
    "print(f1_score(y_train_validation, ab_predictions2))\n",
    "print(roc_auc_score(y_train_validation, ab_predictions2))\n",
    "print('')\n",
    "print(\"PR ROC AUC:\")\n",
    "print(\"TRAINING:\")\n",
    "lr_probs2 = model.predict_proba(X_train_validation)[:,1]\n",
    "lr_probs = model.predict_proba(X_test)[:,1]\n",
    "precision, recall, thresh = precision_recall_curve(y_train_validation, lr_probs2)\n",
    "print(auc(recall, precision))\n",
    "print(average_precision_score(y_train_validation, lr_probs2))\n",
    "print(\"TESTING:\")\n",
    "precision, recall, thresh = precision_recall_curve(y_test, lr_probs)\n",
    "print(auc(recall, precision))\n",
    "print(average_precision_score(y_test, lr_probs))"
   ]
  },
  {
   "cell_type": "markdown",
   "id": "572cf85b",
   "metadata": {},
   "source": [
    "## Calculate Precision + Recall"
   ]
  },
  {
   "cell_type": "code",
   "execution_count": 38,
   "id": "c534de28",
   "metadata": {},
   "outputs": [
    {
     "name": "stdout",
     "output_type": "stream",
     "text": [
      "RandomForest precision: 0.23333333333333334, recall: 0.2692307692307692\n",
      "LR precision: 0.2222222222222222, recall: 0.38461538461538464\n",
      "AdaBoost precision: 0.24285714285714285, recall: 0.6538461538461539\n",
      "\n",
      "Training results:\n",
      "RandomForest precision: 0.7719298245614035, recall: 0.7674418604651163\n",
      "LR precision: 0.6308539944903582, recall: 0.6656976744186046\n",
      "AdaBoost precision: 0.594, recall: 0.8633720930232558\n"
     ]
    }
   ],
   "source": [
    "def create_truth(row):\n",
    "    if row['truth'] == 1 and row['pred'] == 1:\n",
    "        return \"TP\"\n",
    "    if row['truth'] == 1 and row['pred'] == 0:\n",
    "        return \"FN\"\n",
    "    if row['truth'] ==0  and row['pred'] == 1:\n",
    "        return \"FP\"\n",
    "    if row['truth'] == 0 and row['pred'] == 0:\n",
    "        return \"TN\"\n",
    "    \n",
    "\n",
    "def precision_recall(dct):\n",
    "    if 'FN' not in dct.keys():\n",
    "        recall = dct['TP'] / (dct['TP']+0)\n",
    "    else:\n",
    "        recall = dct['TP'] / (dct['TP'] + dct['FN'])\n",
    "        \n",
    "    precision = dct['TP'] / (dct['TP'] + dct['FP'])\n",
    "    return precision, recall\n",
    "\n",
    "def create_dict(pred, truth, verbose= False):\n",
    "    df = pd.DataFrame()\n",
    "    df['truth'] = truth\n",
    "    df['pred'] = pred\n",
    "    df['result'] = df.apply(lambda row: create_truth(row), axis = 1)\n",
    "    if verbose == True:\n",
    "        print(df['result'].value_counts())\n",
    "    return dict(df['result'].value_counts())\n",
    "\n",
    "rf_dct = create_dict(rf_predictions, y_test)\n",
    "rf_prec, rf_rec = precision_recall(rf_dct)\n",
    "print(f\"RandomForest precision: {rf_prec}, recall: {rf_rec}\")\n",
    "# print((2*(rf_prec * rf_rec))/(rf_prec + rf_rec))\n",
    "\n",
    "svm_dct = create_dict(lr_predictions, y_test)\n",
    "svm_prec, svm_rec = precision_recall(svm_dct)\n",
    "print(f\"LR precision: {svm_prec}, recall: {svm_rec}\")\n",
    "\n",
    "ab_dct = create_dict(ab_predictions, y_test)\n",
    "ab_prec, ab_rec = precision_recall(ab_dct)\n",
    "print(f\"AdaBoost precision: {ab_prec}, recall: {ab_rec}\")\n",
    "\n",
    "\n",
    "print(\"\\nTraining results:\")\n",
    "rf_dct = create_dict(rf_predictions2, y_train_validation)\n",
    "rf_prec, rf_rec = precision_recall(rf_dct)\n",
    "print(f\"RandomForest precision: {rf_prec}, recall: {rf_rec}\")\n",
    "# print((2*(rf_prec * rf_rec))/(rf_prec + rf_rec))\n",
    "\n",
    "svm_dct = create_dict(lr_predictions2,  y_train_validation)\n",
    "svm_prec, svm_rec = precision_recall(svm_dct)\n",
    "print(f\"LR precision: {svm_prec}, recall: {svm_rec}\")\n",
    "\n",
    "ab_dct = create_dict(ab_predictions2,  y_train_validation)\n",
    "ab_prec, ab_rec = precision_recall(ab_dct)\n",
    "print(f\"AdaBoost precision: {ab_prec}, recall: {ab_rec}\")"
   ]
  },
  {
   "cell_type": "code",
   "execution_count": null,
   "id": "9b126096",
   "metadata": {},
   "outputs": [],
   "source": []
  }
 ],
 "metadata": {
  "kernelspec": {
   "display_name": "cs590",
   "language": "python",
   "name": "cs590"
  },
  "language_info": {
   "codemirror_mode": {
    "name": "ipython",
    "version": 3
   },
   "file_extension": ".py",
   "mimetype": "text/x-python",
   "name": "python",
   "nbconvert_exporter": "python",
   "pygments_lexer": "ipython3",
   "version": "3.9.10"
  }
 },
 "nbformat": 4,
 "nbformat_minor": 5
}
