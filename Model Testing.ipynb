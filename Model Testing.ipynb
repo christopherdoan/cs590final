{
 "cells": [
  {
   "cell_type": "code",
   "execution_count": 1,
   "id": "6225095c",
   "metadata": {},
   "outputs": [],
   "source": [
    "import numpy as np\n",
    "import pandas as pd\n",
    "from sklearn.model_selection import KFold, StratifiedKFold\n",
    "from sklearn.model_selection import train_test_split\n",
    "from sklearn.linear_model import LogisticRegression\n",
    "from sklearn.metrics import accuracy_score, f1_score, roc_auc_score\n",
    "\n",
    "from sklearn.preprocessing import OneHotEncoder"
   ]
  },
  {
   "cell_type": "code",
   "execution_count": 2,
   "id": "a01a5c5e",
   "metadata": {},
   "outputs": [
    {
     "name": "stdout",
     "output_type": "stream",
     "text": [
      "(560, 13)\n",
      "Index(['angina', 'DPQ020', 'DPQ090', 'OHQ850', 'OHQ835', 'OHQ620', 'SMQ020',\n",
      "       'WHD020', 'PAQ650', 'BPQ020', 'RIAGENDR', 'RIDAGEYR', 'DBQ700'],\n",
      "      dtype='object')\n"
     ]
    }
   ],
   "source": [
    "df = pd.read_csv('dataset_grade_2.csv').drop(columns= ['Unnamed: 0', 'SEQN'])\n",
    "print(df.shape)\n",
    "print(df.columns)"
   ]
  },
  {
   "cell_type": "markdown",
   "id": "9e1b0316",
   "metadata": {},
   "source": [
    "## Data Preprocessing"
   ]
  },
  {
   "cell_type": "code",
   "execution_count": 3,
   "id": "48f94ffa",
   "metadata": {},
   "outputs": [
    {
     "name": "stdout",
     "output_type": "stream",
     "text": [
      "(560, 26)\n",
      "1.9349601286324157e-16 0.9999999999999999\n",
      "-1.8080774972466835e-16 1.0\n",
      "6.026924990822278e-17 1.0\n"
     ]
    }
   ],
   "source": [
    "# first we'll one hot encode categorical variables\n",
    "dummy_depr = pd.get_dummies(df.DPQ020.astype(int), prefix='depr')\n",
    "dummy_death = pd.get_dummies(df.DPQ090.astype(int), prefix = \"death\")\n",
    "dummy_diet = pd.get_dummies(df.DBQ700, prefix = \"diet\")\n",
    "# print(dummy_death)\n",
    "\n",
    "df.drop(columns = ['DPQ020', 'DPQ090', 'DBQ700'])\n",
    "\n",
    "diet_columns = ['diet_1.0', 'diet_2.0', 'diet_3.0', 'diet_4.0', 'diet_5.0' ]\n",
    "depr_columns = ['depr_0', 'depr_1', 'depr_2', 'depr_3']\n",
    "death_columns = ['death_0', 'death_1', 'death_2', 'death_3']\n",
    "\n",
    "for c in diet_columns:\n",
    "    df[c] = dummy_diet[c]\n",
    "for c in depr_columns:\n",
    "    df[c] = dummy_depr[c]\n",
    "for c in death_columns:\n",
    "    df[c] = dummy_death[c]\n",
    "    \n",
    "print(df.shape)\n",
    "\n",
    "#standardize the continuous columns\n",
    "age_m, age_sd = df['RIDAGEYR'].mean(), df['RIDAGEYR'].std()\n",
    "weight_m, weight_sd = df['WHD020'].mean(), df['WHD020'].std()\n",
    "mouth_m, mouth_sd = df['OHQ620'].mean(), df['OHQ620'].std()\n",
    "df['WHD020'] = (df['WHD020'] - weight_m)/weight_sd\n",
    "df['RIDAGEYR'] = (df['RIDAGEYR']-age_m)/age_sd\n",
    "df['OHQ620'] = (df['OHQ620']-mouth_m)/mouth_sd\n",
    "print(df['RIDAGEYR'].mean(), df['RIDAGEYR'].std())\n",
    "print(df['WHD020'].mean(), df['WHD020'].std())\n",
    "print(df['OHQ620'].mean(), df['OHQ620'].std())"
   ]
  },
  {
   "cell_type": "markdown",
   "id": "e0de68ef",
   "metadata": {},
   "source": [
    "## Upsample"
   ]
  },
  {
   "cell_type": "code",
   "execution_count": 4,
   "id": "abccff19",
   "metadata": {},
   "outputs": [],
   "source": [
    "# from sklearn.utils import resample\n",
    "# #create two different dataframe of majority and minority class \n",
    "# df_majority = df[(df['angina']==False)] \n",
    "# df_minority = df[(df['angina']==True)] \n",
    "# # upsample minority class\n",
    "# df_minority_upsampled = resample(df_minority, \n",
    "#                                  replace=True,    # sample with replacement\n",
    "#                                  n_samples= 392, # to match majority class\n",
    "#                                  random_state=42)  # reproducible results\n",
    "# # Combine majority class with upsampled minority class\n",
    "# df = pd.concat([df_minority_upsampled, df_majority])\n",
    "# print(df.shape)"
   ]
  },
  {
   "cell_type": "code",
   "execution_count": 5,
   "id": "c49f0093",
   "metadata": {},
   "outputs": [],
   "source": [
    "# from imblearn.over_sampling import SMOTE\n",
    "# # Resampling the minority class. The strategy can be changed as required.\n",
    "# sm = SMOTE(sampling_strategy='minority', random_state=42)\n",
    "# # Fit the model to generate the data.\n",
    "# oversampled_X, oversampled_Y = sm.fit_sample(df_train.drop('Is_Lead', axis=1), df_train['Is_Lead'])\n",
    "# oversampled = pd.concat([pd.DataFrame(oversampled_Y), pd.DataFrame(oversampled_X)], axis=1)"
   ]
  },
  {
   "cell_type": "markdown",
   "id": "605887ce",
   "metadata": {},
   "source": [
    "## Split dataset into X, y (and convert to NumPy Ndarray)"
   ]
  },
  {
   "cell_type": "code",
   "execution_count": 6,
   "id": "7915ba94",
   "metadata": {},
   "outputs": [
    {
     "name": "stdout",
     "output_type": "stream",
     "text": [
      "(560, 22)\n",
      "Index(['DPQ020', 'DPQ090', 'SMQ020', 'WHD020', 'PAQ650', 'BPQ020', 'RIAGENDR',\n",
      "       'RIDAGEYR', 'DBQ700', 'diet_1.0', 'diet_2.0', 'diet_3.0', 'diet_4.0',\n",
      "       'diet_5.0', 'depr_0', 'depr_1', 'depr_2', 'depr_3', 'death_0',\n",
      "       'death_1', 'death_2', 'death_3'],\n",
      "      dtype='object')\n",
      "(560,)\n"
     ]
    }
   ],
   "source": [
    "\"\"\"\n",
    "Split dataset into X, y\n",
    "Converted to NumPy Ndarray\n",
    "\"\"\"\n",
    "X = df.iloc[:, 1:]\n",
    "X = X.drop(columns = ['OHQ850', 'OHQ835', 'OHQ620'])\n",
    "print(X.shape)\n",
    "print(X.columns)\n",
    "X = X.to_numpy()\n",
    "y = df['angina'].to_numpy()\n",
    "print(y.shape)\n"
   ]
  },
  {
   "cell_type": "markdown",
   "id": "64890093",
   "metadata": {},
   "source": [
    "## Split total dataset dataset into 80:20 shuffled split (train/test)"
   ]
  },
  {
   "cell_type": "code",
   "execution_count": 7,
   "id": "6ba752f6",
   "metadata": {},
   "outputs": [
    {
     "name": "stdout",
     "output_type": "stream",
     "text": [
      "(448, 22)\n",
      "(112, 22)\n",
      "(448,)\n",
      "(112,)\n"
     ]
    }
   ],
   "source": [
    "\"\"\"\n",
    "Split total dataset into 80:20 split (train/test)\n",
    "Shuffled\n",
    "\"\"\"\n",
    "X_train_validation, X_test, y_train_validation, y_test = train_test_split(X, y, test_size=0.2, random_state=59, shuffle=True, stratify=y)\n",
    "# print(X_train)\n",
    "# print(X_test)\n",
    "# print(y_train)\n",
    "# print(y_test)\n",
    "print(X_train_validation.shape)\n",
    "print(X_test.shape)\n",
    "print(y_train_validation.shape)\n",
    "print(y_test.shape)"
   ]
  },
  {
   "cell_type": "markdown",
   "id": "27d566d4",
   "metadata": {},
   "source": [
    "## Upsample use SMOTE"
   ]
  },
  {
   "cell_type": "code",
   "execution_count": 8,
   "id": "4ebfb23b",
   "metadata": {},
   "outputs": [
    {
     "name": "stdout",
     "output_type": "stream",
     "text": [
      "(688, 22)\n"
     ]
    }
   ],
   "source": [
    "from imblearn.over_sampling import SMOTE\n",
    "# Resampling the minority class. The strategy can be changed as required.\n",
    "sm = SMOTE(sampling_strategy='minority', random_state=42)\n",
    "# Fit the model to generate the data.\n",
    "oversampled_X, oversampled_Y = sm.fit_resample(X_train_validation, y_train_validation)\n",
    "X_train_validation = oversampled_X\n",
    "y_train_validation = oversampled_Y\n",
    "print(X_train_validation.shape)"
   ]
  },
  {
   "cell_type": "markdown",
   "id": "05328138",
   "metadata": {},
   "source": [
    "## Hyperparameter Tuning (k-fold validation)"
   ]
  },
  {
   "cell_type": "code",
   "execution_count": 9,
   "id": "796e10d8",
   "metadata": {},
   "outputs": [],
   "source": [
    "def hyperparam_tune(clf, alphas, testing, n_splits = 4, prnt=False):\n",
    "    N_MODELS = len(alphas)\n",
    "    accuracy_scores = np.zeros((N_MODELS,))\n",
    "    f1_scores = np.zeros((N_MODELS,))\n",
    "    ROC_scores = np.zeros((N_MODELS,))\n",
    "    kf = StratifiedKFold(n_splits=n_splits)\n",
    "    \n",
    "    for i, alpha in enumerate(alphas):\n",
    "        average_accuracy = 0\n",
    "        average_f1_score = 0\n",
    "        average_roc_score = 0\n",
    "        # run k_fold validation and sum performance metrics\n",
    "        for train_index, test_index in kf.split(X_train_validation, y_train_validation):\n",
    "            X_train, X_validation = X_train_validation[train_index], X_train_validation[test_index]\n",
    "            y_train, y_validation = y_train_validation[train_index], y_train_validation[test_index]\n",
    "            if testing == 'logistic':\n",
    "                clf.C = alpha \n",
    "            elif testing == 'ridge':\n",
    "                clf.alpha = alpha\n",
    "            clf.fit(X_train, y_train)\n",
    "            y_predictions = clf.predict(X_validation)\n",
    "            average_accuracy = average_accuracy + accuracy_score(y_validation, y_predictions)\n",
    "            average_f1_score = average_f1_score + f1_score(y_validation, y_predictions)\n",
    "            average_roc_score = average_roc_score + roc_auc_score(y_validation, y_predictions)\n",
    "          # divide performance metrics by n_splits to get averages\n",
    "        accuracy_scores[i] = average_accuracy / n_splits\n",
    "        f1_scores[i] = average_f1_score / n_splits\n",
    "        ROC_scores[i] = average_roc_score / n_splits\n",
    "        \n",
    "        #TODO: Write code to print all results\n",
    "        \n",
    "        \"\"\"\n",
    "        Evalute best hyperparameter\n",
    "        \"\"\"\n",
    "        alpha_with_max_accuracy = alphas[np.where(accuracy_scores == max(accuracy_scores))]\n",
    "        alpha_with_max_f1_score = alphas[np.where(f1_scores == max(f1_scores))]\n",
    "        alpha_with_max_ROC_score = alphas[np.where(ROC_scores == max(ROC_scores))]\n",
    "        \n",
    "    return {\"max_acc\": (alpha_with_max_accuracy[0], max(accuracy_scores)), \n",
    "            \"max_f1\": (alpha_with_max_f1_score[0], max(f1_scores)), \n",
    "            \"max_roc\": (alpha_with_max_ROC_score[0], max(ROC_scores))}\n",
    "        "
   ]
  },
  {
   "cell_type": "code",
   "execution_count": 10,
   "id": "d37476aa",
   "metadata": {},
   "outputs": [
    {
     "name": "stdout",
     "output_type": "stream",
     "text": [
      "{'max_acc': (0.01873817422860384, 0.565406976744186), 'max_f1': (0.1873817422860385, 0.576254679761303), 'max_roc': (0.01873817422860384, 0.565406976744186)}\n"
     ]
    }
   ],
   "source": [
    "N_MODELS = 100\n",
    "alphas = np.logspace(-3, 6, N_MODELS)\n",
    "model = LogisticRegression(max_iter=1000000)\n",
    "\n",
    "print(hyperparam_tune(model, alphas, 'logistic', n_splits = 4, prnt=False))"
   ]
  },
  {
   "cell_type": "code",
   "execution_count": 11,
   "id": "45d9a3f3",
   "metadata": {},
   "outputs": [
    {
     "name": "stdout",
     "output_type": "stream",
     "text": [
      "{'max_acc': (187.3817422860383, 0.5668604651162791), 'max_f1': (23.10129700083158, 0.5740640992574694), 'max_roc': (187.3817422860383, 0.5668604651162792)}\n"
     ]
    }
   ],
   "source": [
    "from sklearn.linear_model import RidgeClassifier\n",
    "alphas = np.logspace(-3, 6, N_MODELS)\n",
    "model = RidgeClassifier()\n",
    "\n",
    "print(hyperparam_tune(model, alphas, 'ridge', n_splits = 4, prnt=False))"
   ]
  },
  {
   "cell_type": "code",
   "execution_count": 12,
   "id": "4b0f4574",
   "metadata": {},
   "outputs": [
    {
     "name": "stdout",
     "output_type": "stream",
     "text": [
      "{'max_acc': (2310.129700083163, 0.7994186046511629), 'max_f1': (1000.0, 0.8006189808473244), 'max_roc': (2310.129700083163, 0.7994186046511628)}\n"
     ]
    }
   ],
   "source": [
    "from sklearn.svm import SVC\n",
    "\n",
    "alphas = np.logspace(-3, 6, N_MODELS)\n",
    "model = SVC()\n",
    "\n",
    "print(hyperparam_tune(model, alphas, 'logistic', n_splits = 4, prnt=False))"
   ]
  },
  {
   "cell_type": "code",
   "execution_count": 13,
   "id": "3d0877d4",
   "metadata": {},
   "outputs": [
    {
     "name": "stdout",
     "output_type": "stream",
     "text": [
      "{'max_acc': (1.0, 0.5625), 'max_f1': (1.0, 0.5709106836957714), 'max_roc': (1.0, 0.5625)}\n"
     ]
    }
   ],
   "source": [
    "from sklearn.tree import DecisionTreeClassifier\n",
    "\n",
    "alphas = np.logspace(0, 0, 1)\n",
    "model = SVC()\n",
    "\n",
    "print(hyperparam_tune(model, alphas, 'tree', n_splits = 4, prnt=False))"
   ]
  },
  {
   "cell_type": "code",
   "execution_count": 14,
   "id": "1256d966",
   "metadata": {},
   "outputs": [
    {
     "name": "stdout",
     "output_type": "stream",
     "text": [
      "{'max_acc': (1.0, 0.7238372093023256), 'max_f1': (1.0, 0.6527941077903128), 'max_roc': (1.0, 0.7238372093023256)}\n"
     ]
    }
   ],
   "source": [
    "from sklearn.ensemble import RandomForestClassifier, AdaBoostClassifier\n",
    "\n",
    "alphas = np.logspace(0, 0, 1)\n",
    "model = AdaBoostClassifier()\n",
    "\n",
    "print(hyperparam_tune(model, alphas, 'tree', n_splits = 4, prnt=False))"
   ]
  },
  {
   "cell_type": "code",
   "execution_count": 15,
   "id": "d7cd390c",
   "metadata": {},
   "outputs": [
    {
     "name": "stdout",
     "output_type": "stream",
     "text": [
      "{'max_acc': (1.0, 0.8139534883720929), 'max_f1': (1.0, 0.7870290469271338), 'max_roc': (1.0, 0.813953488372093)}\n"
     ]
    }
   ],
   "source": [
    "alphas = np.logspace(0, 0, 1)\n",
    "model = RandomForestClassifier()\n",
    "\n",
    "print(hyperparam_tune(model, alphas, 'tree', n_splits = 4, prnt=False))"
   ]
  },
  {
   "cell_type": "markdown",
   "id": "31e4022f",
   "metadata": {},
   "source": [
    "## TODO: Make a list of classifiers with their parameters we wish to hyper-tune"
   ]
  },
  {
   "cell_type": "code",
   "execution_count": 16,
   "id": "ed010c28",
   "metadata": {},
   "outputs": [
    {
     "name": "stdout",
     "output_type": "stream",
     "text": [
      "0.6964285714285714\n",
      "0.2608695652173913\n",
      "0.533989266547406\n"
     ]
    }
   ],
   "source": [
    "# X_train_validation, X_test, y_train_validation, y_test = train_test_split(X, y, test_size=0.2, random_state=59, shuffle=True, stratify=y)\n",
    "\n",
    "model = RandomForestClassifier()\n",
    "model.fit(X_train_validation, y_train_validation)\n",
    "predictions = model.predict(X_test)\n",
    "print(accuracy_score(y_test, predictions))\n",
    "print(f1_score(y_test, predictions))\n",
    "print(roc_auc_score(y_test, predictions))"
   ]
  },
  {
   "cell_type": "code",
   "execution_count": 18,
   "id": "4b475c1f",
   "metadata": {},
   "outputs": [
    {
     "name": "stdout",
     "output_type": "stream",
     "text": [
      "0.6071428571428571\n",
      "0.21428571428571427\n",
      "0.47584973166368516\n"
     ]
    }
   ],
   "source": [
    "model = SVC(C=1000)\n",
    "model.fit(X_train_validation, y_train_validation)\n",
    "predictions = model.predict(X_test)\n",
    "print(accuracy_score(y_test, predictions))\n",
    "print(f1_score(y_test, predictions))\n",
    "print(roc_auc_score(y_test, predictions))"
   ]
  },
  {
   "cell_type": "code",
   "execution_count": null,
   "id": "805c540d",
   "metadata": {},
   "outputs": [],
   "source": []
  }
 ],
 "metadata": {
  "kernelspec": {
   "display_name": "cs590",
   "language": "python",
   "name": "cs590"
  },
  "language_info": {
   "codemirror_mode": {
    "name": "ipython",
    "version": 3
   },
   "file_extension": ".py",
   "mimetype": "text/x-python",
   "name": "python",
   "nbconvert_exporter": "python",
   "pygments_lexer": "ipython3",
   "version": "3.9.10"
  }
 },
 "nbformat": 4,
 "nbformat_minor": 5
}
